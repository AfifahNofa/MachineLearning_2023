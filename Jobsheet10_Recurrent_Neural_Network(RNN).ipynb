{
  "cells": [
    {
      "cell_type": "markdown",
      "metadata": {
        "id": "view-in-github",
        "colab_type": "text"
      },
      "source": [
        "<a href=\"https://colab.research.google.com/github/AfifahNofa/MachineLearning_2023/blob/main/Jobsheet10_Recurrent_Neural_Network(RNN).ipynb\" target=\"_parent\"><img src=\"https://colab.research.google.com/assets/colab-badge.svg\" alt=\"Open In Colab\"/></a>"
      ]
    },
    {
      "cell_type": "markdown",
      "metadata": {
        "id": "6NFHA5oRFN23"
      },
      "source": [
        "##**Nama    : Afifah Nofa Kurnia Rahmadani**\n",
        "##**Nim     : 2141720103**\n",
        "##**Kelas   : TI-3B**\n",
        "##**No.Abs  : 03**"
      ]
    },
    {
      "cell_type": "markdown",
      "metadata": {
        "id": "GpjXTqIBFO7s"
      },
      "source": [
        "#**JOBSHEET 10 - RECURRENT NEURAL NETWORK(RNN)**\n",
        "#Praktikum 1-RNN untuk Analisis Sentimen\n"
      ]
    },
    {
      "cell_type": "markdown",
      "metadata": {
        "id": "jQ7b7TNwFho3"
      },
      "source": [
        "**Setup**\n",
        "\n",
        "Impor matplotlib dan buat fungsi pembantu untuk memplot grafik:"
      ]
    },
    {
      "cell_type": "code",
      "execution_count": null,
      "metadata": {
        "id": "MJObLlviEU9S"
      },
      "outputs": [],
      "source": [
        "import numpy as np\n",
        "import tensorflow_datasets as tfds\n",
        "import tensorflow as tf\n",
        "\n",
        "tfds.disable_progress_bar()"
      ]
    },
    {
      "cell_type": "code",
      "execution_count": null,
      "metadata": {
        "id": "qIBMZR20FoVY"
      },
      "outputs": [],
      "source": [
        "import matplotlib.pyplot as plt\n",
        "\n",
        "def plot_graphs(history, metric):\n",
        "  plt.plot(history.history[metric])\n",
        "  plt.plot(history.history['val_'+metric], '')\n",
        "  plt.xlabel(\"Epochs\")\n",
        "  plt.ylabel(metric)\n",
        "  plt.legend([metric, 'val_'+metric])"
      ]
    },
    {
      "cell_type": "markdown",
      "metadata": {
        "id": "47kLvUJfFvRd"
      },
      "source": [
        "**Setup input pipeline**\n",
        "\n",
        "Dataset ulasan film IMDB adalah kumpulan data klasifikasi biner—semua ulasan memiliki sentimen positif atau negatif.\n",
        "Download dataset menggunakan TFDS. Lihat loading text tutorial jika ingin me load data secara manual"
      ]
    },
    {
      "cell_type": "code",
      "execution_count": null,
      "metadata": {
        "colab": {
          "base_uri": "https://localhost:8080/"
        },
        "id": "5Z6iXHqgF4Cc",
        "outputId": "98cef994-9236-491e-c630-4c2c22dd8509"
      },
      "outputs": [
        {
          "output_type": "stream",
          "name": "stdout",
          "text": [
            "Downloading and preparing dataset 80.23 MiB (download: 80.23 MiB, generated: Unknown size, total: 80.23 MiB) to /root/tensorflow_datasets/imdb_reviews/plain_text/1.0.0...\n",
            "Dataset imdb_reviews downloaded and prepared to /root/tensorflow_datasets/imdb_reviews/plain_text/1.0.0. Subsequent calls will reuse this data.\n"
          ]
        },
        {
          "output_type": "execute_result",
          "data": {
            "text/plain": [
              "(TensorSpec(shape=(), dtype=tf.string, name=None),\n",
              " TensorSpec(shape=(), dtype=tf.int64, name=None))"
            ]
          },
          "metadata": {},
          "execution_count": 3
        }
      ],
      "source": [
        "dataset, info = tfds.load('imdb_reviews', with_info=True,\n",
        "                          as_supervised=True)\n",
        "train_dataset, test_dataset = dataset['train'], dataset['test']\n",
        "\n",
        "train_dataset.element_spec"
      ]
    },
    {
      "cell_type": "markdown",
      "metadata": {
        "id": "O7PGBCbJF9Mt"
      },
      "source": [
        "Awalnya ini mengembalikan dataset (teks, pasangan label):"
      ]
    },
    {
      "cell_type": "code",
      "execution_count": null,
      "metadata": {
        "colab": {
          "base_uri": "https://localhost:8080/"
        },
        "id": "iupGIC5NF-GZ",
        "outputId": "021cea2d-5976-4b7d-c92e-519b586e41b7"
      },
      "outputs": [
        {
          "output_type": "stream",
          "name": "stdout",
          "text": [
            "texts:  [b\"I found this to be a surprisingly light-handed touch at a 1950's culture-clash movie. John Wayne would hardly be one's first choice as a cultural attache, being about as diplomatic with his good intentions as a bull-run in Harrods. But this time he was left to play a part that was far more passive than his usual bluff persona, and he accomplished his task with style. The Duke was a guy who really could act well. His facial expressions and body language could be extremely subtle.<br /><br />Despite his considerable presence both as an actor and in terms of screen time, he failed to dominate this movie. Many of his good intentions came a cropper. He had authority over nobody, and the intermittent narrative was provided by the titular geisha to whom he was the barbarian.<br /><br />The story of American attempts to curry favour with an isolationist Japan was one of political intrigue rather than swashbuckling or hell-for-leather battles. I cannot comment on the accuracy of its research but the strangeness of the Oriental culture to western sensibilities was demonstrated well. There was a great deal of minutely-choreographed ceremony entailing what looked to this observer like authentic costume and props. The set pieces were complex and detailed. A lot of money and thought had been applied to it.<br /><br />The fractured romance between Wayne and his geisha added a little extra element, and stopped the movie becoming just a political or flag-waving effort. Script was good without being too wordy. There was a great deal of Japanese dialogue, but the lengthy periods of translation didn't interfere with the narrative. It was nice to see plenty of genuine orientals on the set. Whether or not they were Japanese, I couldn't say. But anyway they looked the part. At least the leads were not played by cross-dressing Caucasians, unlike other efforts such as 'Blood Alley' (yes, I know they were Chinese) 'The Inn Of The Sixth Happiness' or even 'The King And I'.<br /><br />Frankly, I enjoyed this more than any of those other movies. The script was better for a start. I never liked the songs in 'The King And I', and wasn't impressed by the heavy-laden anti-communist subtext of 'Blood Alley'. I confess to never having seen this work before and found it compared very favourably to many of The Duke's more popular outings.<br /><br />Recommended.\"\n",
            " b'Polyester was the very first John Water\\'s film I saw, and I have to say that it was also the \"worst\" movie I had seen up to that point.<br /><br />Water\\'s group of \"talent\" included several people who I am sure worked for food, and were willing to say the lines Waters wrote. Every thing about the movie is terrible, acting, camera, editing, and the story about a woman played by 300 lb transvestite Divine was purely absurd.<br /><br />That said, I have to recommend this film because it is very funny, and you won\\'t believe the crap that happens to poor Francine. Her son huffs solvents and stomps unsuspecting women\\'s feet at the grocery store. Her daughter is the sluttiest slut in town. Her husband is a cackling A-hole of a pornographer who does everything in his power to embarrass and humiliate poor Francine.<br /><br />Francine\\'s only friend is played by Edith Massey, possibly the worst actress ever. Edith looks and sounds like she is reading the lines off a cue card and has never seen the script prior to filming.<br /><br />Despite all of Francine\\'s travails, Waters cooks up a fabulous Hollywood ending and everyone (who survives) lives happily ever after.'\n",
            " b\"I watched this film because I'm a big fan of River Phoenix and Joaquin Phoenix. I thought I would give their sister a try, Rain Phoenix. I regret checking it out. She was embarrasing and the film just has this weird plot if thats what you want to call it. Sissy was just weird and Jellybean just sits on a toilet who both sleep with this old man in the mountains, whats going on? I have never been so unsatisfied in my life. It was just total rubbish. I can't believe that the actors agreed to do such a waste of film, money, time and space. Have Sissy being 'beautiful' didnt get to me. I thought she was everything but that. Those thumbs were just stupid, and why do we care if she can hitchhike? WHATS THE POINT??? 0 out of 10, shame the poll doesnt have a 0, doesnt even deserve a 1. Hopefully, Rain is better in other films, I forgive her for this one performance, I mean I wouldnt do much better with that film.\"]\n",
            "\n",
            "labels:  [1 0 0]\n"
          ]
        }
      ],
      "source": [
        "BUFFER_SIZE = 10000\n",
        "BATCH_SIZE = 64\n",
        "\n",
        "train_dataset = train_dataset.shuffle(BUFFER_SIZE).batch(BATCH_SIZE).prefetch(tf.data.AUTOTUNE)\n",
        "test_dataset = test_dataset.batch(BATCH_SIZE).prefetch(tf.data.AUTOTUNE)\n",
        "\n",
        "for example, label in train_dataset.take(1):\n",
        "  print('texts: ', example.numpy()[:3])\n",
        "  print()\n",
        "  print('labels: ', label.numpy()[:3])\n"
      ]
    },
    {
      "cell_type": "markdown",
      "metadata": {
        "id": "efiRO8sEGLN2"
      },
      "source": [
        "**Buat Teks Encoder**\n",
        "\n",
        "Teks mentah yang dimuat oleh tfds perlu diproses sebelum dapat digunakan dalam model. Cara termudah memproses teks untuk pelatihan adalah menggunakan lapisan TextVectorization. Lapisan ini memiliki banyak kemampuan, namun pada tutorial ini menggunakan perilaku default. Buat lapisan tersebut, dan teruskan teks kumpulan data ke metode .adapt lapisan:"
      ]
    },
    {
      "cell_type": "code",
      "execution_count": null,
      "metadata": {
        "id": "THzmwTX9GQrc"
      },
      "outputs": [],
      "source": [
        "VOCAB_SIZE = 1000\n",
        "encoder = tf.keras.layers.TextVectorization(\n",
        "    max_tokens=VOCAB_SIZE)\n",
        "encoder.adapt(train_dataset.map(lambda text, label: text))"
      ]
    },
    {
      "cell_type": "markdown",
      "metadata": {
        "id": "nM2jG2ecGTwU"
      },
      "source": [
        "Metode .adapt mengatur kosakata lapisan. 20 token pertama dapat dilihat dengan kode berikut. Setelah padding dan token yang tidak diketahui, mereka diurutkan berdasarkan frekuensi:"
      ]
    },
    {
      "cell_type": "code",
      "execution_count": null,
      "metadata": {
        "colab": {
          "base_uri": "https://localhost:8080/"
        },
        "id": "dxWpHwXDGV7O",
        "outputId": "cda34e10-2972-4568-c6d6-2ef03240e9df"
      },
      "outputs": [
        {
          "output_type": "execute_result",
          "data": {
            "text/plain": [
              "array(['', '[UNK]', 'the', 'and', 'a', 'of', 'to', 'is', 'in', 'it', 'i',\n",
              "       'this', 'that', 'br', 'was', 'as', 'for', 'with', 'movie', 'but'],\n",
              "      dtype='<U14')"
            ]
          },
          "metadata": {},
          "execution_count": 6
        }
      ],
      "source": [
        "vocab = np.array(encoder.get_vocabulary())\n",
        "vocab[:20]"
      ]
    },
    {
      "cell_type": "markdown",
      "metadata": {
        "id": "QBGP7Je4GfAk"
      },
      "source": [
        "Setelah kosakata diatur, lapisan dapat mengkodekan teks ke dalam indeks. Tensor indeks diberi bantalan 0 ke urutan terpanjang dalam batch (kecuali jika Anda menetapkan output_sequence_length tetap):"
      ]
    },
    {
      "cell_type": "code",
      "execution_count": null,
      "metadata": {
        "colab": {
          "base_uri": "https://localhost:8080/"
        },
        "id": "ub7LrIzSGf4-",
        "outputId": "0a88e0b2-8b3f-475e-a8e2-dbb91d810fdf"
      },
      "outputs": [
        {
          "output_type": "execute_result",
          "data": {
            "text/plain": [
              "array([[ 10, 249,  11, ...,   0,   0,   0],\n",
              "       [  1,  14,   2, ...,   0,   0,   0],\n",
              "       [ 10, 284,  11, ...,   0,   0,   0]])"
            ]
          },
          "metadata": {},
          "execution_count": 7
        }
      ],
      "source": [
        "encoded_example = encoder(example)[:3].numpy()\n",
        "encoded_example"
      ]
    },
    {
      "cell_type": "markdown",
      "metadata": {
        "id": "zWOJGJavGkQF"
      },
      "source": [
        "Dengan pengaturan default, prosesnya tidak dapat dibalik sepenuhnya. Ada dua alasan utama untuk itu:\n",
        "- Nilai default untuk argumen standarisasi preprocessing.TextVectorization adalah \"lower_and_strip_punctuation\".\n",
        "- Ukuran kosa kata yang terbatas dan kurangnya fallback berbasis karakter menghasilkan beberapa token yang tidak diketahui."
      ]
    },
    {
      "cell_type": "code",
      "execution_count": null,
      "metadata": {
        "colab": {
          "base_uri": "https://localhost:8080/"
        },
        "id": "Z7c69tR8GpeT",
        "outputId": "f9182c18-d9a7-4814-d289-c793bcaac760"
      },
      "outputs": [
        {
          "output_type": "stream",
          "name": "stdout",
          "text": [
            "Original:  b\"I found this to be a surprisingly light-handed touch at a 1950's culture-clash movie. John Wayne would hardly be one's first choice as a cultural attache, being about as diplomatic with his good intentions as a bull-run in Harrods. But this time he was left to play a part that was far more passive than his usual bluff persona, and he accomplished his task with style. The Duke was a guy who really could act well. His facial expressions and body language could be extremely subtle.<br /><br />Despite his considerable presence both as an actor and in terms of screen time, he failed to dominate this movie. Many of his good intentions came a cropper. He had authority over nobody, and the intermittent narrative was provided by the titular geisha to whom he was the barbarian.<br /><br />The story of American attempts to curry favour with an isolationist Japan was one of political intrigue rather than swashbuckling or hell-for-leather battles. I cannot comment on the accuracy of its research but the strangeness of the Oriental culture to western sensibilities was demonstrated well. There was a great deal of minutely-choreographed ceremony entailing what looked to this observer like authentic costume and props. The set pieces were complex and detailed. A lot of money and thought had been applied to it.<br /><br />The fractured romance between Wayne and his geisha added a little extra element, and stopped the movie becoming just a political or flag-waving effort. Script was good without being too wordy. There was a great deal of Japanese dialogue, but the lengthy periods of translation didn't interfere with the narrative. It was nice to see plenty of genuine orientals on the set. Whether or not they were Japanese, I couldn't say. But anyway they looked the part. At least the leads were not played by cross-dressing Caucasians, unlike other efforts such as 'Blood Alley' (yes, I know they were Chinese) 'The Inn Of The Sixth Happiness' or even 'The King And I'.<br /><br />Frankly, I enjoyed this more than any of those other movies. The script was better for a start. I never liked the songs in 'The King And I', and wasn't impressed by the heavy-laden anti-communist subtext of 'Blood Alley'. I confess to never having seen this work before and found it compared very favourably to many of The Duke's more popular outings.<br /><br />Recommended.\"\n",
            "Round-trip:  i found this to be a [UNK] [UNK] [UNK] at a [UNK] [UNK] movie john [UNK] would hardly be ones first [UNK] as a [UNK] [UNK] being about as [UNK] with his good [UNK] as a [UNK] in [UNK] but this time he was left to play a part that was far more [UNK] than his usual [UNK] [UNK] and he [UNK] his [UNK] with style the [UNK] was a guy who really could act well his [UNK] [UNK] and body [UNK] could be extremely [UNK] br despite his [UNK] [UNK] both as an actor and in [UNK] of screen time he [UNK] to [UNK] this movie many of his good [UNK] came a [UNK] he had [UNK] over [UNK] and the [UNK] [UNK] was [UNK] by the [UNK] [UNK] to whom he was the [UNK] br the story of american attempts to [UNK] [UNK] with an [UNK] [UNK] was one of political [UNK] rather than [UNK] or [UNK] [UNK] i cannot comment on the [UNK] of its [UNK] but the [UNK] of the [UNK] [UNK] to [UNK] [UNK] was [UNK] well there was a great deal of [UNK] [UNK] [UNK] what looked to this [UNK] like [UNK] [UNK] and [UNK] the set [UNK] were [UNK] and [UNK] a lot of money and thought had been [UNK] to itbr br the [UNK] romance between [UNK] and his [UNK] [UNK] a little [UNK] [UNK] and [UNK] the movie [UNK] just a political or [UNK] effort script was good without being too [UNK] there was a great deal of japanese dialogue but the [UNK] [UNK] of [UNK] didnt [UNK] with the [UNK] it was nice to see plenty of [UNK] [UNK] on the set whether or not they were japanese i couldnt say but anyway they looked the part at least the leads were not played by [UNK] [UNK] unlike other [UNK] such as blood [UNK] yes i know they were [UNK] the [UNK] of the [UNK] [UNK] or even the king and [UNK] br [UNK] i enjoyed this more than any of those other movies the script was better for a start i never liked the songs in the king and i and wasnt [UNK] by the [UNK] [UNK] [UNK] of blood [UNK] i [UNK] to never having seen this work before and found it [UNK] very [UNK] to many of the [UNK] more [UNK] [UNK] br [UNK]                                                                                                                                                                                                                                                                                                                       \n",
            "\n",
            "Original:  b'Polyester was the very first John Water\\'s film I saw, and I have to say that it was also the \"worst\" movie I had seen up to that point.<br /><br />Water\\'s group of \"talent\" included several people who I am sure worked for food, and were willing to say the lines Waters wrote. Every thing about the movie is terrible, acting, camera, editing, and the story about a woman played by 300 lb transvestite Divine was purely absurd.<br /><br />That said, I have to recommend this film because it is very funny, and you won\\'t believe the crap that happens to poor Francine. Her son huffs solvents and stomps unsuspecting women\\'s feet at the grocery store. Her daughter is the sluttiest slut in town. Her husband is a cackling A-hole of a pornographer who does everything in his power to embarrass and humiliate poor Francine.<br /><br />Francine\\'s only friend is played by Edith Massey, possibly the worst actress ever. Edith looks and sounds like she is reading the lines off a cue card and has never seen the script prior to filming.<br /><br />Despite all of Francine\\'s travails, Waters cooks up a fabulous Hollywood ending and everyone (who survives) lives happily ever after.'\n",
            "Round-trip:  [UNK] was the very first john [UNK] film i saw and i have to say that it was also the worst movie i had seen up to that [UNK] br [UNK] group of talent [UNK] several people who i am sure worked for [UNK] and were [UNK] to say the lines [UNK] [UNK] every thing about the movie is terrible acting camera editing and the story about a woman played by [UNK] [UNK] [UNK] [UNK] was [UNK] [UNK] br that said i have to recommend this film because it is very funny and you wont believe the crap that happens to poor [UNK] her son [UNK] [UNK] and [UNK] [UNK] [UNK] [UNK] at the [UNK] [UNK] her daughter is the [UNK] [UNK] in town her husband is a [UNK] [UNK] of a [UNK] who does everything in his power to [UNK] and [UNK] poor [UNK] br [UNK] only friend is played by [UNK] [UNK] possibly the worst actress ever [UNK] looks and sounds like she is reading the lines off a [UNK] [UNK] and has never seen the script [UNK] to [UNK] br despite all of [UNK] [UNK] [UNK] [UNK] up a [UNK] hollywood ending and everyone who [UNK] lives [UNK] ever after                                                                                                                                                                                                                                                                                                                                                                                                                                                                                                                         \n",
            "\n",
            "Original:  b\"I watched this film because I'm a big fan of River Phoenix and Joaquin Phoenix. I thought I would give their sister a try, Rain Phoenix. I regret checking it out. She was embarrasing and the film just has this weird plot if thats what you want to call it. Sissy was just weird and Jellybean just sits on a toilet who both sleep with this old man in the mountains, whats going on? I have never been so unsatisfied in my life. It was just total rubbish. I can't believe that the actors agreed to do such a waste of film, money, time and space. Have Sissy being 'beautiful' didnt get to me. I thought she was everything but that. Those thumbs were just stupid, and why do we care if she can hitchhike? WHATS THE POINT??? 0 out of 10, shame the poll doesnt have a 0, doesnt even deserve a 1. Hopefully, Rain is better in other films, I forgive her for this one performance, I mean I wouldnt do much better with that film.\"\n",
            "Round-trip:  i watched this film because im a big fan of [UNK] [UNK] and [UNK] [UNK] i thought i would give their sister a try [UNK] [UNK] i [UNK] [UNK] it out she was [UNK] and the film just has this weird plot if thats what you want to call it [UNK] was just weird and [UNK] just [UNK] on a [UNK] who both [UNK] with this old man in the [UNK] whats going on i have never been so [UNK] in my life it was just total [UNK] i cant believe that the actors [UNK] to do such a waste of film money time and space have [UNK] being beautiful didnt get to me i thought she was everything but that those [UNK] were just stupid and why do we care if she can [UNK] whats the point [UNK] out of 10 shame the [UNK] doesnt have a [UNK] doesnt even [UNK] a 1 [UNK] [UNK] is better in other films i [UNK] her for this one performance i mean i wouldnt do much better with that film                                                                                                                                                                                                                                                                                                                                                                                                                                                                                                                                                  \n",
            "\n"
          ]
        }
      ],
      "source": [
        "for n in range(3):\n",
        "  print(\"Original: \", example[n].numpy())\n",
        "  print(\"Round-trip: \", \" \".join(vocab[encoded_example[n]]))\n",
        "  print()"
      ]
    },
    {
      "cell_type": "markdown",
      "metadata": {
        "id": "CtaCOzxVGsiF"
      },
      "source": [
        "**Buat Model**\n",
        "1. Model ini dapat dibuat sebagai tf.keras.Sequential.\n",
        "2. Lapisan pertama adalah encoder, yang mengubah teks menjadi urutan indeks token.\n",
        "Setelah encoder adalah lapisan penyematan (embedding layer). Lapisan penyematan menyimpan satu vektor per kata. Saat dipanggil, ini mengubah rangkaian indeks kata menjadi rangkaian vektor. Vektor-vektor ini dapat dilatih.\n",
        "3. Setelah pelatihan (dengan data yang cukup), kata-kata dengan arti yang mirip sering kali memiliki vektor yang serupa. Pencarian indeks ini jauh lebih efisien daripada operasi setara dengan meneruskan vektor yang disandikan one-hot melalui lapisan tf.keras.layers.Dense.\n",
        "4. Jaringan saraf berulang (RNN) memproses masukan urutan dengan melakukan iterasi melalui elemen. RNN meneruskan keluaran dari satu langkah waktu ke masukannya pada langkah waktu berikutnya.\n",
        "Pembungkus tf.keras.layers.Bidirection juga dapat digunakan dengan lapisan RNN. Ini menyebarkan masukan maju dan mundur melalui lapisan RNN dan kemudian menggabungkan keluaran akhir.\n",
        "- Keuntungan utama RNN dua arah adalah sinyal dari awal masukan tidak perlu diproses sepanjang waktu untuk memengaruhi keluaran.\n",
        "- Kerugian utama dari RNN dua arah adalah Anda tidak dapat melakukan streaming prediksi secara efisien saat kata-kata ditambahkan di akhir.\n",
        "5. Setelah RNN mengonversi urutan menjadi satu vektor, kedua lapisan tersebut.Dense melakukan beberapa pemrosesan akhir, dan mengonversi representasi vektor ini menjadi logit tunggal sebagai keluaran klasifikasi."
      ]
    },
    {
      "cell_type": "code",
      "execution_count": null,
      "metadata": {
        "id": "r7k8m8g_HDAO"
      },
      "outputs": [],
      "source": [
        "model = tf.keras.Sequential([\n",
        "    encoder,\n",
        "    tf.keras.layers.Embedding(\n",
        "        input_dim=len(encoder.get_vocabulary()),\n",
        "        output_dim=64,\n",
        "        # Use masking to handle the variable sequence lengths\n",
        "        mask_zero=True),\n",
        "    tf.keras.layers.Bidirectional(tf.keras.layers.LSTM(64)),\n",
        "    tf.keras.layers.Dense(64, activation='relu'),\n",
        "    tf.keras.layers.Dense(1)\n",
        "])"
      ]
    },
    {
      "cell_type": "markdown",
      "metadata": {
        "id": "dhImMeM9HGRh"
      },
      "source": [
        "Harap dicatat bahwa model sekuensial Keras digunakan karena semua lapisan dalam model hanya memiliki masukan tunggal dan menghasilkan keluaran tunggal. Jika ingin menggunakan lapisan RNN stateful, Anda mungkin ingin membangun model Anda dengan API fungsional Keras atau subkelas model sehingga Anda dapat mengambil dan menggunakan kembali status lapisan RNN. Untuk detailnya bisa dilihat pada Keras RNN guide\n",
        "Lapisan penyematan menggunakan masking (uses masking ) untuk menangani panjang urutan yang bervariasi. Semua lapisan setelah penyematan dukungan penyematan"
      ]
    },
    {
      "cell_type": "code",
      "execution_count": null,
      "metadata": {
        "colab": {
          "base_uri": "https://localhost:8080/"
        },
        "id": "lEEghhqCHRum",
        "outputId": "8035812b-5fdf-4065-a0e8-10f341b9a073"
      },
      "outputs": [
        {
          "output_type": "stream",
          "name": "stdout",
          "text": [
            "[False, True, True, True, True]\n"
          ]
        }
      ],
      "source": [
        "print([layer.supports_masking for layer in model.layers])"
      ]
    },
    {
      "cell_type": "markdown",
      "metadata": {
        "id": "NSRNlHU9HaTX"
      },
      "source": [
        "Untuk memastikan bahwa ini berfungsi seperti yang diharapkan, evaluasi sebuah kalimat dua kali. Pertama, satu kalimat sehingga tidak ada bantalan (padding) untuk disamarkan:"
      ]
    },
    {
      "cell_type": "code",
      "execution_count": null,
      "metadata": {
        "colab": {
          "base_uri": "https://localhost:8080/"
        },
        "id": "LvqSVMECHjzY",
        "outputId": "b864b67a-eb50-4f39-f33c-4f517b2bae45"
      },
      "outputs": [
        {
          "output_type": "stream",
          "name": "stdout",
          "text": [
            "1/1 [==============================] - 9s 9s/step\n",
            "[0.00538949]\n"
          ]
        }
      ],
      "source": [
        "# predict on a sample text without padding.\n",
        "\n",
        "sample_text = ('The movie was cool. The animation and the graphics '\n",
        "               'were out of this world. I would recommend this movie.')\n",
        "predictions = model.predict(np.array([sample_text]))\n",
        "print(predictions[0])"
      ]
    },
    {
      "cell_type": "markdown",
      "metadata": {
        "id": "wt46KDxxHmQt"
      },
      "source": [
        "Sekarang, evaluasi lagi dalam batch dengan kalimat yang lebih panjang. Hasilnya harus sama:"
      ]
    },
    {
      "cell_type": "code",
      "execution_count": null,
      "metadata": {
        "colab": {
          "base_uri": "https://localhost:8080/"
        },
        "id": "eLNP5ZEzHoqT",
        "outputId": "8534200c-137d-4d8a-ff9a-8fff9a30a113"
      },
      "outputs": [
        {
          "output_type": "stream",
          "name": "stdout",
          "text": [
            "1/1 [==============================] - 0s 61ms/step\n",
            "[0.00538949]\n"
          ]
        }
      ],
      "source": [
        "# predict on a sample text with padding\n",
        "\n",
        "padding = \"the \" * 2000\n",
        "predictions = model.predict(np.array([sample_text, padding]))\n",
        "print(predictions[0])"
      ]
    },
    {
      "cell_type": "markdown",
      "metadata": {
        "id": "ge6Nhvn-Hq3t"
      },
      "source": [
        "compile model Keras untuk mengonfigurasi proses pelatihan:"
      ]
    },
    {
      "cell_type": "code",
      "execution_count": null,
      "metadata": {
        "id": "eYAG5hdlHssS"
      },
      "outputs": [],
      "source": [
        "model.compile(loss=tf.keras.losses.BinaryCrossentropy(from_logits=True),\n",
        "              optimizer=tf.keras.optimizers.Adam(1e-4),\n",
        "              metrics=['accuracy'])"
      ]
    },
    {
      "cell_type": "markdown",
      "metadata": {
        "id": "8VOEQaapHvVp"
      },
      "source": [
        "**Train Model**"
      ]
    },
    {
      "cell_type": "code",
      "execution_count": null,
      "metadata": {
        "colab": {
          "base_uri": "https://localhost:8080/"
        },
        "id": "Ukp6bU6CHyYq",
        "outputId": "032f9b96-343c-4490-9b7d-f87427866335"
      },
      "outputs": [
        {
          "output_type": "stream",
          "name": "stdout",
          "text": [
            "Epoch 1/10\n",
            "391/391 [==============================] - 52s 105ms/step - loss: 0.6486 - accuracy: 0.5646 - val_loss: 0.5845 - val_accuracy: 0.6146\n",
            "Epoch 2/10\n",
            "391/391 [==============================] - 25s 64ms/step - loss: 0.4219 - accuracy: 0.7925 - val_loss: 0.3650 - val_accuracy: 0.8385\n",
            "Epoch 3/10\n",
            "391/391 [==============================] - 27s 69ms/step - loss: 0.3458 - accuracy: 0.8475 - val_loss: 0.3438 - val_accuracy: 0.8505\n",
            "Epoch 4/10\n",
            "391/391 [==============================] - 29s 73ms/step - loss: 0.3267 - accuracy: 0.8586 - val_loss: 0.3296 - val_accuracy: 0.8562\n",
            "Epoch 5/10\n",
            "391/391 [==============================] - 27s 67ms/step - loss: 0.3152 - accuracy: 0.8630 - val_loss: 0.3246 - val_accuracy: 0.8505\n",
            "Epoch 6/10\n",
            "391/391 [==============================] - 27s 69ms/step - loss: 0.3093 - accuracy: 0.8652 - val_loss: 0.3247 - val_accuracy: 0.8474\n",
            "Epoch 7/10\n",
            "391/391 [==============================] - 27s 69ms/step - loss: 0.3050 - accuracy: 0.8687 - val_loss: 0.3372 - val_accuracy: 0.8620\n",
            "Epoch 8/10\n",
            "391/391 [==============================] - 27s 69ms/step - loss: 0.3024 - accuracy: 0.8710 - val_loss: 0.3273 - val_accuracy: 0.8552\n",
            "Epoch 9/10\n",
            "391/391 [==============================] - 27s 69ms/step - loss: 0.3034 - accuracy: 0.8693 - val_loss: 0.3388 - val_accuracy: 0.8318\n",
            "Epoch 10/10\n",
            "391/391 [==============================] - 27s 69ms/step - loss: 0.3008 - accuracy: 0.8720 - val_loss: 0.3216 - val_accuracy: 0.8594\n"
          ]
        }
      ],
      "source": [
        "history = model.fit(train_dataset, epochs=10,\n",
        " validation_data=test_dataset,\n",
        " validation_steps=30)"
      ]
    },
    {
      "cell_type": "code",
      "execution_count": null,
      "metadata": {
        "colab": {
          "base_uri": "https://localhost:8080/"
        },
        "id": "XkcfK5J9H4U9",
        "outputId": "c9cb986e-c65b-4ebc-eecc-4f17d5670148"
      },
      "outputs": [
        {
          "output_type": "stream",
          "name": "stdout",
          "text": [
            "391/391 [==============================] - 12s 32ms/step - loss: 0.3200 - accuracy: 0.8631\n",
            "Test Loss: 0.31998342275619507\n",
            "Test Accuracy: 0.8630800247192383\n"
          ]
        }
      ],
      "source": [
        "test_loss, test_acc = model.evaluate(test_dataset)\n",
        "\n",
        "print('Test Loss:', test_loss)\n",
        "print('Test Accuracy:', test_acc)\n"
      ]
    },
    {
      "cell_type": "code",
      "execution_count": null,
      "metadata": {
        "id": "DdrPpp_g1GC8",
        "colab": {
          "base_uri": "https://localhost:8080/",
          "height": 383
        },
        "outputId": "5b2a8429-00ba-4ab7-9e0e-1cdd20e19101"
      },
      "outputs": [
        {
          "output_type": "execute_result",
          "data": {
            "text/plain": [
              "(0.0, 0.6659495398402214)"
            ]
          },
          "metadata": {},
          "execution_count": 16
        },
        {
          "output_type": "display_data",
          "data": {
            "text/plain": [
              "<Figure size 1600x800 with 2 Axes>"
            ],
            "image/png": "[encoded data removed]"
          },
          "metadata": {}
        }
      ],
      "source": [
        "plt.figure(figsize=(16, 8))\n",
        "plt.subplot(1, 2, 1)\n",
        "plot_graphs(history, 'accuracy')\n",
        "plt.ylim(None, 1)\n",
        "plt.subplot(1, 2, 2)\n",
        "plot_graphs(history, 'loss')\n",
        "plt.ylim(0, None)"
      ]
    },
    {
      "cell_type": "markdown",
      "metadata": {
        "id": "J3SsHXvs1HPC"
      },
      "source": [
        "Jalankan prediksi pada kalimat baru:\n",
        "\n",
        "Jika prediksi >= 0,0 berarti positif, jika tidak maka negatif."
      ]
    },
    {
      "cell_type": "code",
      "execution_count": null,
      "metadata": {
        "id": "OYkMfRx71Kxq",
        "colab": {
          "base_uri": "https://localhost:8080/"
        },
        "outputId": "4fba0cbb-3097-4502-8f4b-11107c081fce"
      },
      "outputs": [
        {
          "output_type": "stream",
          "name": "stdout",
          "text": [
            "1/1 [==============================] - 3s 3s/step\n"
          ]
        }
      ],
      "source": [
        "sample_text = ('The movie was cool. The animation and the graphics ' 'were out of this world. I would recommend this movie.')\n",
        "predictions = model.predict(np.array([sample_text]))"
      ]
    },
    {
      "cell_type": "markdown",
      "metadata": {
        "id": "8ftZyiFS1MUo"
      },
      "source": [
        "**Stack two or more LSTM layers**\n",
        "\n",
        "Lapisan berulang Keras memiliki dua mode yang tersedia yang dikontrol oleh argumen konstruktor return_sequences :\n",
        "- Jika False, ia hanya mengembalikan keluaran terakhir untuk setiap urutan masukan (bentuk tensor 2D (batch_size, output_features)). Ini adalah default yang digunakan pada model sebelumnya.\n",
        "- Jika True, Sequence lengkap output berturut-turut untuk setiap langkah waktu dikembalikan (bentuk tensor 3D (ukuran_batch, langkah waktu, fitur_output)).\n",
        "\n",
        "Hal yang menarik dari penggunaan RNN dengan return_sequences=True adalah outputnya masih memiliki 3 axis, sama seperti inputnya, sehingga bisa diteruskan ke layer RNN lain, seperti ini:"
      ]
    },
    {
      "cell_type": "code",
      "execution_count": null,
      "metadata": {
        "id": "FPej-ZWw1cxW"
      },
      "outputs": [],
      "source": [
        "model = tf.keras.Sequential([\n",
        "  encoder,tf.keras.layers.Embedding(len(encoder.get_vocabulary()), 64, mask_zero=True),\n",
        "  tf.keras.layers.Bidirectional(tf.keras.layers.LSTM(64, return_sequences=True)),\n",
        "  tf.keras.layers.Bidirectional(tf.keras.layers.LSTM(32)),\n",
        "  tf.keras.layers.Dense(64, activation='relu'),\n",
        "  tf.keras.layers.Dropout(0.5),\n",
        " tf.keras.layers.Dense(1)\n",
        "])"
      ]
    },
    {
      "cell_type": "code",
      "execution_count": null,
      "metadata": {
        "id": "O_4TDTqu1mbv"
      },
      "outputs": [],
      "source": [
        "model.compile(loss=tf.keras.losses.BinaryCrossentropy(from_logits=True),\n",
        " optimizer=tf.keras.optimizers.Adam(1e-4),\n",
        " metrics=['accuracy'])"
      ]
    },
    {
      "cell_type": "code",
      "execution_count": null,
      "metadata": {
        "id": "lXYCw8EP1oH5",
        "colab": {
          "base_uri": "https://localhost:8080/"
        },
        "outputId": "a43ba065-e2b3-4d74-913b-f02e95094eef"
      },
      "outputs": [
        {
          "output_type": "stream",
          "name": "stdout",
          "text": [
            "Epoch 1/10\n",
            "391/391 [==============================] - 92s 158ms/step - loss: 0.6506 - accuracy: 0.5582 - val_loss: 0.4553 - val_accuracy: 0.8068\n",
            "Epoch 2/10\n",
            "391/391 [==============================] - 66s 167ms/step - loss: 0.3922 - accuracy: 0.8283 - val_loss: 0.3518 - val_accuracy: 0.8484\n",
            "Epoch 3/10\n",
            "391/391 [==============================] - 55s 140ms/step - loss: 0.3383 - accuracy: 0.8514 - val_loss: 0.3414 - val_accuracy: 0.8531\n",
            "Epoch 4/10\n",
            "391/391 [==============================] - 46s 118ms/step - loss: 0.3253 - accuracy: 0.8603 - val_loss: 0.3278 - val_accuracy: 0.8484\n",
            "Epoch 5/10\n",
            "391/391 [==============================] - 48s 123ms/step - loss: 0.3143 - accuracy: 0.8689 - val_loss: 0.3158 - val_accuracy: 0.8583\n",
            "Epoch 6/10\n",
            "391/391 [==============================] - 47s 120ms/step - loss: 0.3100 - accuracy: 0.8679 - val_loss: 0.3315 - val_accuracy: 0.8406\n",
            "Epoch 7/10\n",
            "391/391 [==============================] - 46s 117ms/step - loss: 0.3056 - accuracy: 0.8702 - val_loss: 0.3267 - val_accuracy: 0.8620\n",
            "Epoch 8/10\n",
            "391/391 [==============================] - 48s 123ms/step - loss: 0.3029 - accuracy: 0.8706 - val_loss: 0.3178 - val_accuracy: 0.8536\n",
            "Epoch 9/10\n",
            "391/391 [==============================] - 48s 121ms/step - loss: 0.2995 - accuracy: 0.8738 - val_loss: 0.3175 - val_accuracy: 0.8464\n",
            "Epoch 10/10\n",
            "391/391 [==============================] - 47s 120ms/step - loss: 0.2971 - accuracy: 0.8740 - val_loss: 0.3349 - val_accuracy: 0.8557\n"
          ]
        }
      ],
      "source": [
        "history = model.fit(train_dataset, epochs=10,\n",
        " validation_data=test_dataset,\n",
        " validation_steps=30)"
      ]
    },
    {
      "cell_type": "code",
      "execution_count": null,
      "metadata": {
        "id": "W69DuZXx1qLk",
        "colab": {
          "base_uri": "https://localhost:8080/"
        },
        "outputId": "9cda0a74-28be-4834-a1bf-9d5fb2a91b6e"
      },
      "outputs": [
        {
          "output_type": "stream",
          "name": "stdout",
          "text": [
            "391/391 [==============================] - 19s 49ms/step - loss: 0.3324 - accuracy: 0.8615\n",
            "Test Loss: 0.3323632776737213\n",
            "Test Accuracy: 0.8614799976348877\n"
          ]
        }
      ],
      "source": [
        "test_loss, test_acc = model.evaluate(test_dataset)\n",
        "\n",
        "print('Test Loss:', test_loss)\n",
        "print('Test Accuracy:', test_acc)"
      ]
    },
    {
      "cell_type": "code",
      "execution_count": null,
      "metadata": {
        "id": "qU-klqnF1rit",
        "colab": {
          "base_uri": "https://localhost:8080/"
        },
        "outputId": "0eed7e3a-ad90-4a9b-a5fb-cef82bb3217b"
      },
      "outputs": [
        {
          "output_type": "stream",
          "name": "stdout",
          "text": [
            "1/1 [==============================] - 7s 7s/step\n",
            "[[-1.5339401]]\n"
          ]
        }
      ],
      "source": [
        "# predict on a sample text without padding.\n",
        "\n",
        "sample_text = ('The movie was not good. The animation and the graphics ''were terrible. I would not recommend this movie.')\n",
        "predictions = model.predict(np.array([sample_text]))\n",
        "print(predictions)"
      ]
    },
    {
      "cell_type": "code",
      "execution_count": null,
      "metadata": {
        "id": "K_pg4kCT1s6A",
        "colab": {
          "base_uri": "https://localhost:8080/",
          "height": 282
        },
        "outputId": "fe93919e-c1bd-47a9-dd3b-b99e7fa610a9"
      },
      "outputs": [
        {
          "output_type": "display_data",
          "data": {
            "text/plain": [
              "<Figure size 1600x600 with 2 Axes>"
            ],
            "image/png": "[encoded data removed]"
          },
          "metadata": {}
        }
      ],
      "source": [
        "plt.figure(figsize=(16, 6))\n",
        "plt.subplot(1, 2, 1)\n",
        "plot_graphs(history, 'accuracy')\n",
        "plt.subplot(1, 2, 2)\n",
        "plot_graphs(history, 'loss')"
      ]
    },
    {
      "cell_type": "markdown",
      "metadata": {
        "id": "gfnh910F5HXz"
      },
      "source": [
        "#Praktikum 2-Generator Teks dengan RNN\n"
      ]
    },
    {
      "cell_type": "markdown",
      "metadata": {
        "id": "160iNUWhA4ZS"
      },
      "source": [
        "Praktikum ini mendemonstrasikan cara melakukan genearsi text menggunakan RNN. Dataset yang digunkan adalah dataset Shakespeare's writing from Andrej Karpathy's The Unreasonable Effectiveness of Recurrent Neural Networks. Jika diberikan urutan karakter dari data ini (\"Shakespear\"), latih model untuk memprediksi karakter berikutnya dalam urutan (\"e\"). Urutan teks yang lebih panjang dapat dihasilkan dengan memanggil model berulang kali."
      ]
    },
    {
      "cell_type": "markdown",
      "metadata": {
        "id": "gTEh34UuBnVF"
      },
      "source": [
        "##**Setup**"
      ]
    },
    {
      "cell_type": "markdown",
      "metadata": {
        "id": "Ltkhwlp3BsiB"
      },
      "source": [
        "Import TensorFlow"
      ]
    },
    {
      "cell_type": "code",
      "execution_count": null,
      "metadata": {
        "id": "xNODmKEgByqa"
      },
      "outputs": [],
      "source": [
        "import tensorflow as tf\n",
        "import numpy as np\n",
        "import os\n",
        "import time"
      ]
    },
    {
      "cell_type": "markdown",
      "metadata": {
        "id": "ZvD31YRgEQBe"
      },
      "source": [
        "Download Dataset Shakespeare\n",
        "\n",
        "Sesuaikan dengan lokasi data yang Anda punya."
      ]
    },
    {
      "cell_type": "code",
      "execution_count": null,
      "metadata": {
        "id": "Jz-DNH2aEStw",
        "colab": {
          "base_uri": "https://localhost:8080/"
        },
        "outputId": "3e0a75e3-c9e1-46ce-eb34-9ed3796889e1"
      },
      "outputs": [
        {
          "output_type": "stream",
          "name": "stdout",
          "text": [
            "Downloading data from https://storage.googleapis.com/download.tensorflow.org/data/shakespeare.txt\n",
            "1115394/1115394 [==============================] - 1s 1us/step\n"
          ]
        }
      ],
      "source": [
        "path_to_file=tf.keras.utils.get_file('shakespeare.txt','https://storage.googleapis.com/download.tensorflow.org/data/shakespeare.txt')"
      ]
    },
    {
      "cell_type": "markdown",
      "metadata": {
        "id": "bjiS_GygEbyr"
      },
      "source": [
        "Load Data"
      ]
    },
    {
      "cell_type": "code",
      "execution_count": null,
      "metadata": {
        "id": "yC8HqTyjEdLS",
        "colab": {
          "base_uri": "https://localhost:8080/"
        },
        "outputId": "1e37f701-953e-48c7-c323-f20f5df06e80"
      },
      "outputs": [
        {
          "output_type": "stream",
          "name": "stdout",
          "text": [
            "Length of text: 1115394 characters\n"
          ]
        }
      ],
      "source": [
        "# Read, then decode for py2 compat.\n",
        "text = open(path_to_file, 'rb').read().decode(encoding='utf-8')\n",
        "# length of text is the number of characters in it\n",
        "print(f'Length of text: {len(text)} characters')"
      ]
    },
    {
      "cell_type": "code",
      "execution_count": null,
      "metadata": {
        "id": "AMzUVACUEe_E",
        "colab": {
          "base_uri": "https://localhost:8080/"
        },
        "outputId": "745b8a9f-4f2f-4b8a-e705-39cc7b89456d"
      },
      "outputs": [
        {
          "output_type": "stream",
          "name": "stdout",
          "text": [
            "First Citizen:\n",
            "Before we proceed any further, hear me speak.\n",
            "\n",
            "All:\n",
            "Speak, speak.\n",
            "\n",
            "First Citizen:\n",
            "You are all resolved rather to die than to famish?\n",
            "\n",
            "All:\n",
            "Resolved. resolved.\n",
            "\n",
            "First Citizen:\n",
            "First, you know Caius Marcius is chief enemy to the people.\n",
            "\n"
          ]
        }
      ],
      "source": [
        "# Take a look at the first 250 characters in text\n",
        "print(text[:250])"
      ]
    },
    {
      "cell_type": "code",
      "execution_count": null,
      "metadata": {
        "id": "aaW2wRRyEgbW",
        "colab": {
          "base_uri": "https://localhost:8080/"
        },
        "outputId": "92944503-52c4-461a-cbf8-f50d91868685"
      },
      "outputs": [
        {
          "output_type": "stream",
          "name": "stdout",
          "text": [
            "65 unique characters\n"
          ]
        }
      ],
      "source": [
        "# The unique characters in the file\n",
        "vocab = sorted(set(text))\n",
        "print(f'{len(vocab)} unique characters')"
      ]
    },
    {
      "cell_type": "markdown",
      "metadata": {
        "id": "B2XGoiPhEjNs"
      },
      "source": [
        "##**Olah Teks**\n",
        "Vectorize Teks\n",
        "\n",
        "Sebelum training, Anda perlu mengonversi string menjadi representasi numerik. tf.keras.layers.StringLookup dapat mengubah setiap karakter menjadi ID numerik. Caranya adalah teks akan dipecah menjadi token terlebih dahulu."
      ]
    },
    {
      "cell_type": "code",
      "execution_count": null,
      "metadata": {
        "id": "jdMS-sNDEiEH",
        "colab": {
          "base_uri": "https://localhost:8080/"
        },
        "outputId": "bc16350b-707b-41d2-fd86-57051f790dae"
      },
      "outputs": [
        {
          "output_type": "execute_result",
          "data": {
            "text/plain": [
              "<tf.RaggedTensor [[b'a', b'b', b'c', b'd', b'e', b'f', b'g'], [b'x', b'y', b'z']]>"
            ]
          },
          "metadata": {},
          "execution_count": 31
        }
      ],
      "source": [
        "example_texts=['abcdefg', 'xyz']\n",
        "chars=tf.strings.unicode_split(example_texts,input_encoding='UTF-8')\n",
        "chars"
      ]
    },
    {
      "cell_type": "markdown",
      "metadata": {
        "id": "IOqOOdHhErJB"
      },
      "source": [
        "sekarang buat tf.keras.layers.StringLookup layer:"
      ]
    },
    {
      "cell_type": "code",
      "execution_count": null,
      "metadata": {
        "id": "-0MvMCU8EyDK"
      },
      "outputs": [],
      "source": [
        "ids_from_chars=tf.keras.layers.StringLookup(\n",
        "vocabulary=list(vocab),mask_token=None)"
      ]
    },
    {
      "cell_type": "markdown",
      "metadata": {
        "id": "tDOR2J0kE1ep"
      },
      "source": [
        "perintah diatas mengconvert token menjadi id"
      ]
    },
    {
      "cell_type": "code",
      "execution_count": null,
      "metadata": {
        "id": "1VbybocAE008",
        "colab": {
          "base_uri": "https://localhost:8080/"
        },
        "outputId": "51ae9a07-83d6-4280-ce24-b7524cd23b82"
      },
      "outputs": [
        {
          "output_type": "execute_result",
          "data": {
            "text/plain": [
              "<tf.RaggedTensor [[40, 41, 42, 43, 44, 45, 46], [63, 64, 65]]>"
            ]
          },
          "metadata": {},
          "execution_count": 34
        }
      ],
      "source": [
        "ids=ids_from_chars(chars)\n",
        "ids"
      ]
    },
    {
      "cell_type": "markdown",
      "metadata": {
        "id": "xZHjQ_d4E444"
      },
      "source": [
        "Karena tujuan tutorial ini adalah untuk menghasilkan teks, penting juga untuk membalikkan representasi ini. Untuk ini Anda dapat menggunakan kode tf.keras.layers.StringLookup(..., invert=True).\n",
        "\n",
        "Catatan: pada kode ini, daripada meneruskan kosakata asli yang dihasilkan dengan diurutkan(set(teks)) gunakan metode get_vocabulary() dari tf.keras.layers.StringLookup sehingga token [UNK] disetel dengan cara yang sama."
      ]
    },
    {
      "cell_type": "code",
      "execution_count": null,
      "metadata": {
        "id": "QWGHYO2eE0xq"
      },
      "outputs": [],
      "source": [
        "chars_from_ids = tf.keras.layers.StringLookup(\n",
        "    vocabulary=ids_from_chars.get_vocabulary(), invert=True, mask_token=None)"
      ]
    },
    {
      "cell_type": "markdown",
      "metadata": {
        "id": "qhKYnsvSFAFi"
      },
      "source": [
        "Lapisan ini mengconvert kembali karakter dari vektor ID, dan mengembalikannya sebagai karakter tf.RaggedTensor:"
      ]
    },
    {
      "cell_type": "code",
      "execution_count": null,
      "metadata": {
        "id": "HVjXgJsIFCP-",
        "colab": {
          "base_uri": "https://localhost:8080/"
        },
        "outputId": "ab0de59c-bc0e-484f-abaa-41d7c57e9cad"
      },
      "outputs": [
        {
          "output_type": "execute_result",
          "data": {
            "text/plain": [
              "<tf.RaggedTensor [[b'a', b'b', b'c', b'd', b'e', b'f', b'g'], [b'x', b'y', b'z']]>"
            ]
          },
          "metadata": {},
          "execution_count": 36
        }
      ],
      "source": [
        "chars=chars_from_ids(ids)\n",
        "chars"
      ]
    },
    {
      "cell_type": "markdown",
      "metadata": {
        "id": "QRIHveFrFECb"
      },
      "source": [
        "Anda dapat menggunakan tf.strings.reduce_join untuk menggabungkan kembali karakter menjadi string."
      ]
    },
    {
      "cell_type": "code",
      "execution_count": null,
      "metadata": {
        "id": "ePKf_FKlFGM3",
        "colab": {
          "base_uri": "https://localhost:8080/"
        },
        "outputId": "4d12500d-ceea-4615-ba32-2e340fc97915"
      },
      "outputs": [
        {
          "output_type": "execute_result",
          "data": {
            "text/plain": [
              "array([b'abcdefg', b'xyz'], dtype=object)"
            ]
          },
          "metadata": {},
          "execution_count": 37
        }
      ],
      "source": [
        "tf.strings.reduce_join(chars,axis=-1).numpy()"
      ]
    },
    {
      "cell_type": "code",
      "execution_count": null,
      "metadata": {
        "id": "k0r58J-XFIv1"
      },
      "outputs": [],
      "source": [
        "def text_from_ids(ids):\n",
        "    return tf.strings.reduce_join(chars_from_ids(ids), axis=-1)"
      ]
    },
    {
      "cell_type": "markdown",
      "metadata": {
        "id": "BnErU0T8FLh3"
      },
      "source": [
        "**Prediksi**\n",
        "\n",
        "Diberikan sebuah karakter, atau serangkaian karakter, karakter apa yang paling mungkin berikutnya? Ini adalah tugas yang harus Anda latih agar model dapat melakukannya. Masukan ke model akan berupa urutan karakter, dan Anda melatih model untuk memprediksi keluaran berupa karakter berikut pada setiap langkah waktu. Karena RNN mempertahankan keadaan internal yang bergantung pada elemen yang terlihat sebelumnya, mengingat semua karakter dihitung hingga saat ini, karakter apa selanjutnya?\n",
        "\n",
        "Membuat Trianing Set dan Target\n",
        "\n",
        "Selanjutnya bagilah teks menjadi contoh sequence. Setiap masukan sequence akan berisi karakter seq_length dari teks. Untuk setiap masukan sequence, target prediksi berisi teks dengan panjang yang sama, hanya digeser satu karakter ke kanan. Jadi, bagi teks menjadi beberapa bagian seq_length+1. Misalnya, seq_length adalah 4 dan teks kita adalah \"Hello\". Urutan masukannya adalah \"Hell\", dan urutan targetnya adalah \"ello\". Untuk melakukan ini, pertama-tama gunakan fungsi tf.data.Dataset.from_tensor_slices untuk mengonversi vektor teks menjadi aliran indeks karakter."
      ]
    },
    {
      "cell_type": "code",
      "execution_count": null,
      "metadata": {
        "id": "igkuxderFT8x",
        "colab": {
          "base_uri": "https://localhost:8080/"
        },
        "outputId": "5a5192e9-061a-4127-f918-25dd3745bb7e"
      },
      "outputs": [
        {
          "output_type": "execute_result",
          "data": {
            "text/plain": [
              "<tf.Tensor: shape=(1115394,), dtype=int64, numpy=array([19, 48, 57, ..., 46,  9,  1])>"
            ]
          },
          "metadata": {},
          "execution_count": 39
        }
      ],
      "source": [
        "all_ids=ids_from_chars(tf.strings.unicode_split(text,'UTF-8'))\n",
        "all_ids"
      ]
    },
    {
      "cell_type": "code",
      "execution_count": null,
      "metadata": {
        "id": "hSQi-BCfFViH"
      },
      "outputs": [],
      "source": [
        "ids_dataset=tf.data.Dataset.from_tensor_slices(all_ids)"
      ]
    },
    {
      "cell_type": "code",
      "execution_count": null,
      "metadata": {
        "id": "tjC3Y5YoFW7B",
        "colab": {
          "base_uri": "https://localhost:8080/"
        },
        "outputId": "a8e0010d-c37d-4b3e-f858-22528b7f4b5e"
      },
      "outputs": [
        {
          "output_type": "stream",
          "name": "stdout",
          "text": [
            "F\n",
            "i\n",
            "r\n",
            "s\n",
            "t\n",
            " \n",
            "C\n",
            "i\n",
            "t\n",
            "i\n"
          ]
        }
      ],
      "source": [
        "for ids in ids_dataset.take(10):\n",
        "    print(chars_from_ids(ids).numpy().decode('utf-8'))"
      ]
    },
    {
      "cell_type": "code",
      "execution_count": null,
      "metadata": {
        "id": "027TE7ULFZD6"
      },
      "outputs": [],
      "source": [
        "seq_length = 100"
      ]
    },
    {
      "cell_type": "markdown",
      "metadata": {
        "id": "zg-PaPtgFaFF"
      },
      "source": [
        "Metode batch memungkinkan Anda dengan mudah mengonversi karakter individual ini menjadi urutan ukuran yang diinginkan."
      ]
    },
    {
      "cell_type": "code",
      "execution_count": null,
      "metadata": {
        "id": "-WnoZTosFcAr",
        "colab": {
          "base_uri": "https://localhost:8080/"
        },
        "outputId": "ff62870a-d2b3-4b42-cd96-05505e105d80"
      },
      "outputs": [
        {
          "output_type": "stream",
          "name": "stdout",
          "text": [
            "tf.Tensor(\n",
            "[b'F' b'i' b'r' b's' b't' b' ' b'C' b'i' b't' b'i' b'z' b'e' b'n' b':'\n",
            " b'\\n' b'B' b'e' b'f' b'o' b'r' b'e' b' ' b'w' b'e' b' ' b'p' b'r' b'o'\n",
            " b'c' b'e' b'e' b'd' b' ' b'a' b'n' b'y' b' ' b'f' b'u' b'r' b't' b'h'\n",
            " b'e' b'r' b',' b' ' b'h' b'e' b'a' b'r' b' ' b'm' b'e' b' ' b's' b'p'\n",
            " b'e' b'a' b'k' b'.' b'\\n' b'\\n' b'A' b'l' b'l' b':' b'\\n' b'S' b'p' b'e'\n",
            " b'a' b'k' b',' b' ' b's' b'p' b'e' b'a' b'k' b'.' b'\\n' b'\\n' b'F' b'i'\n",
            " b'r' b's' b't' b' ' b'C' b'i' b't' b'i' b'z' b'e' b'n' b':' b'\\n' b'Y'\n",
            " b'o' b'u' b' '], shape=(101,), dtype=string)\n"
          ]
        }
      ],
      "source": [
        "sequences = ids_dataset.batch(seq_length+1, drop_remainder=True)\n",
        "\n",
        "for seq in sequences.take(1):\n",
        "  print(chars_from_ids(seq))"
      ]
    },
    {
      "cell_type": "markdown",
      "metadata": {
        "id": "G58gkHccFd5o"
      },
      "source": [
        "akan lebih mudah untuk melihat apa yang dilakukan jika Anda menggabungkan token kembali menjadi string:"
      ]
    },
    {
      "cell_type": "code",
      "execution_count": null,
      "metadata": {
        "id": "Fmxe5tXzFfs3",
        "colab": {
          "base_uri": "https://localhost:8080/"
        },
        "outputId": "7e2c5a83-220b-4fff-c2d1-4601611820c1"
      },
      "outputs": [
        {
          "output_type": "stream",
          "name": "stdout",
          "text": [
            "b'First Citizen:\\nBefore we proceed any further, hear me speak.\\n\\nAll:\\nSpeak, speak.\\n\\nFirst Citizen:\\nYou '\n",
            "b'are all resolved rather to die than to famish?\\n\\nAll:\\nResolved. resolved.\\n\\nFirst Citizen:\\nFirst, you k'\n",
            "b\"now Caius Marcius is chief enemy to the people.\\n\\nAll:\\nWe know't, we know't.\\n\\nFirst Citizen:\\nLet us ki\"\n",
            "b\"ll him, and we'll have corn at our own price.\\nIs't a verdict?\\n\\nAll:\\nNo more talking on't; let it be d\"\n",
            "b'one: away, away!\\n\\nSecond Citizen:\\nOne word, good citizens.\\n\\nFirst Citizen:\\nWe are accounted poor citi'\n"
          ]
        }
      ],
      "source": [
        "for seq in sequences.take(5):\n",
        "    print(text_from_ids(seq).numpy())"
      ]
    },
    {
      "cell_type": "markdown",
      "metadata": {
        "id": "whhHzbPBFiBt"
      },
      "source": [
        "Untuk pelatihan, Anda memerlukan kumpulan data pasangan (input, label). Dimana input dan label merupakan urutan. Pada setiap langkah waktu, inputnya adalah karakter saat ini dan labelnya adalah karakter berikutnya. Berikut adalah fungsi yang mengambil urutan sebagai masukan, menduplikasi, dan menggesernya untuk menyelaraskan masukan dan label untuk setiap langkah waktu:"
      ]
    },
    {
      "cell_type": "code",
      "execution_count": null,
      "metadata": {
        "id": "UEtSITuRFi7N"
      },
      "outputs": [],
      "source": [
        "def split_input_target(sequence):\n",
        "    input_text = sequence[:-1]\n",
        "    target_text = sequence[1:]\n",
        "    return input_text, target_text"
      ]
    },
    {
      "cell_type": "code",
      "execution_count": null,
      "metadata": {
        "colab": {
          "base_uri": "https://localhost:8080/"
        },
        "id": "fdsPT-6uFlDH",
        "outputId": "c9d14966-fc04-4458-f39d-1265cba4708f"
      },
      "outputs": [
        {
          "output_type": "execute_result",
          "data": {
            "text/plain": [
              "(['T', 'e', 'n', 's', 'o', 'r', 'f', 'l', 'o'],\n",
              " ['e', 'n', 's', 'o', 'r', 'f', 'l', 'o', 'w'])"
            ]
          },
          "metadata": {},
          "execution_count": 53
        }
      ],
      "source": [
        "split_input_target(list(\"Tensorflow\"))"
      ]
    },
    {
      "cell_type": "code",
      "execution_count": null,
      "metadata": {
        "id": "3uv92_q9FmQh"
      },
      "outputs": [],
      "source": [
        "dataset = sequences.map(split_input_target)"
      ]
    },
    {
      "cell_type": "code",
      "execution_count": null,
      "metadata": {
        "id": "f038sxztFncn",
        "colab": {
          "base_uri": "https://localhost:8080/"
        },
        "outputId": "c559a1f6-684d-4ab9-d28e-eca0c18657bb"
      },
      "outputs": [
        {
          "output_type": "stream",
          "name": "stdout",
          "text": [
            "Input : b'First Citizen:\\nBefore we proceed any further, hear me speak.\\n\\nAll:\\nSpeak, speak.\\n\\nFirst Citizen:\\nYou'\n",
            "Target: b'irst Citizen:\\nBefore we proceed any further, hear me speak.\\n\\nAll:\\nSpeak, speak.\\n\\nFirst Citizen:\\nYou '\n"
          ]
        }
      ],
      "source": [
        "for input_example, target_example in dataset.take(1):\n",
        "    print(\"Input :\", text_from_ids(input_example).numpy())\n",
        "    print(\"Target:\", text_from_ids(target_example).numpy())"
      ]
    },
    {
      "cell_type": "markdown",
      "metadata": {
        "id": "QUfkGGteFon9"
      },
      "source": [
        "Membuat Batch Training\n",
        "\n",
        "Anda menggunakan tf.data untuk membagi teks menjadi sequence yang dapat diatur. Namun sebelum memasukkan data ini ke dalam model, Anda perlu mengacak data dan mengemasnya ke dalam batch."
      ]
    },
    {
      "cell_type": "code",
      "execution_count": null,
      "metadata": {
        "id": "IzCOiuGIFqxH",
        "colab": {
          "base_uri": "https://localhost:8080/"
        },
        "outputId": "3abdec3e-84d0-4ed1-b314-735c3fca7d8c"
      },
      "outputs": [
        {
          "output_type": "execute_result",
          "data": {
            "text/plain": [
              "<_PrefetchDataset element_spec=(TensorSpec(shape=(64, 100), dtype=tf.int64, name=None), TensorSpec(shape=(64, 100), dtype=tf.int64, name=None))>"
            ]
          },
          "metadata": {},
          "execution_count": 56
        }
      ],
      "source": [
        "# Batch size\n",
        "BATCH_SIZE = 64\n",
        "\n",
        "# Buffer size to shuffle the dataset\n",
        "# (TF data is designed to work with possibly infinite sequences,\n",
        "# so it doesn't attempt to shuffle the entire sequence in memory. Instead,\n",
        "# it maintains a buffer in which it shuffles elements).\n",
        "BUFFER_SIZE = 10000\n",
        "\n",
        "dataset = (\n",
        "    dataset\n",
        "    .shuffle(BUFFER_SIZE)\n",
        "    .batch(BATCH_SIZE, drop_remainder=True)\n",
        "    .prefetch(tf.data.experimental.AUTOTUNE))\n",
        "\n",
        "dataset"
      ]
    },
    {
      "cell_type": "markdown",
      "metadata": {
        "id": "ThHxpJ-8Ghq4"
      },
      "source": [
        "##**Buat Model**\n",
        "Bagian ini mendefinisikan model sebagai subkelas keras.Model (untuk lebih detilnya, lihat Making new Layers and Models via subclassing).\n",
        "Model yang kita bangun memiliki 3 lapisan neural network :\n",
        "- tf.keras.layers.Embedding: Lapisan masukan. Tabel pencarian yang dapat dilatih yang akan memetakan setiap karakter-ID ke vektor dengan dimensi embedding_dim;\n",
        "- tf.keras.layers.GRU: lapisan RNN dengan ukuran unit=rnn_units (Anda juga dapat menggunakan lapisan LSTM di sini.)\n",
        "- tf.keras.layers.Dense: Lapisan keluaran, dengan keluaran vocab_size. Ini menghasilkan satu logit untuk setiap karakter dalam kosakata. Ini adalah log kemungkinan setiap karakter menurut model."
      ]
    },
    {
      "cell_type": "code",
      "execution_count": null,
      "metadata": {
        "id": "OBItSbtHIjqM"
      },
      "outputs": [],
      "source": [
        "# Length of the vocabulary in StringLookup Layer\n",
        "vocab_size = len(ids_from_chars.get_vocabulary())\n",
        "\n",
        "# The embedding dimension\n",
        "embedding_dim = 256\n",
        "\n",
        "# Number of RNN units\n",
        "rnn_units = 1024"
      ]
    },
    {
      "cell_type": "code",
      "execution_count": null,
      "metadata": {
        "id": "uv_ZcLpwIwTz"
      },
      "outputs": [],
      "source": [
        "class MyModel(tf.keras.Model):\n",
        "  def __init__(self, vocab_size, embedding_dim, rnn_units):\n",
        "    super().__init__(self)\n",
        "    self.embedding = tf.keras.layers.Embedding(vocab_size, embedding_dim)\n",
        "    self.gru = tf.keras.layers.GRU(rnn_units,\n",
        "                                   return_sequences=True,\n",
        "                                   return_state=True)\n",
        "    self.dense = tf.keras.layers.Dense(vocab_size)\n",
        "\n",
        "  def call(self, inputs, states=None, return_state=False, training=False):\n",
        "    x = inputs\n",
        "    x = self.embedding(x, training=training)\n",
        "    if states is None:\n",
        "      states = self.gru.get_initial_state(x)\n",
        "    x, states = self.gru(x, initial_state=states, training=training)\n",
        "    x = self.dense(x, training=training)\n",
        "\n",
        "    if return_state:\n",
        "      return x, states\n",
        "    else:\n",
        "      return x"
      ]
    },
    {
      "cell_type": "code",
      "execution_count": null,
      "metadata": {
        "id": "3oU_GKJmIxpC"
      },
      "outputs": [],
      "source": [
        "model = MyModel(\n",
        "    vocab_size=vocab_size,\n",
        "    embedding_dim=embedding_dim,\n",
        "    rnn_units=rnn_units)"
      ]
    },
    {
      "cell_type": "markdown",
      "metadata": {
        "id": "Rt-EeCaGFtUU"
      },
      "source": [
        "Untuk setiap karakter, model mencari penyematan, menjalankan GRU satu langkah waktu dengan penyematan sebagai masukan, dan menerapkan dense layer untuk menghasilkan log yang memprediksi kemungkinan log karakter berikutnya:\n",
        "\n",
        "Note: Untuk pelatihan Anda bisa menggunakan model keras.Sequential di sini. Untuk menghasilkan teks nanti, Anda harus mengelola status internal RNN. Akan lebih mudah untuk memasukkan opsi input dan output status di awal, daripada mengatur ulang arsitektur model nanti. untuk detailnya bisa dilihat Keras RNN guide."
      ]
    },
    {
      "cell_type": "markdown",
      "metadata": {
        "id": "Qp3ny0oFI7me"
      },
      "source": [
        "##**Uji Model**\n",
        "Coba jalankan model dan cek apakah sidah sesuai dengan output\n",
        "\n",
        "pertama, cek bentuk dari output"
      ]
    },
    {
      "cell_type": "code",
      "execution_count": null,
      "metadata": {
        "id": "SH4XbQsjI63k",
        "colab": {
          "base_uri": "https://localhost:8080/"
        },
        "outputId": "360a21d1-6268-45e7-f420-1a2ed53bbbed"
      },
      "outputs": [
        {
          "output_type": "stream",
          "name": "stdout",
          "text": [
            "(64, 100, 66) # (batch_size, sequence_length, vocab_size)\n"
          ]
        }
      ],
      "source": [
        "for input_example_batch, target_example_batch in dataset.take(1):\n",
        "    example_batch_predictions = model(input_example_batch)\n",
        "    print(example_batch_predictions.shape, \"# (batch_size, sequence_length, vocab_size)\")"
      ]
    },
    {
      "cell_type": "markdown",
      "metadata": {
        "id": "HKXRJTwbJC4i"
      },
      "source": [
        "Dalam contoh di atas, panjang urutan masukan adalah 100 tetapi model dapat dijalankan pada masukan dengan panjang berapa pun:"
      ]
    },
    {
      "cell_type": "code",
      "execution_count": null,
      "metadata": {
        "id": "D0QCxsNGJEuI",
        "colab": {
          "base_uri": "https://localhost:8080/"
        },
        "outputId": "803d4c1c-32a0-46d7-e855-051bc5f63743"
      },
      "outputs": [
        {
          "output_type": "stream",
          "name": "stdout",
          "text": [
            "Model: \"my_model\"\n",
            "_________________________________________________________________\n",
            " Layer (type)                Output Shape              Param #   \n",
            "=================================================================\n",
            " embedding_2 (Embedding)     multiple                  16896     \n",
            "                                                                 \n",
            " gru (GRU)                   multiple                  3938304   \n",
            "                                                                 \n",
            " dense_4 (Dense)             multiple                  67650     \n",
            "                                                                 \n",
            "=================================================================\n",
            "Total params: 4022850 (15.35 MB)\n",
            "Trainable params: 4022850 (15.35 MB)\n",
            "Non-trainable params: 0 (0.00 Byte)\n",
            "_________________________________________________________________\n"
          ]
        }
      ],
      "source": [
        "model.summary()"
      ]
    },
    {
      "cell_type": "markdown",
      "metadata": {
        "id": "XBnmvZ-mJHik"
      },
      "source": [
        "Untuk mendapatkan prediksi aktual dari model, Anda perlu mengambil sampel dari distribusi keluaran, untuk mendapatkan indeks karakter aktual. Distribusi ini ditentukan oleh logit pada kosakata karakter. Catatan: Penting untuk mengambil sampel dari distribusi ini karena mengambil argmax dari distribusi tersebut dapat dengan mudah membuat model terjebak dalam infinote loop. Cobalah untuk contoh pertama di batch:"
      ]
    },
    {
      "cell_type": "code",
      "execution_count": null,
      "metadata": {
        "id": "IeKk_xNbJIYA"
      },
      "outputs": [],
      "source": [
        "sampled_indices=tf.random.categorical(example_batch_predictions[0],num_samples=1)\n",
        "sampled_indices=tf.squeeze(sampled_indices,axis=-1).numpy()"
      ]
    },
    {
      "cell_type": "markdown",
      "metadata": {
        "id": "1w8kigJEJLNN"
      },
      "source": [
        "Hal ini memberi kita, pada setiap langkah waktu, prediksi indeks karakter berikutnya:"
      ]
    },
    {
      "cell_type": "code",
      "execution_count": null,
      "metadata": {
        "id": "tOzASKWCJL37",
        "colab": {
          "base_uri": "https://localhost:8080/"
        },
        "outputId": "4b978109-8fe1-45d0-c48e-1b1eab3bd5ab"
      },
      "outputs": [
        {
          "output_type": "execute_result",
          "data": {
            "text/plain": [
              "array([ 9,  7,  6, 55, 53, 38, 27, 42, 46, 58, 35, 35, 24,  2, 25,  0, 18,\n",
              "       10, 54, 50, 38, 38,  5, 49, 34, 17, 25, 24, 20, 20, 47, 23, 45, 46,\n",
              "       46,  4, 20, 10, 51, 61, 14, 44, 46,  0, 41, 27, 20, 47, 58, 42, 26,\n",
              "       55, 43, 40, 15,  1, 36, 36, 33, 52, 27,  1, 22, 13, 64, 10, 53, 44,\n",
              "       36, 57,  4, 32, 30, 50, 63, 64, 63, 36, 44, 18, 49, 56, 61, 21, 27,\n",
              "       19, 26, 38, 30, 63, 50,  0, 41, 37, 15, 30, 26, 44, 32, 61])"
            ]
          },
          "metadata": {},
          "execution_count": 63
        }
      ],
      "source": [
        "sampled_indices"
      ]
    },
    {
      "cell_type": "markdown",
      "metadata": {
        "id": "bNebJnA1JOT3"
      },
      "source": [
        "Dekode kode berikut untuk melihat teks yang diprediksi oleh model tidak terlatih ini:"
      ]
    },
    {
      "cell_type": "code",
      "execution_count": null,
      "metadata": {
        "id": "60JgUkheJPzR",
        "colab": {
          "base_uri": "https://localhost:8080/"
        },
        "outputId": "07d000fa-136b-4bab-ff31-ee1a41e02186"
      },
      "outputs": [
        {
          "output_type": "stream",
          "name": "stdout",
          "text": [
            "Input:\n",
            " b' sorrow was fought in\\nPaulina! She had one eye declined for the loss of\\nher husband, another elevate'\n",
            "\n",
            "Next Char Predictions:\n",
            " b\".,'pnYNcgsVVK L[UNK]E3okYY&jUDLKGGhJfgg$G3lvAeg[UNK]bNGhscMpdaB\\nWWTmN\\nI?y3neWr$SQkxyxWeEjqvHNFMYQxk[UNK]bXBQMeSv\"\n"
          ]
        }
      ],
      "source": [
        "print(\"Input:\\n\",text_from_ids(input_example_batch[0]).numpy())\n",
        "print()\n",
        "print(\"Next Char Predictions:\\n\",text_from_ids(sampled_indices).numpy())"
      ]
    },
    {
      "cell_type": "markdown",
      "metadata": {
        "id": "QJO1awY9JQ0-"
      },
      "source": [
        "##**Train Model**\n",
        "\n",
        "Pada titik ini permasalahan dapat dianggap sebagai permasalahan klasifikasi standar. Permasalahan dapat disimpulkan dengan : Berdasarkan status RNN sebelumnya, dan masukan langkah kali ini, prediksi kelas karakter berikutnya.\n",
        "\n",
        "Tambahan optimizer dan fungsi loss\n",
        "\n",
        "loss function tf.keras.losses.sparse_categorical_crossentropy standar berfungsi dalam kasus ini karena diterapkan di seluruh dimensi terakhir prediksi. Karena model Anda mengembalikan logits, Anda perlu mengatur flag from_logits."
      ]
    },
    {
      "cell_type": "code",
      "execution_count": null,
      "metadata": {
        "id": "YY2cBUhOMAWA"
      },
      "outputs": [],
      "source": [
        "loss=tf.losses.SparseCategoricalCrossentropy(from_logits=True)"
      ]
    },
    {
      "cell_type": "code",
      "execution_count": null,
      "metadata": {
        "id": "-6PBXNWzMB-O",
        "colab": {
          "base_uri": "https://localhost:8080/"
        },
        "outputId": "dc6a1953-26f2-4bf5-8ff7-154dd84136f4"
      },
      "outputs": [
        {
          "output_type": "stream",
          "name": "stdout",
          "text": [
            "Prediction shape:  (64, 100, 66)  # (batch_size, sequence_length, vocab_size)\n",
            "Mean loss:         tf.Tensor(4.1906834, shape=(), dtype=float32)\n"
          ]
        }
      ],
      "source": [
        "example_batch_mean_loss = loss(target_example_batch, example_batch_predictions)\n",
        "print(\"Prediction shape: \", example_batch_predictions.shape, \" # (batch_size, sequence_length, vocab_size)\")\n",
        "print(\"Mean loss:        \", example_batch_mean_loss)"
      ]
    },
    {
      "cell_type": "markdown",
      "metadata": {
        "id": "0JRfuTNOMDkr"
      },
      "source": [
        "Model yang baru diinisialisasi tidak boleh terlalu yakin dengan dirinya sendiri, semua log keluaran harus memiliki besaran yang sama. Untuk mengonfirmasi hal ini, Anda dapat memeriksa bahwa eksponensial dari loss rata-rata harus kira-kira sama dengan ukuran kosakata. Loss yang jauh lebih tinggi berarti model tersebut yakin akan jawaban yang salah, dan memiliki inisialisasi yang buruk:"
      ]
    },
    {
      "cell_type": "code",
      "execution_count": null,
      "metadata": {
        "id": "qA6s8Fv9MEb8",
        "colab": {
          "base_uri": "https://localhost:8080/"
        },
        "outputId": "feff35c1-034e-4287-8be9-2aeb9c0da3e6"
      },
      "outputs": [
        {
          "output_type": "execute_result",
          "data": {
            "text/plain": [
              "66.067924"
            ]
          },
          "metadata": {},
          "execution_count": 68
        }
      ],
      "source": [
        "tf.exp(example_batch_mean_loss).numpy()"
      ]
    },
    {
      "cell_type": "markdown",
      "metadata": {
        "id": "6V652u1QMG8U"
      },
      "source": [
        "Konfigurasikan prosedur pelatihan menggunakan metode tf.keras.Model.compile. Gunakan tf.keras.optimizers.Adam dengan argumen default dan fungsi loss."
      ]
    },
    {
      "cell_type": "code",
      "execution_count": null,
      "metadata": {
        "id": "cemD-a53MIaL"
      },
      "outputs": [],
      "source": [
        "model.compile(optimizer='adam',loss=loss)"
      ]
    },
    {
      "cell_type": "markdown",
      "metadata": {
        "id": "GXWSVOqfMK0g"
      },
      "source": [
        "Konfigurasi Checkpoints\n",
        "\n",
        "Gunakan tf.keras.callbacks.ModelCheckpoint untuk memastikan bahwa checkpoint disimpan selama pelatihan:"
      ]
    },
    {
      "cell_type": "code",
      "execution_count": null,
      "metadata": {
        "id": "1xjNOuR4MNIS"
      },
      "outputs": [],
      "source": [
        "# Directory where the checkpoints will be saved\n",
        "checkpoint_dir = './training_checkpoints'\n",
        "# Name of the checkpoint files\n",
        "checkpoint_prefix = os.path.join(checkpoint_dir, \"ckpt_{epoch}\")\n",
        "\n",
        "checkpoint_callback = tf.keras.callbacks.ModelCheckpoint(\n",
        "    filepath=checkpoint_prefix,\n",
        "    save_weights_only=True)"
      ]
    },
    {
      "cell_type": "markdown",
      "metadata": {
        "id": "p2PFBVzjMQAl"
      },
      "source": [
        "Lakukan Proses Training\n",
        "\n",
        "Agar waktu pelatihan tidak terlalu lama, gunakan 10 epoch untuk melatih model. Di Colab, setel runtime ke GPU untuk pelatihan yang lebih cepat."
      ]
    },
    {
      "cell_type": "code",
      "execution_count": null,
      "metadata": {
        "id": "td8M6T7mMRoW"
      },
      "outputs": [],
      "source": [
        "EPOCHS=20"
      ]
    },
    {
      "cell_type": "code",
      "execution_count": null,
      "metadata": {
        "id": "I2LSd6hxMTbD",
        "colab": {
          "base_uri": "https://localhost:8080/"
        },
        "outputId": "35788aa9-0b8f-4cd0-c665-f192046d31d4"
      },
      "outputs": [
        {
          "output_type": "stream",
          "name": "stdout",
          "text": [
            "Epoch 1/20\n",
            "172/172 [==============================] - 17s 60ms/step - loss: 2.7136\n",
            "Epoch 2/20\n",
            "172/172 [==============================] - 11s 57ms/step - loss: 1.9791\n",
            "Epoch 3/20\n",
            "172/172 [==============================] - 12s 56ms/step - loss: 1.6987\n",
            "Epoch 4/20\n",
            "172/172 [==============================] - 11s 57ms/step - loss: 1.5391\n",
            "Epoch 5/20\n",
            "172/172 [==============================] - 12s 59ms/step - loss: 1.4412\n",
            "Epoch 6/20\n",
            "172/172 [==============================] - 15s 61ms/step - loss: 1.3744\n",
            "Epoch 7/20\n",
            "172/172 [==============================] - 12s 58ms/step - loss: 1.3219\n",
            "Epoch 8/20\n",
            "172/172 [==============================] - 12s 57ms/step - loss: 1.2770\n",
            "Epoch 9/20\n",
            "172/172 [==============================] - 13s 57ms/step - loss: 1.2360\n",
            "Epoch 10/20\n",
            "172/172 [==============================] - 11s 56ms/step - loss: 1.1948\n",
            "Epoch 11/20\n",
            "172/172 [==============================] - 11s 56ms/step - loss: 1.1541\n",
            "Epoch 12/20\n",
            "172/172 [==============================] - 12s 57ms/step - loss: 1.1122\n",
            "Epoch 13/20\n",
            "172/172 [==============================] - 11s 57ms/step - loss: 1.0675\n",
            "Epoch 14/20\n",
            "172/172 [==============================] - 12s 60ms/step - loss: 1.0206\n",
            "Epoch 15/20\n",
            "172/172 [==============================] - 12s 57ms/step - loss: 0.9716\n",
            "Epoch 16/20\n",
            "172/172 [==============================] - 12s 58ms/step - loss: 0.9203\n",
            "Epoch 17/20\n",
            "172/172 [==============================] - 12s 58ms/step - loss: 0.8669\n",
            "Epoch 18/20\n",
            "172/172 [==============================] - 13s 58ms/step - loss: 0.8143\n",
            "Epoch 19/20\n",
            "172/172 [==============================] - 11s 56ms/step - loss: 0.7647\n",
            "Epoch 20/20\n",
            "172/172 [==============================] - 12s 57ms/step - loss: 0.7175\n"
          ]
        }
      ],
      "source": [
        "history=model.fit(dataset,epochs=EPOCHS,callbacks=[checkpoint_callback])"
      ]
    },
    {
      "cell_type": "markdown",
      "metadata": {
        "id": "2AIAmHguMUwD"
      },
      "source": [
        "##**Generate Teks**\n",
        "\n",
        "Cara termudah untuk menghasilkan teks dengan model ini adalah dengan menjalankannya dalam loop, dan menyimpan status internal model saat Anda menjalankannya.\n",
        "\n",
        "Setiap kali Anda memanggil model, Anda memasukkan beberapa teks dan state internal. Model mengembalikan prediksi untuk karakter berikutnya dan state barunya. Masukkan kembali prediksi dan state ke model untuk terus menghasilkan teks.\n",
        "\n",
        "Berikut ini membuat prediksi satu langkah:"
      ]
    },
    {
      "cell_type": "code",
      "execution_count": null,
      "metadata": {
        "id": "ROEbIBkJMcok"
      },
      "outputs": [],
      "source": [
        "class OneStep(tf.keras.Model):\n",
        "  def __init__(self, model, chars_from_ids, ids_from_chars, temperature=1.0):\n",
        "    super().__init__()\n",
        "    self.temperature = temperature\n",
        "    self.model = model\n",
        "    self.chars_from_ids = chars_from_ids\n",
        "    self.ids_from_chars = ids_from_chars\n",
        "\n",
        "    # Create a mask to prevent \"[UNK]\" from being generated.\n",
        "    skip_ids = self.ids_from_chars(['[UNK]'])[:, None]\n",
        "    sparse_mask = tf.SparseTensor(\n",
        "        # Put a -inf at each bad index.\n",
        "        values=[-float('inf')]*len(skip_ids),\n",
        "        indices=skip_ids,\n",
        "        # Match the shape to the vocabulary\n",
        "        dense_shape=[len(ids_from_chars.get_vocabulary())])\n",
        "    self.prediction_mask = tf.sparse.to_dense(sparse_mask)\n",
        "\n",
        "  @tf.function\n",
        "  def generate_one_step(self, inputs, states=None):\n",
        "    # Convert strings to token IDs.\n",
        "    input_chars = tf.strings.unicode_split(inputs, 'UTF-8')\n",
        "    input_ids = self.ids_from_chars(input_chars).to_tensor()\n",
        "\n",
        "    # Run the model.\n",
        "    # predicted_logits.shape is [batch, char, next_char_logits]\n",
        "    predicted_logits, states = self.model(inputs=input_ids, states=states,\n",
        "                                          return_state=True)\n",
        "    # Only use the last prediction.\n",
        "    predicted_logits = predicted_logits[:, -1, :]\n",
        "    predicted_logits = predicted_logits/self.temperature\n",
        "    # Apply the prediction mask: prevent \"[UNK]\" from being generated.\n",
        "    predicted_logits = predicted_logits + self.prediction_mask\n",
        "\n",
        "    # Sample the output logits to generate token IDs.\n",
        "    predicted_ids = tf.random.categorical(predicted_logits, num_samples=1)\n",
        "    predicted_ids = tf.squeeze(predicted_ids, axis=-1)\n",
        "\n",
        "    # Convert from token ids to characters\n",
        "    predicted_chars = self.chars_from_ids(predicted_ids)\n",
        "\n",
        "    # Return the characters and model state.\n",
        "    return predicted_chars, states"
      ]
    },
    {
      "cell_type": "code",
      "execution_count": null,
      "metadata": {
        "id": "343ScuJNMh7h"
      },
      "outputs": [],
      "source": [
        "one_step_model=OneStep(model,chars_from_ids,ids_from_chars)"
      ]
    },
    {
      "cell_type": "markdown",
      "metadata": {
        "id": "O_6yEMJIMoRa"
      },
      "source": [
        "Jalankan secara berulang untuk menghasilkan beberapa teks. Melihat teks yang dihasilkan, Anda akan melihat model mengetahui kapan harus menggunakan huruf besar, membuat paragraf, dan meniru kosakata menulis seperti Shakespeare. Karena sedikitnya jumlah epoch pelatihan, model belum belajar membentuk kalimat runtut."
      ]
    },
    {
      "cell_type": "code",
      "execution_count": null,
      "metadata": {
        "id": "gSIJz8uXMped",
        "colab": {
          "base_uri": "https://localhost:8080/"
        },
        "outputId": "eba0a9d4-0946-4c41-fb87-258c8d429232"
      },
      "outputs": [
        {
          "output_type": "stream",
          "name": "stdout",
          "text": [
            "ROMEO:\n",
            "Thou dost confound me to my giol; but, little Verona,\n",
            "Leave me a gale a friend, and full of water,\n",
            "To meet me pass; we muster taints\n",
            "Whilst from those death o' the patricians, is wrecked\n",
            "With teops shall power: it seems, the bleeder\n",
            "That will she that vain crocks him to't.\n",
            "\n",
            "PRINCE:\n",
            "They do mesbect the Volsces straight.\n",
            "\n",
            "YORK:\n",
            "O God, Dog'st thou? and we met?\n",
            "\n",
            "CLARENCE:\n",
            "Thy state thy growing chastes the studies.\n",
            "But where to see a naked?\n",
            "\n",
            "CATESBY:\n",
            "Call them both my bosom: if you will rispose\n",
            "But of thee better than those things:\n",
            "In those guilt chesters up and dull relissing fly:\n",
            "The Richard of accemparatell, move instantly, good\n",
            "Wrick, had I not the posting this andino do express\n",
            "You know, if it pleasest from me. Now, be!\n",
            "Flantering he hath still buy simply of their\n",
            "harsh, and my companion on a stroke of breath;\n",
            "For some unwas by Advising attempt\n",
            "Of your dread prince's son a Volscian touch\n",
            "Have model, unto a sons of hopes cures?\n",
            "Now we must all points reverK the deep\n",
            "And deaple's course \n",
            "\n",
            "________________________________________________________________________________\n",
            "\n",
            "Run time: 4.570895433425903\n"
          ]
        }
      ],
      "source": [
        "start = time.time()\n",
        "states = None\n",
        "next_char = tf.constant(['ROMEO:'])\n",
        "result = [next_char]\n",
        "\n",
        "for n in range(1000):\n",
        "  next_char, states = one_step_model.generate_one_step(next_char, states=states)\n",
        "  result.append(next_char)\n",
        "\n",
        "result = tf.strings.join(result)\n",
        "end = time.time()\n",
        "print(result[0].numpy().decode('utf-8'), '\\n\\n' + '_'*80)\n",
        "print('\\nRun time:', end - start)"
      ]
    },
    {
      "cell_type": "markdown",
      "metadata": {
        "id": "9DT_eBTmMrqL"
      },
      "source": [
        "Hal termudah yang dapat Anda lakukan untuk meningkatkan hasil adalah dengan melatihnya lebih lama (coba EPOCHS = 30). Anda juga dapat bereksperimen dengan string awal yang berbeda, mencoba menambahkan lapisan RNN lain untuk meningkatkan akurasi model, atau menyesuaikan parameter suhu untuk menghasilkan prediksi yang kurang lebih acak.\n",
        "\n",
        "Jika Anda ingin model menghasilkan teks lebih cepat, hal termudah yang dapat Anda lakukan adalah membuat teks secara batch. Pada contoh di bawah, model menghasilkan 5 keluaran dalam waktu yang hampir sama dengan waktu yang dibutuhkan untuk menghasilkan 1 keluaran di atas."
      ]
    },
    {
      "cell_type": "code",
      "execution_count": null,
      "metadata": {
        "id": "RVCNZqltMuon",
        "colab": {
          "base_uri": "https://localhost:8080/"
        },
        "outputId": "39fae1df-f770-466c-986e-3495c7c93f5d"
      },
      "outputs": [
        {
          "output_type": "stream",
          "name": "stdout",
          "text": [
            "tf.Tensor(\n",
            "[b\"ROMEO:\\nThis boy of law, this day as freshy! and mice it I have\\none that spirit is alare to do.\\n\\nDUKE OF AUMERLE:\\nNor I.\\n\\nTRANIO:\\nBut to contise what taught you as a book, gentle Earl\\nFor Marcius, healtors!\\n\\nPRINCENEM:\\nMy lords, for all the great car murder, even\\nI light ingrave to bear a lightning.\\nStrange, open to try! cousio!\\n\\nTHOMAS MOWBRAY:\\nGo get, the land o'er his business, whose suit I have.\\n\\nLUCIO:\\nThis, which was an ear to liberty enrol.\\nWhat's King of Naples? hance and prayer'd love?\\n\\nJOHN OF GAUNT:\\nWhat if my Branchoo, have you lauly.\\nBut, O, it crops, and threatening room\\nThat ne'er was crown'd in Padua. Do not repent\\nMy party friendly proclamation.\\n\\nLord Mayor:\\nBut you have discretty deriver to haste,\\nThose children he kills flaughter'd him,\\nAs hope at Padam's piece of tume, unless\\nThe fruits of loving time.\\n\\nKING RICHARD III:\\nLo, live, and as my father, entreat, and fear\\nWhen you are paid for your living friends,--\\nLo, in thy miserable bad,\\nAttendants near the people will rebel\"\n",
            " b\"ROMEO:\\nWhy, then he shall.\\n\\nKING RICHARD II:\\nTruet, for our Aunt, if ever frownd your woes,\\nOr send you have some wound before him, he\\ncannot be abused: a mind gates me and tell the\\nprick and princess, so mine as Bianca's love,\\nSo must for by the strict relieve and fill\\nThis fees hard-hender and turn tiesy; the\\npunsom grace by chanced my master's son,\\nLene's nourish'd his death's spreading\\nThan a husband teck again. It will, no doubt,\\nYearers and free under my course.\\n\\nLord:\\nThou hadst malapent; and e'er I name thy cousin will\\nhear out soften, underneath the axquires\\nAfterward sorethy: he is a nuke's return:\\nSo thrive I with triumphanted: say I.\\n\\nGLOUCESTER:\\n\\nKING EDWARD IV:\\nNow tell me, mightyou lie a boy; and thou as pries\\nPetricarsliares, and no other men:\\nYou lies in gallant case.\\nBesides him for this I.\\nIf God's so foolish and time Ratchman:\\n'Tis thought the true proportion.\\n\\nGRUMIO:\\nNo, by saint, let a sire were confided\\nLest his subtied to the sea-full wench: very lost\\nAnd pale clebre\"\n",
            " b\"ROMEO:\\nHer dowerous life, I charge thee, sir,\\nTo Romeo rise and shall begin together.\\n\\nKING RICHARD II:\\nTaste leg on me, and we will make thee cry.\\n\\nGREMIO:\\nNo, say you so?\\n\\nPOMPEY:\\nHis is the back:\\nYou should have fruit? Yet whom the oracle\\nCall are well when he hath caused in few,\\nThy voice is shamed upon your flatter's shoul,\\nAnd threaten is enclinedly in thy money,\\nA tardy spoiled and grief is almost to destroy.\\n3 KING HENRY VI\\n\\nKING EDWARD IV:\\nLord Angelo is angry maken out of them, with such men\\n'vouch in others lawful king; but yes,\\nHow blood like persons mourn was point with ourselves,\\nSo finish'd their owelful tredicales?\\nAre so? a power'd man?\\n\\nProvost:\\nYou were was a man shall serve me well.\\n\\nAUFIDIUS:\\nOnly faires on the citizens,\\nI tell you with a grub and scars and there\\nMy tarpeor, being tender, let me know my mend.\\n\\nPAULINA:\\nTell me to bid and way:\\nSoft for reverence, if he had labe's note\\nWho is as image of admirous,\\nOr be king enjoy their services him bear,\\nAnd bid her good?\"\n",
            " b\"ROMEO:\\nThou wilt Chrove woe? The valiant breasts\\nAffection stinking gods! since it is strange: the life\\nwas the fat unwith'd friends upon my brows.\\n\\nLADY ANNE:\\nIn thy absence fair Paunt he would not.\\nMy Lord Aught our cousin, cannot something;\\nUnto the crown, you one that rough in harm\\nOf an your mest to sound.\\n\\nPROSPERO:\\nBe so soon proud suit;\\nBut let me be accused if thought\\nThere is any praise upon my mind,\\nWhich, bying med, the city press the mind of majesty\\nAgainst as bigger-tired by night,\\nNow down will friendly use to please, in the preservation\\nof nobleck, whiles you were kept a body will not come abtempt\\nOur gown and Emper, there are strong but stainted:\\nMy brains and sort, as it is for me:\\nOur vantia issue.\\n\\nServant:\\nYes, I would you swear, an it up their inclant.\\n\\nHENRY BOLINGBROKE:\\nEither thou our gracest knee wrong'd your poor,\\nAnd twas to do here who, within this last enclisalt,\\nEscapentation of welcome intertried.\\nWhat life and cheek? We'll have cruep for that pilest,\\nRomeo se\"\n",
            " b\"ROMEO:\\nBut what like the king spides this speech of\\nMortal father goilting law being so bound of life,\\nAt subdle unlow'd thoughts, to bear us\\nA traffic wench to me; who, tempt a few,\\nwhich lain these gifts a sod, if Warwick pays almost;\\nFor he our coming is it, in the field,\\nWhere, any thing expect his house,\\nThough bawdrim's in the city fath o' the city:\\nIf any in orance or bold, I have show'd myself\\nNor place with thy breath doth lack for leave,\\nStripe flowers: almost as greetings to be aughter'd from the city:\\nIf this shipp'd, drunk, and not thy English keeping.\\n\\nSecond Servingman:\\nA dullad of struck once.\\n\\nHENRY BOLINGBROKE:\\nExeter, thou villain: sir, a royal temps\\nThat e'er I did you speak.\\n\\nAUFIDIUS:\\nSon Ky.NG RICHARD III:\\nAy, I will lie with me down. Padie be!\\nI long to have that poor betwife to be immodation\\nWhat is the change thou art a crast, look ashale\\nWith spite appear by with our battle, which ere for the\\nThops of daughter.\\n\\nPROSPERO:\\nO, then speak'st trouble\\nWill bring me to m\"], shape=(5,), dtype=string) \n",
            "\n",
            "________________________________________________________________________________\n",
            "\n",
            "Run time: 3.459749460220337\n"
          ]
        }
      ],
      "source": [
        "start = time.time()\n",
        "states = None\n",
        "next_char = tf.constant(['ROMEO:', 'ROMEO:', 'ROMEO:', 'ROMEO:', 'ROMEO:'])\n",
        "result = [next_char]\n",
        "\n",
        "for n in range(1000):\n",
        "  next_char, states = one_step_model.generate_one_step(next_char, states=states)\n",
        "  result.append(next_char)\n",
        "\n",
        "result = tf.strings.join(result)\n",
        "end = time.time()\n",
        "print(result, '\\n\\n' + '_'*80)\n",
        "print('\\nRun time:', end - start)"
      ]
    },
    {
      "cell_type": "markdown",
      "metadata": {
        "id": "EjBRfIBYMtrU"
      },
      "source": [
        "##**Ekspor Model Generator**\n",
        "Model satu langkah ini dapat dengan mudah disimpan dan digunakan kembali, memungkinkan Anda menggunakannya di mana pun tf.saved_model diterima."
      ]
    },
    {
      "cell_type": "code",
      "execution_count": null,
      "metadata": {
        "id": "2auHxYomM0Kr",
        "colab": {
          "base_uri": "https://localhost:8080/"
        },
        "outputId": "9badee82-99a6-4cb4-9ebe-d985255bec4a"
      },
      "outputs": [
        {
          "output_type": "stream",
          "name": "stderr",
          "text": [
            "WARNING:tensorflow:Skipping full serialization of Keras layer <__main__.OneStep object at 0x7b78ff8fc430>, because it is not built.\n",
            "WARNING:tensorflow:Model's `__init__()` arguments contain non-serializable objects. Please implement a `get_config()` method in the subclassed Model for proper saving and loading. Defaulting to empty config.\n",
            "WARNING:tensorflow:Model's `__init__()` arguments contain non-serializable objects. Please implement a `get_config()` method in the subclassed Model for proper saving and loading. Defaulting to empty config.\n"
          ]
        }
      ],
      "source": [
        "tf.saved_model.save(one_step_model, 'one_step')\n",
        "one_step_reloaded = tf.saved_model.load('one_step')"
      ]
    },
    {
      "cell_type": "code",
      "execution_count": null,
      "metadata": {
        "id": "LLw-k93AM0zF",
        "colab": {
          "base_uri": "https://localhost:8080/"
        },
        "outputId": "adbc6669-03a9-4484-9617-c4e46862867a"
      },
      "outputs": [
        {
          "output_type": "stream",
          "name": "stdout",
          "text": [
            "ROMEO:\n",
            "There is a sort in this mile and heart:\n",
            "What counsel may say, Clarence,\n",
            "That we may be a conqueror'\n"
          ]
        }
      ],
      "source": [
        "states = None\n",
        "next_char = tf.constant(['ROMEO:'])\n",
        "result = [next_char]\n",
        "\n",
        "for n in range(100):\n",
        "  next_char, states = one_step_reloaded.generate_one_step(next_char, states=states)\n",
        "  result.append(next_char)\n",
        "\n",
        "print(tf.strings.join(result)[0].numpy().decode(\"utf-8\"))"
      ]
    },
    {
      "cell_type": "markdown",
      "source": [
        "#**TUGAS KELOMPOK**"
      ],
      "metadata": {
        "id": "xP4ZetasZJo2"
      }
    },
    {
      "cell_type": "markdown",
      "source": [
        "1. Jalankan Model dan hitung loss dengan tf.GradientTape.\n",
        "2. Hitung update dan terapkan pada model dengan optimizer"
      ],
      "metadata": {
        "id": "_2wkQ-V-ZOL6"
      }
    },
    {
      "cell_type": "code",
      "source": [
        "import tensorflow as tf\n",
        "\n",
        "class CustomTraining(MyModel):\n",
        "  @tf.function\n",
        "  def train_step(self, inputs):\n",
        "      inputs, labels = inputs\n",
        "      with tf.GradientTape() as tape:\n",
        "          predictions = self(inputs, training=True)\n",
        "          loss = self.loss(labels, predictions)\n",
        "      grads = tape.gradient(loss, model.trainable_variables)\n",
        "      self.optimizer.apply_gradients(zip(grads, model.trainable_variables))\n",
        "\n",
        "      return {'loss': loss}"
      ],
      "metadata": {
        "id": "aR4mjvmWZTuh"
      },
      "execution_count": null,
      "outputs": []
    },
    {
      "cell_type": "markdown",
      "source": [
        "Kode diatas menerapkan train_step method sesuai dengan Keras' train_step conventions. Ini opsional, tetapi memungkinkan Anda mengubah perilaku langkah pelatihan dan tetap menggunakan keras Model.compile and Model.fit methods."
      ],
      "metadata": {
        "id": "BfeBtg53Zh1i"
      }
    },
    {
      "cell_type": "code",
      "source": [
        "model = CustomTraining(\n",
        "  vocab_size=len(ids_from_chars.get_vocabulary()),\n",
        "  embedding_dim=embedding_dim,\n",
        "  rnn_units=rnn_units)"
      ],
      "metadata": {
        "id": "A0oNgPXhZkoD"
      },
      "execution_count": null,
      "outputs": []
    },
    {
      "cell_type": "code",
      "source": [
        "model.compile(optimizer = tf.keras.optimizers.Adam(),\n",
        "              loss=tf.keras.losses.SparseCategoricalCrossentropy(from_logits=True))"
      ],
      "metadata": {
        "id": "k80DICSwZoXV"
      },
      "execution_count": null,
      "outputs": []
    },
    {
      "cell_type": "code",
      "source": [
        "model.fit(dataset, epochs=1)"
      ],
      "metadata": {
        "colab": {
          "base_uri": "https://localhost:8080/"
        },
        "id": "_DytThateNxv",
        "outputId": "617e22cf-660c-41ca-d367-d7dddd656c6c"
      },
      "execution_count": null,
      "outputs": [
        {
          "output_type": "stream",
          "name": "stdout",
          "text": [
            "172/172 [==============================] - 16s 60ms/step - loss: 2.7348\n"
          ]
        },
        {
          "output_type": "execute_result",
          "data": {
            "text/plain": [
              "<keras.src.callbacks.History at 0x7b79054178b0>"
            ]
          },
          "metadata": {},
          "execution_count": 82
        }
      ]
    },
    {
      "cell_type": "markdown",
      "source": [
        "Atau jika ingin lebih mengetahui dalamnya, kita bisa membuat custom training loop sendiri:"
      ],
      "metadata": {
        "id": "tYY430JheR3C"
      }
    },
    {
      "cell_type": "code",
      "source": [
        "EPOCHS = 10\n",
        "\n",
        "mean = tf.metrics.Mean()\n",
        "\n",
        "for epoch in range(EPOCHS):\n",
        "    start = time.time()\n",
        "\n",
        "    mean.reset_states()\n",
        "    for (batch_n, (inp, target)) in enumerate(dataset):\n",
        "        logs = model.train_step([inp, target])\n",
        "        mean.update_state(logs['loss'])\n",
        "\n",
        "        if batch_n % 50 == 0:\n",
        "            template = f\"Epoch {epoch+1} Batch {batch_n} Loss {logs['loss']:.4f}\"\n",
        "            print(template)\n",
        "\n",
        "        # saving (checkpoint) the model every 5 epochs\n",
        "        if (epoch + 1) % 5 == 0:\n",
        "            model.save_weights(checkpoint_prefix.format(epoch=epoch))\n",
        "\n",
        "    print()\n",
        "    print(f'Epoch {epoch+1} Loss: {mean.result().numpy():.4f}')\n",
        "    print(f'Time taken for 1 epoch {time.time() - start:.2f} sec')\n",
        "    print(\"_\" * 80)\n",
        "\n",
        "model.save_weights(checkpoint_prefix.format(epoch=epoch))\n"
      ],
      "metadata": {
        "colab": {
          "base_uri": "https://localhost:8080/"
        },
        "id": "nulXXOMZiZEr",
        "outputId": "3ddf80da-cb1d-4c11-b284-a7371d15db65"
      },
      "execution_count": null,
      "outputs": [
        {
          "output_type": "stream",
          "name": "stdout",
          "text": [
            "Epoch 1 Batch 0 Loss 2.1941\n",
            "Epoch 1 Batch 50 Loss 2.0711\n",
            "Epoch 1 Batch 100 Loss 1.9441\n",
            "Epoch 1 Batch 150 Loss 1.8802\n",
            "\n",
            "Epoch 1 Loss: 1.9956\n",
            "Time taken for 1 epoch 13.09 sec\n",
            "________________________________________________________________________________\n",
            "Epoch 2 Batch 0 Loss 1.8363\n",
            "Epoch 2 Batch 50 Loss 1.7327\n",
            "Epoch 2 Batch 100 Loss 1.6873\n",
            "Epoch 2 Batch 150 Loss 1.6431\n",
            "\n",
            "Epoch 2 Loss: 1.7146\n",
            "Time taken for 1 epoch 12.25 sec\n",
            "________________________________________________________________________________\n",
            "Epoch 3 Batch 0 Loss 1.6109\n",
            "Epoch 3 Batch 50 Loss 1.5543\n",
            "Epoch 3 Batch 100 Loss 1.5101\n",
            "Epoch 3 Batch 150 Loss 1.4926\n",
            "\n",
            "Epoch 3 Loss: 1.5547\n",
            "Time taken for 1 epoch 12.16 sec\n",
            "________________________________________________________________________________\n",
            "Epoch 4 Batch 0 Loss 1.4571\n",
            "Epoch 4 Batch 50 Loss 1.4412\n",
            "Epoch 4 Batch 100 Loss 1.4741\n",
            "Epoch 4 Batch 150 Loss 1.4936\n",
            "\n",
            "Epoch 4 Loss: 1.4553\n",
            "Time taken for 1 epoch 10.98 sec\n",
            "________________________________________________________________________________\n",
            "Epoch 5 Batch 0 Loss 1.4042\n",
            "Epoch 5 Batch 50 Loss 1.4150\n",
            "Epoch 5 Batch 100 Loss 1.3780\n",
            "Epoch 5 Batch 150 Loss 1.3996\n",
            "\n",
            "Epoch 5 Loss: 1.3867\n",
            "Time taken for 1 epoch 40.90 sec\n",
            "________________________________________________________________________________\n",
            "Epoch 6 Batch 0 Loss 1.3208\n",
            "Epoch 6 Batch 50 Loss 1.3541\n",
            "Epoch 6 Batch 100 Loss 1.3363\n",
            "Epoch 6 Batch 150 Loss 1.3354\n",
            "\n",
            "Epoch 6 Loss: 1.3337\n",
            "Time taken for 1 epoch 10.93 sec\n",
            "________________________________________________________________________________\n",
            "Epoch 7 Batch 0 Loss 1.2788\n",
            "Epoch 7 Batch 50 Loss 1.2798\n",
            "Epoch 7 Batch 100 Loss 1.2707\n",
            "Epoch 7 Batch 150 Loss 1.3010\n",
            "\n",
            "Epoch 7 Loss: 1.2886\n",
            "Time taken for 1 epoch 11.00 sec\n",
            "________________________________________________________________________________\n",
            "Epoch 8 Batch 0 Loss 1.2263\n",
            "Epoch 8 Batch 50 Loss 1.2490\n",
            "Epoch 8 Batch 100 Loss 1.2447\n",
            "Epoch 8 Batch 150 Loss 1.2630\n",
            "\n",
            "Epoch 8 Loss: 1.2484\n",
            "Time taken for 1 epoch 11.09 sec\n",
            "________________________________________________________________________________\n",
            "Epoch 9 Batch 0 Loss 1.1764\n",
            "Epoch 9 Batch 50 Loss 1.2303\n",
            "Epoch 9 Batch 100 Loss 1.1781\n",
            "Epoch 9 Batch 150 Loss 1.1899\n",
            "\n",
            "Epoch 9 Loss: 1.2088\n",
            "Time taken for 1 epoch 12.06 sec\n",
            "________________________________________________________________________________\n",
            "Epoch 10 Batch 0 Loss 1.1206\n",
            "Epoch 10 Batch 50 Loss 1.1426\n",
            "Epoch 10 Batch 100 Loss 1.1875\n",
            "Epoch 10 Batch 150 Loss 1.1774\n",
            "\n",
            "Epoch 10 Loss: 1.1699\n",
            "Time taken for 1 epoch 49.54 sec\n",
            "________________________________________________________________________________\n"
          ]
        }
      ]
    },
    {
      "cell_type": "markdown",
      "source": [
        "Jalankan kode diatas dan sebutkan perbedaanya dengan praktikum 2?"
      ],
      "metadata": {
        "id": "3ILpQXNZeWGC"
      }
    }
  ],
  "metadata": {
    "colab": {
      "provenance": [],
      "gpuType": "T4",
      "authorship_tag": "ABX9TyPYaiyn0TJg1mhMJ/F6Gfn0",
      "include_colab_link": true
    },
    "kernelspec": {
      "display_name": "Python 3",
      "name": "python3"
    },
    "language_info": {
      "name": "python"
    },
    "accelerator": "GPU"
  },
  "nbformat": 4,
  "nbformat_minor": 0
}