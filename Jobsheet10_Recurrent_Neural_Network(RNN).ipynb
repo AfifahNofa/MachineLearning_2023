{
  "cells": [
    {
      "cell_type": "markdown",
      "metadata": {
        "id": "view-in-github",
        "colab_type": "text"
      },
      "source": [
        "<a href=\"https://colab.research.google.com/github/AfifahNofa/MachineLearning_2023/blob/main/Jobsheet10_Recurrent_Neural_Network(RNN).ipynb\" target=\"_parent\"><img src=\"https://colab.research.google.com/assets/colab-badge.svg\" alt=\"Open In Colab\"/></a>"
      ]
    },
    {
      "cell_type": "markdown",
      "metadata": {
        "id": "6NFHA5oRFN23"
      },
      "source": [
        "##**Nama    : Afifah Nofa Kurnia Rahmadani**\n",
        "##**Nim     : 2141720103**\n",
        "##**Kelas   : TI-3B**\n",
        "##**No.Abs  : 03**"
      ]
    },
    {
      "cell_type": "markdown",
      "metadata": {
        "id": "GpjXTqIBFO7s"
      },
      "source": [
        "#**JOBSHEET 10 - RECURRENT NEURAL NETWORK(RNN)**\n",
        "#Praktikum 1-RNN untuk Analisis Sentimen\n"
      ]
    },
    {
      "cell_type": "markdown",
      "metadata": {
        "id": "jQ7b7TNwFho3"
      },
      "source": [
        "**Setup**\n",
        "\n",
        "Impor matplotlib dan buat fungsi pembantu untuk memplot grafik:"
      ]
    },
    {
      "cell_type": "code",
      "execution_count": 2,
      "metadata": {
        "id": "MJObLlviEU9S"
      },
      "outputs": [],
      "source": [
        "import numpy as np\n",
        "import tensorflow_datasets as tfds\n",
        "import tensorflow as tf\n",
        "\n",
        "tfds.disable_progress_bar()"
      ]
    },
    {
      "cell_type": "code",
      "execution_count": 3,
      "metadata": {
        "id": "qIBMZR20FoVY"
      },
      "outputs": [],
      "source": [
        "import matplotlib.pyplot as plt\n",
        "\n",
        "def plot_graphs(history, metric):\n",
        "  plt.plot(history.history[metric])\n",
        "  plt.plot(history.history['val_'+metric], '')\n",
        "  plt.xlabel(\"Epochs\")\n",
        "  plt.ylabel(metric)\n",
        "  plt.legend([metric, 'val_'+metric])"
      ]
    },
    {
      "cell_type": "markdown",
      "metadata": {
        "id": "47kLvUJfFvRd"
      },
      "source": [
        "**Setup input pipeline**\n",
        "\n",
        "Dataset ulasan film IMDB adalah kumpulan data klasifikasi biner—semua ulasan memiliki sentimen positif atau negatif.\n",
        "Download dataset menggunakan TFDS. Lihat loading text tutorial jika ingin me load data secara manual"
      ]
    },
    {
      "cell_type": "code",
      "execution_count": 4,
      "metadata": {
        "colab": {
          "base_uri": "https://localhost:8080/",
          "height": 0
        },
        "id": "5Z6iXHqgF4Cc",
        "outputId": "568cd84b-cb3c-4e96-ec5d-eedd9e3bf098"
      },
      "outputs": [
        {
          "output_type": "stream",
          "name": "stdout",
          "text": [
            "Downloading and preparing dataset 80.23 MiB (download: 80.23 MiB, generated: Unknown size, total: 80.23 MiB) to /root/tensorflow_datasets/imdb_reviews/plain_text/1.0.0...\n",
            "Dataset imdb_reviews downloaded and prepared to /root/tensorflow_datasets/imdb_reviews/plain_text/1.0.0. Subsequent calls will reuse this data.\n"
          ]
        },
        {
          "output_type": "execute_result",
          "data": {
            "text/plain": [
              "(TensorSpec(shape=(), dtype=tf.string, name=None),\n",
              " TensorSpec(shape=(), dtype=tf.int64, name=None))"
            ]
          },
          "metadata": {},
          "execution_count": 4
        }
      ],
      "source": [
        "dataset, info = tfds.load('imdb_reviews', with_info=True,\n",
        "                          as_supervised=True)\n",
        "train_dataset, test_dataset = dataset['train'], dataset['test']\n",
        "\n",
        "train_dataset.element_spec"
      ]
    },
    {
      "cell_type": "markdown",
      "metadata": {
        "id": "O7PGBCbJF9Mt"
      },
      "source": [
        "Awalnya ini mengembalikan dataset (teks, pasangan label):"
      ]
    },
    {
      "cell_type": "code",
      "execution_count": 5,
      "metadata": {
        "colab": {
          "base_uri": "https://localhost:8080/",
          "height": 0
        },
        "id": "iupGIC5NF-GZ",
        "outputId": "53ce7e7b-5cc7-4545-ab29-3d37603de2b6"
      },
      "outputs": [
        {
          "output_type": "stream",
          "name": "stdout",
          "text": [
            "texts:  [b\"Very good martial arts film and Jet Li is the best since the master himself Bruce Lee .Li is excellent as the low key librarian/cop who saves all time and time again . He has a presence and a look that is riveting and believable as the kung fu king that you don't mess with .Francoise Yip is simply beautiful in that mixed race original way that is unique because of her mixed heritage , she has an innocence and an allure all at the same time that I found unforgettable .The villain , the man with the sunglasses and long hair was very good as well but I can't find his name in the credits , can some one help me out with that ? Thanks ! Enjoy Hak hap or Black Mask , in any language its good entertainment !\"\n",
            " b\"A battleship is sinking... Its survivors, hanging onto a nearby liferaft, sit there doing nothing while we go into each of their minds for a series of long flashbacks.<br /><br />Even though Noel Coward's name is the only one that you notice during the credits, everything that's cinematic in it is because of Lean. And on technical terms, its very good. David Lean just KNEW films from the get-go. There are many moments where Coward's studied dialogue takes a second seat and Lean's visual sense takes centre stage. Try the soldiers getting off the ship near the end, and that whole scene; the tracking shot towards the hymn singing, the scene where we're inside a house that gets bombed.<br /><br />Noel Coward is one of the worst actors i've ever seen. He's totally wooden, not displaying emotion, character or humanity. You can see it in his eyes that he's not really listening to what the other performer is saying, he's just waiting for them to finish so he can rush out his own line.<br /><br />7/10.<br /><br />Its episodic, a bit repetitive, and the flashbacks overwhelm the story: there's no central story that they advance, just give general insights into the characters. Still, its an interesting film worth a watch - and a good debut for Lean. Its not a very deep or penetrating film, and its definitely a propaganda film, but its also a showcase for Lean's editing skills - its all about how the pieces are put together.\"\n",
            " b'According to IMDb Takashi Miike\\'s Master of Horror-segment, Imprint, was banned in the US. So I figured I\\'d translate the Swedish review I just wrote for it...<br /><br />It was hard to NOT have any sort of expectations from Ichi The Killer-director Takashi Miike\\'s episode in the Masters of Horror series. And the DVD-cover of Imprint did in deed look very promising.<br /><br />The story mostly takes place in a remote Japanese bordello, some time during the 19th century, and it tells the tale of a journalist searching for Komomo, the woman he left behind and whom he promised to return for. Tired and dejected he arrives at the bordello, hoping that this will be the end of his very long journey. It turns out that one of the prostitutes, a deformed and quiet girl, know about Komomo, and the desperate man makes her tell him where she is and what has happened to her since he left. The story she tells him is as deplorable as it is hard to swallow...<br /><br />The first thing that hit me about the episode was how unnatural it seemed that the Japanese cast for the most part spoke fluent American-English. But I will leave it at that, it\\'s not that big a deal. What IS a big deal however is how miserable the rest of it was. Miike\\'s tale moves at such a slow pace that I couldn\\'t help looking at my watch several times during the 63 minutes. The extended torure-scene, that takes place somewhere in the middle of the movie, felt so unmotivated - and pornographically intrusive - that not even THAT scene became interesting. I felt like it was violent just for the sake of violence itself - with no sense of style or purpose. The only scenes that provoked any kind of emotion out of me were the images of bloody fetuses rolling along the bottom of the swiftly flowing water...and, in all honesty, the only emotions they provoked were feelings of disgust.<br /><br />The journalist seeking the love he left behind is played by Billy Drago, for me most memorable as Frank Nitti - Al Capones whiteclad assassin in Brian De Palmas The Untouchables (1987). I\\'ve always found Dragos portrayal of Nitti to be very icy (and I mean that in a good way), and that is probably why I was almost annoyed when I found him to be so terrible (NOT in a good way) in this one. His acting seems to flow between no feelings or empathy whatsoever to displays of some really bad overacting. When his character is supposed to react to the awful things Komomo has been subjected to I was sitting in the sofa, twisting and turning in an attempt to escape the horrible actingjob put forth by Drago. I\\'m grateful that most of the story is told by Yuoki Kudoh (Memoirs of a geisha, 2005), who plays the deformed prostitute.<br /><br />The finale is probably supposed to be chocking, maybe even revolting and horrid, but I just found it to be kind of...you know... \"blah\" (and I looked at my watch again, for the umptieth time, just wishing the crappy episode would end). Maybe the finale caused me to smile just a bit, but that\\'s only because I couldn\\'t help thinking of an episode of Red Dwarf, and the upside-down chins of Craig Charles and Danny John-Jules, with eyes glued on them to make them look like aliens... Lucky you, if you\\'ve seen that episode and now decide to see Imprint, I will forever have ruined the visuals of the ending for you.<br /><br />My first thought, when Imprint finally ended, was that the only thing that made the pain of watching it worth it, was hearing the main title theme by Edward Shearmur (the same music I believe is used in every episode of this series), and that - if anything - is a big friggin warning, don\\'t you think?<br /><br />One might point to the costume design, by Michiko Kitamura, and say that there, at least, is something NOT lacking in style and refinement...but there are so many other films and TV-shows that is so much better at showing off the Japanese \"geisha-fashion\". This is nothing but inferior and I am disappointed. Takashi Miike\\'s Masters of Horror-episode is boring, uninspiring and pointless. In other words; It\\'s really, really BAD!']\n",
            "\n",
            "labels:  [1 0 0]\n"
          ]
        }
      ],
      "source": [
        "BUFFER_SIZE = 10000\n",
        "BATCH_SIZE = 64\n",
        "\n",
        "train_dataset = train_dataset.shuffle(BUFFER_SIZE).batch(BATCH_SIZE).prefetch(tf.data.AUTOTUNE)\n",
        "test_dataset = test_dataset.batch(BATCH_SIZE).prefetch(tf.data.AUTOTUNE)\n",
        "\n",
        "for example, label in train_dataset.take(1):\n",
        "  print('texts: ', example.numpy()[:3])\n",
        "  print()\n",
        "  print('labels: ', label.numpy()[:3])\n"
      ]
    },
    {
      "cell_type": "markdown",
      "metadata": {
        "id": "efiRO8sEGLN2"
      },
      "source": [
        "**Buat Teks Encoder**\n",
        "\n",
        "Teks mentah yang dimuat oleh tfds perlu diproses sebelum dapat digunakan dalam model. Cara termudah memproses teks untuk pelatihan adalah menggunakan lapisan TextVectorization. Lapisan ini memiliki banyak kemampuan, namun pada tutorial ini menggunakan perilaku default. Buat lapisan tersebut, dan teruskan teks kumpulan data ke metode .adapt lapisan:"
      ]
    },
    {
      "cell_type": "code",
      "execution_count": 6,
      "metadata": {
        "id": "THzmwTX9GQrc"
      },
      "outputs": [],
      "source": [
        "VOCAB_SIZE = 1000\n",
        "encoder = tf.keras.layers.TextVectorization(\n",
        "    max_tokens=VOCAB_SIZE)\n",
        "encoder.adapt(train_dataset.map(lambda text, label: text))"
      ]
    },
    {
      "cell_type": "markdown",
      "metadata": {
        "id": "nM2jG2ecGTwU"
      },
      "source": [
        "Metode .adapt mengatur kosakata lapisan. 20 token pertama dapat dilihat dengan kode berikut. Setelah padding dan token yang tidak diketahui, mereka diurutkan berdasarkan frekuensi:"
      ]
    },
    {
      "cell_type": "code",
      "execution_count": 7,
      "metadata": {
        "colab": {
          "base_uri": "https://localhost:8080/",
          "height": 0
        },
        "id": "dxWpHwXDGV7O",
        "outputId": "7223d8fa-b064-474c-bebb-86b570aa2e76"
      },
      "outputs": [
        {
          "output_type": "execute_result",
          "data": {
            "text/plain": [
              "array(['', '[UNK]', 'the', 'and', 'a', 'of', 'to', 'is', 'in', 'it', 'i',\n",
              "       'this', 'that', 'br', 'was', 'as', 'for', 'with', 'movie', 'but'],\n",
              "      dtype='<U14')"
            ]
          },
          "metadata": {},
          "execution_count": 7
        }
      ],
      "source": [
        "vocab = np.array(encoder.get_vocabulary())\n",
        "vocab[:20]"
      ]
    },
    {
      "cell_type": "markdown",
      "metadata": {
        "id": "QBGP7Je4GfAk"
      },
      "source": [
        "Setelah kosakata diatur, lapisan dapat mengkodekan teks ke dalam indeks. Tensor indeks diberi bantalan 0 ke urutan terpanjang dalam batch (kecuali jika Anda menetapkan output_sequence_length tetap):"
      ]
    },
    {
      "cell_type": "code",
      "execution_count": 8,
      "metadata": {
        "colab": {
          "base_uri": "https://localhost:8080/",
          "height": 0
        },
        "id": "ub7LrIzSGf4-",
        "outputId": "e163764f-ec7d-4748-a03a-a70a71707623"
      },
      "outputs": [
        {
          "output_type": "execute_result",
          "data": {
            "text/plain": [
              "array([[ 53,  50,   1, ...,   0,   0,   0],\n",
              "       [  4,   1,   7, ...,   0,   0,   0],\n",
              "       [  1,   6, 951, ...,   0,   0,   0]])"
            ]
          },
          "metadata": {},
          "execution_count": 8
        }
      ],
      "source": [
        "encoded_example = encoder(example)[:3].numpy()\n",
        "encoded_example"
      ]
    },
    {
      "cell_type": "markdown",
      "metadata": {
        "id": "zWOJGJavGkQF"
      },
      "source": [
        "Dengan pengaturan default, prosesnya tidak dapat dibalik sepenuhnya. Ada dua alasan utama untuk itu:\n",
        "- Nilai default untuk argumen standarisasi preprocessing.TextVectorization adalah \"lower_and_strip_punctuation\".\n",
        "- Ukuran kosa kata yang terbatas dan kurangnya fallback berbasis karakter menghasilkan beberapa token yang tidak diketahui."
      ]
    },
    {
      "cell_type": "code",
      "execution_count": 9,
      "metadata": {
        "colab": {
          "base_uri": "https://localhost:8080/",
          "height": 0
        },
        "id": "Z7c69tR8GpeT",
        "outputId": "d4aaddec-3eee-4ed5-e347-11d05e01fe67"
      },
      "outputs": [
        {
          "output_type": "stream",
          "name": "stdout",
          "text": [
            "Original:  b\"Very good martial arts film and Jet Li is the best since the master himself Bruce Lee .Li is excellent as the low key librarian/cop who saves all time and time again . He has a presence and a look that is riveting and believable as the kung fu king that you don't mess with .Francoise Yip is simply beautiful in that mixed race original way that is unique because of her mixed heritage , she has an innocence and an allure all at the same time that I found unforgettable .The villain , the man with the sunglasses and long hair was very good as well but I can't find his name in the credits , can some one help me out with that ? Thanks ! Enjoy Hak hap or Black Mask , in any language its good entertainment !\"\n",
            "Round-trip:  very good [UNK] [UNK] film and [UNK] [UNK] is the best since the [UNK] himself [UNK] lee [UNK] is excellent as the low [UNK] [UNK] who [UNK] all time and time again he has a [UNK] and a look that is [UNK] and believable as the [UNK] [UNK] king that you dont mess with [UNK] [UNK] is simply beautiful in that [UNK] [UNK] original way that is unique because of her [UNK] [UNK] she has an [UNK] and an [UNK] all at the same time that i found [UNK] the [UNK] the man with the [UNK] and long [UNK] was very good as well but i cant find his name in the credits can some one help me out with that [UNK] enjoy [UNK] [UNK] or black [UNK] in any [UNK] its good entertainment                                                                                                                                                                                                                                                                                                                                                                                                                                                                                                                                                                                                                                                                                                                                                                                                                                                                                                                                                                                                                                                                                                                                                                                                                             \n",
            "\n",
            "Original:  b\"A battleship is sinking... Its survivors, hanging onto a nearby liferaft, sit there doing nothing while we go into each of their minds for a series of long flashbacks.<br /><br />Even though Noel Coward's name is the only one that you notice during the credits, everything that's cinematic in it is because of Lean. And on technical terms, its very good. David Lean just KNEW films from the get-go. There are many moments where Coward's studied dialogue takes a second seat and Lean's visual sense takes centre stage. Try the soldiers getting off the ship near the end, and that whole scene; the tracking shot towards the hymn singing, the scene where we're inside a house that gets bombed.<br /><br />Noel Coward is one of the worst actors i've ever seen. He's totally wooden, not displaying emotion, character or humanity. You can see it in his eyes that he's not really listening to what the other performer is saying, he's just waiting for them to finish so he can rush out his own line.<br /><br />7/10.<br /><br />Its episodic, a bit repetitive, and the flashbacks overwhelm the story: there's no central story that they advance, just give general insights into the characters. Still, its an interesting film worth a watch - and a good debut for Lean. Its not a very deep or penetrating film, and its definitely a propaganda film, but its also a showcase for Lean's editing skills - its all about how the pieces are put together.\"\n",
            "Round-trip:  a [UNK] is [UNK] its [UNK] [UNK] [UNK] a [UNK] [UNK] sit there doing nothing while we go into each of their [UNK] for a series of long [UNK] br even though [UNK] [UNK] name is the only one that you [UNK] during the credits everything thats [UNK] in it is because of [UNK] and on [UNK] [UNK] its very good david [UNK] just knew films from the [UNK] there are many moments where [UNK] [UNK] dialogue takes a second [UNK] and [UNK] [UNK] sense takes [UNK] stage try the [UNK] getting off the [UNK] near the end and that whole scene the [UNK] shot towards the [UNK] [UNK] the scene where were inside a house that gets [UNK] br [UNK] [UNK] is one of the worst actors ive ever seen hes totally [UNK] not [UNK] [UNK] character or [UNK] you can see it in his eyes that hes not really [UNK] to what the other [UNK] is saying hes just [UNK] for them to [UNK] so he can [UNK] out his own [UNK] br [UNK] br its [UNK] a bit [UNK] and the [UNK] [UNK] the story theres no [UNK] story that they [UNK] just give general [UNK] into the characters still its an interesting film worth a watch and a good [UNK] for [UNK] its not a very deep or [UNK] film and its definitely a [UNK] film but its also a [UNK] for [UNK] editing [UNK] its all about how the [UNK] are put together                                                                                                                                                                                                                                                                                                                                                                                                                                                                                                                                                                                                                                                                                                                                                                                                                                                                                                                                                                                                                                                                                                           \n",
            "\n",
            "Original:  b'According to IMDb Takashi Miike\\'s Master of Horror-segment, Imprint, was banned in the US. So I figured I\\'d translate the Swedish review I just wrote for it...<br /><br />It was hard to NOT have any sort of expectations from Ichi The Killer-director Takashi Miike\\'s episode in the Masters of Horror series. And the DVD-cover of Imprint did in deed look very promising.<br /><br />The story mostly takes place in a remote Japanese bordello, some time during the 19th century, and it tells the tale of a journalist searching for Komomo, the woman he left behind and whom he promised to return for. Tired and dejected he arrives at the bordello, hoping that this will be the end of his very long journey. It turns out that one of the prostitutes, a deformed and quiet girl, know about Komomo, and the desperate man makes her tell him where she is and what has happened to her since he left. The story she tells him is as deplorable as it is hard to swallow...<br /><br />The first thing that hit me about the episode was how unnatural it seemed that the Japanese cast for the most part spoke fluent American-English. But I will leave it at that, it\\'s not that big a deal. What IS a big deal however is how miserable the rest of it was. Miike\\'s tale moves at such a slow pace that I couldn\\'t help looking at my watch several times during the 63 minutes. The extended torure-scene, that takes place somewhere in the middle of the movie, felt so unmotivated - and pornographically intrusive - that not even THAT scene became interesting. I felt like it was violent just for the sake of violence itself - with no sense of style or purpose. The only scenes that provoked any kind of emotion out of me were the images of bloody fetuses rolling along the bottom of the swiftly flowing water...and, in all honesty, the only emotions they provoked were feelings of disgust.<br /><br />The journalist seeking the love he left behind is played by Billy Drago, for me most memorable as Frank Nitti - Al Capones whiteclad assassin in Brian De Palmas The Untouchables (1987). I\\'ve always found Dragos portrayal of Nitti to be very icy (and I mean that in a good way), and that is probably why I was almost annoyed when I found him to be so terrible (NOT in a good way) in this one. His acting seems to flow between no feelings or empathy whatsoever to displays of some really bad overacting. When his character is supposed to react to the awful things Komomo has been subjected to I was sitting in the sofa, twisting and turning in an attempt to escape the horrible actingjob put forth by Drago. I\\'m grateful that most of the story is told by Yuoki Kudoh (Memoirs of a geisha, 2005), who plays the deformed prostitute.<br /><br />The finale is probably supposed to be chocking, maybe even revolting and horrid, but I just found it to be kind of...you know... \"blah\" (and I looked at my watch again, for the umptieth time, just wishing the crappy episode would end). Maybe the finale caused me to smile just a bit, but that\\'s only because I couldn\\'t help thinking of an episode of Red Dwarf, and the upside-down chins of Craig Charles and Danny John-Jules, with eyes glued on them to make them look like aliens... Lucky you, if you\\'ve seen that episode and now decide to see Imprint, I will forever have ruined the visuals of the ending for you.<br /><br />My first thought, when Imprint finally ended, was that the only thing that made the pain of watching it worth it, was hearing the main title theme by Edward Shearmur (the same music I believe is used in every episode of this series), and that - if anything - is a big friggin warning, don\\'t you think?<br /><br />One might point to the costume design, by Michiko Kitamura, and say that there, at least, is something NOT lacking in style and refinement...but there are so many other films and TV-shows that is so much better at showing off the Japanese \"geisha-fashion\". This is nothing but inferior and I am disappointed. Takashi Miike\\'s Masters of Horror-episode is boring, uninspiring and pointless. In other words; It\\'s really, really BAD!'\n",
            "Round-trip:  [UNK] to imdb [UNK] [UNK] [UNK] of [UNK] [UNK] was [UNK] in the us so i [UNK] id [UNK] the [UNK] review i just [UNK] for itbr br it was hard to not have any sort of [UNK] from [UNK] the [UNK] [UNK] [UNK] episode in the [UNK] of horror series and the [UNK] of [UNK] did in [UNK] look very [UNK] br the story mostly takes place in a [UNK] japanese [UNK] some time during the [UNK] [UNK] and it tells the tale of a [UNK] [UNK] for [UNK] the woman he left behind and whom he [UNK] to return for [UNK] and [UNK] he [UNK] at the [UNK] [UNK] that this will be the end of his very long [UNK] it turns out that one of the [UNK] a [UNK] and [UNK] girl know about [UNK] and the [UNK] man makes her tell him where she is and what has happened to her since he left the story she tells him is as [UNK] as it is hard to [UNK] br the first thing that hit me about the episode was how [UNK] it seemed that the japanese cast for the most part [UNK] [UNK] [UNK] but i will leave it at that its not that big a deal what is a big deal however is how [UNK] the rest of it was [UNK] tale [UNK] at such a slow [UNK] that i couldnt help looking at my watch several times during the [UNK] minutes the [UNK] [UNK] that takes place [UNK] in the middle of the movie felt so [UNK] and [UNK] [UNK] that not even that scene became interesting i felt like it was [UNK] just for the [UNK] of violence itself with no sense of style or [UNK] the only scenes that [UNK] any kind of [UNK] out of me were the [UNK] of [UNK] [UNK] [UNK] along the [UNK] of the [UNK] [UNK] [UNK] in all [UNK] the only [UNK] they [UNK] were [UNK] of [UNK] br the [UNK] [UNK] the love he left behind is played by [UNK] [UNK] for me most memorable as [UNK] [UNK] [UNK] [UNK] [UNK] [UNK] in [UNK] de [UNK] the [UNK] [UNK] ive always found [UNK] [UNK] of [UNK] to be very [UNK] and i mean that in a good way and that is probably why i was almost [UNK] when i found him to be so terrible not in a good way in this one his acting seems to [UNK] between no [UNK] or [UNK] [UNK] to [UNK] of some really bad [UNK] when his character is supposed to [UNK] to the awful things [UNK] has been [UNK] to i was [UNK] in the [UNK] [UNK] and [UNK] in an attempt to [UNK] the horrible [UNK] put [UNK] by [UNK] im [UNK] that most of the story is told by [UNK] [UNK] [UNK] of a [UNK] [UNK] who plays the [UNK] [UNK] br the [UNK] is probably supposed to be [UNK] maybe even [UNK] and [UNK] but i just found it to be kind [UNK] know [UNK] and i looked at my watch again for the [UNK] time just [UNK] the [UNK] episode would end maybe the [UNK] [UNK] me to [UNK] just a bit but thats only because i couldnt help thinking of an episode of red [UNK] and the [UNK] [UNK] of [UNK] [UNK] and [UNK] [UNK] with eyes [UNK] on them to make them look like [UNK] [UNK] you if youve seen that episode and now [UNK] to see [UNK] i will [UNK] have [UNK] the [UNK] of the ending for [UNK] br my first thought when [UNK] finally [UNK] was that the only thing that made the [UNK] of watching it worth it was [UNK] the main title theme by [UNK] [UNK] the same music i believe is used in every episode of this series and that if anything is a big [UNK] [UNK] dont you [UNK] br one might point to the [UNK] [UNK] by [UNK] [UNK] and say that there at least is something not [UNK] in style and [UNK] there are so many other films and [UNK] that is so much better at showing off the japanese [UNK] this is nothing but [UNK] and i am disappointed [UNK] [UNK] [UNK] of [UNK] is boring [UNK] and [UNK] in other words its really really bad                                                                                                                                                                                                                                                                                                                                                                                                                                                                                                                                                                                                               \n",
            "\n"
          ]
        }
      ],
      "source": [
        "for n in range(3):\n",
        "  print(\"Original: \", example[n].numpy())\n",
        "  print(\"Round-trip: \", \" \".join(vocab[encoded_example[n]]))\n",
        "  print()"
      ]
    },
    {
      "cell_type": "markdown",
      "metadata": {
        "id": "CtaCOzxVGsiF"
      },
      "source": [
        "**Buat Model**\n",
        "1. Model ini dapat dibuat sebagai tf.keras.Sequential.\n",
        "2. Lapisan pertama adalah encoder, yang mengubah teks menjadi urutan indeks token.\n",
        "Setelah encoder adalah lapisan penyematan (embedding layer). Lapisan penyematan menyimpan satu vektor per kata. Saat dipanggil, ini mengubah rangkaian indeks kata menjadi rangkaian vektor. Vektor-vektor ini dapat dilatih.\n",
        "3. Setelah pelatihan (dengan data yang cukup), kata-kata dengan arti yang mirip sering kali memiliki vektor yang serupa. Pencarian indeks ini jauh lebih efisien daripada operasi setara dengan meneruskan vektor yang disandikan one-hot melalui lapisan tf.keras.layers.Dense.\n",
        "4. Jaringan saraf berulang (RNN) memproses masukan urutan dengan melakukan iterasi melalui elemen. RNN meneruskan keluaran dari satu langkah waktu ke masukannya pada langkah waktu berikutnya.\n",
        "Pembungkus tf.keras.layers.Bidirection juga dapat digunakan dengan lapisan RNN. Ini menyebarkan masukan maju dan mundur melalui lapisan RNN dan kemudian menggabungkan keluaran akhir.\n",
        "- Keuntungan utama RNN dua arah adalah sinyal dari awal masukan tidak perlu diproses sepanjang waktu untuk memengaruhi keluaran.\n",
        "- Kerugian utama dari RNN dua arah adalah Anda tidak dapat melakukan streaming prediksi secara efisien saat kata-kata ditambahkan di akhir.\n",
        "5. Setelah RNN mengonversi urutan menjadi satu vektor, kedua lapisan tersebut.Dense melakukan beberapa pemrosesan akhir, dan mengonversi representasi vektor ini menjadi logit tunggal sebagai keluaran klasifikasi."
      ]
    },
    {
      "cell_type": "code",
      "execution_count": 10,
      "metadata": {
        "id": "r7k8m8g_HDAO"
      },
      "outputs": [],
      "source": [
        "model = tf.keras.Sequential([\n",
        "    encoder,\n",
        "    tf.keras.layers.Embedding(\n",
        "        input_dim=len(encoder.get_vocabulary()),\n",
        "        output_dim=64,\n",
        "        # Use masking to handle the variable sequence lengths\n",
        "        mask_zero=True),\n",
        "    tf.keras.layers.Bidirectional(tf.keras.layers.LSTM(64)),\n",
        "    tf.keras.layers.Dense(64, activation='relu'),\n",
        "    tf.keras.layers.Dense(1)\n",
        "])"
      ]
    },
    {
      "cell_type": "markdown",
      "metadata": {
        "id": "dhImMeM9HGRh"
      },
      "source": [
        "Harap dicatat bahwa model sekuensial Keras digunakan karena semua lapisan dalam model hanya memiliki masukan tunggal dan menghasilkan keluaran tunggal. Jika ingin menggunakan lapisan RNN stateful, Anda mungkin ingin membangun model Anda dengan API fungsional Keras atau subkelas model sehingga Anda dapat mengambil dan menggunakan kembali status lapisan RNN. Untuk detailnya bisa dilihat pada Keras RNN guide\n",
        "Lapisan penyematan menggunakan masking (uses masking ) untuk menangani panjang urutan yang bervariasi. Semua lapisan setelah penyematan dukungan penyematan"
      ]
    },
    {
      "cell_type": "code",
      "execution_count": 11,
      "metadata": {
        "colab": {
          "base_uri": "https://localhost:8080/",
          "height": 0
        },
        "id": "lEEghhqCHRum",
        "outputId": "962ff120-cf8f-43ba-f998-5b1752b85187"
      },
      "outputs": [
        {
          "output_type": "stream",
          "name": "stdout",
          "text": [
            "[False, True, True, True, True]\n"
          ]
        }
      ],
      "source": [
        "print([layer.supports_masking for layer in model.layers])"
      ]
    },
    {
      "cell_type": "markdown",
      "metadata": {
        "id": "NSRNlHU9HaTX"
      },
      "source": [
        "Untuk memastikan bahwa ini berfungsi seperti yang diharapkan, evaluasi sebuah kalimat dua kali. Pertama, satu kalimat sehingga tidak ada bantalan (padding) untuk disamarkan:"
      ]
    },
    {
      "cell_type": "code",
      "execution_count": 12,
      "metadata": {
        "colab": {
          "base_uri": "https://localhost:8080/",
          "height": 0
        },
        "id": "LvqSVMECHjzY",
        "outputId": "816af501-6785-4c6a-91ab-92ccabd759a4"
      },
      "outputs": [
        {
          "output_type": "stream",
          "name": "stdout",
          "text": [
            "1/1 [==============================] - 7s 7s/step\n",
            "[-0.00190208]\n"
          ]
        }
      ],
      "source": [
        "# predict on a sample text without padding.\n",
        "\n",
        "sample_text = ('The movie was cool. The animation and the graphics '\n",
        "               'were out of this world. I would recommend this movie.')\n",
        "predictions = model.predict(np.array([sample_text]))\n",
        "print(predictions[0])"
      ]
    },
    {
      "cell_type": "markdown",
      "metadata": {
        "id": "wt46KDxxHmQt"
      },
      "source": [
        "Sekarang, evaluasi lagi dalam batch dengan kalimat yang lebih panjang. Hasilnya harus sama:"
      ]
    },
    {
      "cell_type": "code",
      "execution_count": 13,
      "metadata": {
        "colab": {
          "base_uri": "https://localhost:8080/",
          "height": 0
        },
        "id": "eLNP5ZEzHoqT",
        "outputId": "9b643234-1b65-45f4-8873-eb28485f0e5b"
      },
      "outputs": [
        {
          "output_type": "stream",
          "name": "stdout",
          "text": [
            "1/1 [==============================] - 0s 195ms/step\n",
            "[-0.00190207]\n"
          ]
        }
      ],
      "source": [
        "# predict on a sample text with padding\n",
        "\n",
        "padding = \"the \" * 2000\n",
        "predictions = model.predict(np.array([sample_text, padding]))\n",
        "print(predictions[0])"
      ]
    },
    {
      "cell_type": "markdown",
      "metadata": {
        "id": "ge6Nhvn-Hq3t"
      },
      "source": [
        "compile model Keras untuk mengonfigurasi proses pelatihan:"
      ]
    },
    {
      "cell_type": "code",
      "execution_count": 14,
      "metadata": {
        "id": "eYAG5hdlHssS"
      },
      "outputs": [],
      "source": [
        "model.compile(loss=tf.keras.losses.BinaryCrossentropy(from_logits=True),\n",
        "              optimizer=tf.keras.optimizers.Adam(1e-4),\n",
        "              metrics=['accuracy'])"
      ]
    },
    {
      "cell_type": "markdown",
      "metadata": {
        "id": "8VOEQaapHvVp"
      },
      "source": [
        "**Train Model**"
      ]
    },
    {
      "cell_type": "code",
      "execution_count": 15,
      "metadata": {
        "colab": {
          "base_uri": "https://localhost:8080/",
          "height": 0
        },
        "id": "Ukp6bU6CHyYq",
        "outputId": "2b3f7e1c-d794-4cc1-d39b-da47e0a0d93a"
      },
      "outputs": [
        {
          "output_type": "stream",
          "name": "stdout",
          "text": [
            "Epoch 1/10\n",
            "391/391 [==============================] - 50s 101ms/step - loss: 0.6331 - accuracy: 0.5790 - val_loss: 0.4631 - val_accuracy: 0.7604\n",
            "Epoch 2/10\n",
            "391/391 [==============================] - 28s 70ms/step - loss: 0.4429 - accuracy: 0.7923 - val_loss: 0.4254 - val_accuracy: 0.8047\n",
            "Epoch 3/10\n",
            "391/391 [==============================] - 27s 68ms/step - loss: 0.3627 - accuracy: 0.8404 - val_loss: 0.3510 - val_accuracy: 0.8313\n",
            "Epoch 4/10\n",
            "391/391 [==============================] - 26s 66ms/step - loss: 0.3324 - accuracy: 0.8541 - val_loss: 0.3394 - val_accuracy: 0.8625\n",
            "Epoch 5/10\n",
            "391/391 [==============================] - 25s 65ms/step - loss: 0.3158 - accuracy: 0.8618 - val_loss: 0.3282 - val_accuracy: 0.8521\n",
            "Epoch 6/10\n",
            "391/391 [==============================] - 27s 68ms/step - loss: 0.3114 - accuracy: 0.8650 - val_loss: 0.3228 - val_accuracy: 0.8583\n",
            "Epoch 7/10\n",
            "391/391 [==============================] - 26s 65ms/step - loss: 0.3042 - accuracy: 0.8686 - val_loss: 0.3212 - val_accuracy: 0.8604\n",
            "Epoch 8/10\n",
            "391/391 [==============================] - 26s 65ms/step - loss: 0.3005 - accuracy: 0.8700 - val_loss: 0.3265 - val_accuracy: 0.8656\n",
            "Epoch 9/10\n",
            "391/391 [==============================] - 26s 65ms/step - loss: 0.3003 - accuracy: 0.8716 - val_loss: 0.3375 - val_accuracy: 0.8422\n",
            "Epoch 10/10\n",
            "391/391 [==============================] - 26s 65ms/step - loss: 0.2995 - accuracy: 0.8724 - val_loss: 0.3319 - val_accuracy: 0.8609\n"
          ]
        }
      ],
      "source": [
        "history = model.fit(train_dataset, epochs=10,\n",
        " validation_data=test_dataset,\n",
        " validation_steps=30)"
      ]
    },
    {
      "cell_type": "code",
      "execution_count": 16,
      "metadata": {
        "colab": {
          "base_uri": "https://localhost:8080/",
          "height": 0
        },
        "id": "XkcfK5J9H4U9",
        "outputId": "d0f17bd0-e60a-49e9-93b4-4c9377f0a226"
      },
      "outputs": [
        {
          "output_type": "stream",
          "name": "stdout",
          "text": [
            "391/391 [==============================] - 12s 30ms/step - loss: 0.3306 - accuracy: 0.8608\n",
            "Test Loss: 0.33058008551597595\n",
            "Test Accuracy: 0.86080002784729\n"
          ]
        }
      ],
      "source": [
        "test_loss, test_acc = model.evaluate(test_dataset)\n",
        "\n",
        "print('Test Loss:', test_loss)\n",
        "print('Test Accuracy:', test_acc)\n"
      ]
    },
    {
      "cell_type": "code",
      "execution_count": 17,
      "metadata": {
        "id": "DdrPpp_g1GC8",
        "colab": {
          "base_uri": "https://localhost:8080/",
          "height": 719
        },
        "outputId": "67e617a0-1a36-4fa8-daf2-b721d9c4a6f8"
      },
      "outputs": [
        {
          "output_type": "execute_result",
          "data": {
            "text/plain": [
              "(0.0, 0.6497723609209061)"
            ]
          },
          "metadata": {},
          "execution_count": 17
        },
        {
          "output_type": "display_data",
          "data": {
            "text/plain": [
              "<Figure size 1600x800 with 2 Axes>"
            ],
            "image/png": "[encoded data removed]"
          },
          "metadata": {}
        }
      ],
      "source": [
        "plt.figure(figsize=(16, 8))\n",
        "plt.subplot(1, 2, 1)\n",
        "plot_graphs(history, 'accuracy')\n",
        "plt.ylim(None, 1)\n",
        "plt.subplot(1, 2, 2)\n",
        "plot_graphs(history, 'loss')\n",
        "plt.ylim(0, None)"
      ]
    },
    {
      "cell_type": "markdown",
      "metadata": {
        "id": "J3SsHXvs1HPC"
      },
      "source": [
        "Jalankan prediksi pada kalimat baru:\n",
        "\n",
        "Jika prediksi >= 0,0 berarti positif, jika tidak maka negatif."
      ]
    },
    {
      "cell_type": "code",
      "execution_count": 18,
      "metadata": {
        "id": "OYkMfRx71Kxq",
        "colab": {
          "base_uri": "https://localhost:8080/",
          "height": 0
        },
        "outputId": "be4d62e1-1380-43ce-96ec-760b4657d998"
      },
      "outputs": [
        {
          "output_type": "stream",
          "name": "stdout",
          "text": [
            "1/1 [==============================] - 3s 3s/step\n"
          ]
        }
      ],
      "source": [
        "sample_text = ('The movie was cool. The animation and the graphics ' 'were out of this world. I would recommend this movie.')\n",
        "predictions = model.predict(np.array([sample_text]))"
      ]
    },
    {
      "cell_type": "markdown",
      "metadata": {
        "id": "8ftZyiFS1MUo"
      },
      "source": [
        "**Stack two or more LSTM layers**\n",
        "\n",
        "Lapisan berulang Keras memiliki dua mode yang tersedia yang dikontrol oleh argumen konstruktor return_sequences :\n",
        "- Jika False, ia hanya mengembalikan keluaran terakhir untuk setiap urutan masukan (bentuk tensor 2D (batch_size, output_features)). Ini adalah default yang digunakan pada model sebelumnya.\n",
        "- Jika True, Sequence lengkap output berturut-turut untuk setiap langkah waktu dikembalikan (bentuk tensor 3D (ukuran_batch, langkah waktu, fitur_output)).\n",
        "\n",
        "Hal yang menarik dari penggunaan RNN dengan return_sequences=True adalah outputnya masih memiliki 3 axis, sama seperti inputnya, sehingga bisa diteruskan ke layer RNN lain, seperti ini:"
      ]
    },
    {
      "cell_type": "code",
      "execution_count": 20,
      "metadata": {
        "id": "FPej-ZWw1cxW"
      },
      "outputs": [],
      "source": [
        "model = tf.keras.Sequential([\n",
        "  encoder,tf.keras.layers.Embedding(len(encoder.get_vocabulary()), 64, mask_zero=True),\n",
        "  tf.keras.layers.Bidirectional(tf.keras.layers.LSTM(64, return_sequences=True)),\n",
        "  tf.keras.layers.Bidirectional(tf.keras.layers.LSTM(32)),\n",
        "  tf.keras.layers.Dense(64, activation='relu'),\n",
        "  tf.keras.layers.Dropout(0.5),\n",
        " tf.keras.layers.Dense(1)\n",
        "])"
      ]
    },
    {
      "cell_type": "code",
      "execution_count": 23,
      "metadata": {
        "id": "O_4TDTqu1mbv"
      },
      "outputs": [],
      "source": [
        "model.compile(loss=tf.keras.losses.BinaryCrossentropy(from_logits=True),\n",
        " optimizer=tf.keras.optimizers.Adam(1e-4),\n",
        " metrics=['accuracy'])"
      ]
    },
    {
      "cell_type": "code",
      "execution_count": 24,
      "metadata": {
        "id": "lXYCw8EP1oH5",
        "colab": {
          "base_uri": "https://localhost:8080/",
          "height": 0
        },
        "outputId": "3b4f76e7-89d1-4210-f182-67a0e776c60c"
      },
      "outputs": [
        {
          "output_type": "stream",
          "name": "stdout",
          "text": [
            "Epoch 1/10\n",
            "391/391 [==============================] - 85s 172ms/step - loss: 0.6264 - accuracy: 0.5860 - val_loss: 0.4464 - val_accuracy: 0.7740\n",
            "Epoch 2/10\n",
            "391/391 [==============================] - 47s 119ms/step - loss: 0.3893 - accuracy: 0.8300 - val_loss: 0.3462 - val_accuracy: 0.8448\n",
            "Epoch 3/10\n",
            "391/391 [==============================] - 48s 123ms/step - loss: 0.3380 - accuracy: 0.8548 - val_loss: 0.3383 - val_accuracy: 0.8370\n",
            "Epoch 4/10\n",
            "391/391 [==============================] - 47s 120ms/step - loss: 0.3200 - accuracy: 0.8644 - val_loss: 0.3295 - val_accuracy: 0.8552\n",
            "Epoch 5/10\n",
            "391/391 [==============================] - 46s 116ms/step - loss: 0.3089 - accuracy: 0.8685 - val_loss: 0.3292 - val_accuracy: 0.8464\n",
            "Epoch 6/10\n",
            "391/391 [==============================] - 47s 119ms/step - loss: 0.3041 - accuracy: 0.8713 - val_loss: 0.3205 - val_accuracy: 0.8552\n",
            "Epoch 7/10\n",
            "391/391 [==============================] - 47s 119ms/step - loss: 0.3050 - accuracy: 0.8729 - val_loss: 0.3208 - val_accuracy: 0.8484\n",
            "Epoch 8/10\n",
            "391/391 [==============================] - 46s 117ms/step - loss: 0.2984 - accuracy: 0.8752 - val_loss: 0.3213 - val_accuracy: 0.8583\n",
            "Epoch 9/10\n",
            "391/391 [==============================] - 47s 120ms/step - loss: 0.2939 - accuracy: 0.8759 - val_loss: 0.3204 - val_accuracy: 0.8526\n",
            "Epoch 10/10\n",
            "391/391 [==============================] - 46s 116ms/step - loss: 0.2890 - accuracy: 0.8772 - val_loss: 0.3172 - val_accuracy: 0.8521\n"
          ]
        }
      ],
      "source": [
        "history = model.fit(train_dataset, epochs=10,\n",
        " validation_data=test_dataset,\n",
        " validation_steps=30)"
      ]
    },
    {
      "cell_type": "code",
      "execution_count": 25,
      "metadata": {
        "id": "W69DuZXx1qLk",
        "colab": {
          "base_uri": "https://localhost:8080/",
          "height": 0
        },
        "outputId": "0f4ab763-5747-4bbf-fbc5-214a13189549"
      },
      "outputs": [
        {
          "output_type": "stream",
          "name": "stdout",
          "text": [
            "391/391 [==============================] - 18s 46ms/step - loss: 0.3138 - accuracy: 0.8561\n",
            "Test Loss: 0.3138337731361389\n",
            "Test Accuracy: 0.8560799956321716\n"
          ]
        }
      ],
      "source": [
        "test_loss, test_acc = model.evaluate(test_dataset)\n",
        "\n",
        "print('Test Loss:', test_loss)\n",
        "print('Test Accuracy:', test_acc)"
      ]
    },
    {
      "cell_type": "code",
      "execution_count": 26,
      "metadata": {
        "id": "qU-klqnF1rit",
        "colab": {
          "base_uri": "https://localhost:8080/",
          "height": 0
        },
        "outputId": "e421ea09-2f5a-44fe-91a0-02d004323109"
      },
      "outputs": [
        {
          "output_type": "stream",
          "name": "stdout",
          "text": [
            "1/1 [==============================] - 6s 6s/step\n",
            "[[-2.003236]]\n"
          ]
        }
      ],
      "source": [
        "# predict on a sample text without padding.\n",
        "\n",
        "sample_text = ('The movie was not good. The animation and the graphics ''were terrible. I would not recommend this movie.')\n",
        "predictions = model.predict(np.array([sample_text]))\n",
        "print(predictions)"
      ]
    },
    {
      "cell_type": "code",
      "execution_count": 27,
      "metadata": {
        "id": "K_pg4kCT1s6A",
        "colab": {
          "base_uri": "https://localhost:8080/",
          "height": 542
        },
        "outputId": "5cefaa23-8f78-4f15-aaba-84735dfd32cd"
      },
      "outputs": [
        {
          "output_type": "display_data",
          "data": {
            "text/plain": [
              "<Figure size 1600x600 with 2 Axes>"
            ],
            "image/png": "[encoded data removed]"
          },
          "metadata": {}
        }
      ],
      "source": [
        "plt.figure(figsize=(16, 6))\n",
        "plt.subplot(1, 2, 1)\n",
        "plot_graphs(history, 'accuracy')\n",
        "plt.subplot(1, 2, 2)\n",
        "plot_graphs(history, 'loss')"
      ]
    },
    {
      "cell_type": "markdown",
      "metadata": {
        "id": "gfnh910F5HXz"
      },
      "source": [
        "#Praktikum 2-Generator Teks dengan RNN\n"
      ]
    },
    {
      "cell_type": "markdown",
      "source": [
        "Praktikum ini mendemonstrasikan cara melakukan genearsi text menggunakan RNN. Dataset yang digunkan adalah dataset Shakespeare's writing from Andrej Karpathy's The Unreasonable Effectiveness of Recurrent Neural Networks. Jika diberikan urutan karakter dari data ini (\"Shakespear\"), latih model untuk memprediksi karakter berikutnya dalam urutan (\"e\"). Urutan teks yang lebih panjang dapat dihasilkan dengan memanggil model berulang kali."
      ],
      "metadata": {
        "id": "160iNUWhA4ZS"
      }
    },
    {
      "cell_type": "markdown",
      "source": [
        "##**Setup**"
      ],
      "metadata": {
        "id": "gTEh34UuBnVF"
      }
    },
    {
      "cell_type": "markdown",
      "source": [
        "Import TensorFlow"
      ],
      "metadata": {
        "id": "Ltkhwlp3BsiB"
      }
    },
    {
      "cell_type": "code",
      "source": [
        "import tensorflow as tf\n",
        "import numpy as np\n",
        "import os\n",
        "import time"
      ],
      "metadata": {
        "id": "xNODmKEgByqa"
      },
      "execution_count": 28,
      "outputs": []
    },
    {
      "cell_type": "markdown",
      "source": [
        "Download Dataset Shakespeare\n",
        "\n",
        "Sesuaikan dengan lokasi data yang Anda punya."
      ],
      "metadata": {
        "id": "ZvD31YRgEQBe"
      }
    },
    {
      "cell_type": "code",
      "source": [
        "path_to_file=tf.keras.utils.get_file('shakespeare.txt', 'https://storage.googleapis.com/download.tensorflow.org/data/shakespeare.txt')"
      ],
      "metadata": {
        "colab": {
          "base_uri": "https://localhost:8080/",
          "height": 0
        },
        "id": "Jz-DNH2aEStw",
        "outputId": "48c4ed31-774b-43ba-a54f-ad0d73c5a8a7"
      },
      "execution_count": 29,
      "outputs": [
        {
          "output_type": "stream",
          "name": "stdout",
          "text": [
            "Downloading data from https://storage.googleapis.com/download.tensorflow.org/data/shakespeare.txt\n",
            "1115394/1115394 [==============================] - 0s 0us/step\n"
          ]
        }
      ]
    },
    {
      "cell_type": "markdown",
      "source": [
        "Load Data"
      ],
      "metadata": {
        "id": "bjiS_GygEbyr"
      }
    },
    {
      "cell_type": "code",
      "source": [
        "# Read, then decode for py2 compat.\n",
        "text = open(path_to_file, 'rb').read().decode(encoding='utf-8')\n",
        "# length of text is the number of characters in it\n",
        "print(f'Length of text: {len(text)} characters')"
      ],
      "metadata": {
        "colab": {
          "base_uri": "https://localhost:8080/",
          "height": 0
        },
        "id": "yC8HqTyjEdLS",
        "outputId": "470df65a-ddb2-4c56-c692-09c845b3f7da"
      },
      "execution_count": 30,
      "outputs": [
        {
          "output_type": "stream",
          "name": "stdout",
          "text": [
            "Length of text: 1115394 characters\n"
          ]
        }
      ]
    },
    {
      "cell_type": "code",
      "source": [
        "# Take a look at the first 250 characters in text\n",
        "print(text[:250])"
      ],
      "metadata": {
        "colab": {
          "base_uri": "https://localhost:8080/",
          "height": 0
        },
        "id": "AMzUVACUEe_E",
        "outputId": "c6eccb45-358b-40bc-ce80-01731a945300"
      },
      "execution_count": 33,
      "outputs": [
        {
          "output_type": "stream",
          "name": "stdout",
          "text": [
            "First Citizen:\n",
            "Before we proceed any further, hear me speak.\n",
            "\n",
            "All:\n",
            "Speak, speak.\n",
            "\n",
            "First Citizen:\n",
            "You are all resolved rather to die than to famish?\n",
            "\n",
            "All:\n",
            "Resolved. resolved.\n",
            "\n",
            "First Citizen:\n",
            "First, you know Caius Marcius is chief enemy to the people.\n",
            "\n"
          ]
        }
      ]
    },
    {
      "cell_type": "code",
      "source": [
        "# The unique characters in the file\n",
        "vocab = sorted(set(text))\n",
        "print(f'{len(vocab)} unique characters')"
      ],
      "metadata": {
        "colab": {
          "base_uri": "https://localhost:8080/",
          "height": 0
        },
        "id": "aaW2wRRyEgbW",
        "outputId": "3b17e201-759e-4874-a25e-8024d6cb6c9b"
      },
      "execution_count": 32,
      "outputs": [
        {
          "output_type": "stream",
          "name": "stdout",
          "text": [
            "65 unique characters\n"
          ]
        }
      ]
    },
    {
      "cell_type": "markdown",
      "source": [
        "##**Olah Teks**\n",
        "Vectorize Teks\n",
        "\n",
        "Sebelum training, Anda perlu mengonversi string menjadi representasi numerik. tf.keras.layers.StringLookup dapat mengubah setiap karakter menjadi ID numerik. Caranya adalah teks akan dipecah menjadi token terlebih dahulu."
      ],
      "metadata": {
        "id": "B2XGoiPhEjNs"
      }
    },
    {
      "cell_type": "code",
      "source": [
        "example_texts=['abcdefg', 'xyz']\n",
        "chars=tf.strings.unicode_split(example_texts,input_encoding='UTF-8')\n",
        "chars"
      ],
      "metadata": {
        "colab": {
          "base_uri": "https://localhost:8080/",
          "height": 0
        },
        "id": "jdMS-sNDEiEH",
        "outputId": "ecb6d50a-cecb-4d64-98bd-13202b35cd7c"
      },
      "execution_count": 34,
      "outputs": [
        {
          "output_type": "execute_result",
          "data": {
            "text/plain": [
              "<tf.RaggedTensor [[b'a', b'b', b'c', b'd', b'e', b'f', b'g'], [b'x', b'y', b'z']]>"
            ]
          },
          "metadata": {},
          "execution_count": 34
        }
      ]
    },
    {
      "cell_type": "markdown",
      "source": [
        "sekarang buat tf.keras.layers.StringLookup layer:"
      ],
      "metadata": {
        "id": "IOqOOdHhErJB"
      }
    },
    {
      "cell_type": "code",
      "source": [
        "ids_from_chars = tf.keras.layers.StringLookup(vocabulary=list(vocab),mask_token=None)"
      ],
      "metadata": {
        "id": "-0MvMCU8EyDK"
      },
      "execution_count": 35,
      "outputs": []
    },
    {
      "cell_type": "markdown",
      "source": [
        "perintah diatas mengconvert token menjadi id"
      ],
      "metadata": {
        "id": "tDOR2J0kE1ep"
      }
    },
    {
      "cell_type": "code",
      "source": [
        "ids=ids_from_chars(chars)\n",
        "ids"
      ],
      "metadata": {
        "colab": {
          "base_uri": "https://localhost:8080/",
          "height": 0
        },
        "id": "1VbybocAE008",
        "outputId": "fe1f1c0f-19e7-4d3a-d9c2-ff53a485f787"
      },
      "execution_count": 36,
      "outputs": [
        {
          "output_type": "execute_result",
          "data": {
            "text/plain": [
              "<tf.RaggedTensor [[40, 41, 42, 43, 44, 45, 46], [63, 64, 65]]>"
            ]
          },
          "metadata": {},
          "execution_count": 36
        }
      ]
    },
    {
      "cell_type": "markdown",
      "source": [
        "Karena tujuan tutorial ini adalah untuk menghasilkan teks, penting juga untuk membalikkan representasi ini. Untuk ini Anda dapat menggunakan kode tf.keras.layers.StringLookup(..., invert=True).\n",
        "\n",
        "Catatan: pada kode ini, daripada meneruskan kosakata asli yang dihasilkan dengan diurutkan(set(teks)) gunakan metode get_vocabulary() dari tf.keras.layers.StringLookup sehingga token [UNK] disetel dengan cara yang sama."
      ],
      "metadata": {
        "id": "xZHjQ_d4E444"
      }
    },
    {
      "cell_type": "code",
      "source": [
        "chars_from_ids = tf.keras.layers.StringLookup(\n",
        "    vocabulary=ids_from_chars.get_vocabulary(), invert=True, mask_token=None)"
      ],
      "metadata": {
        "id": "QWGHYO2eE0xq"
      },
      "execution_count": 37,
      "outputs": []
    },
    {
      "cell_type": "markdown",
      "source": [
        "Lapisan ini mengconvert kembali karakter dari vektor ID, dan mengembalikannya sebagai karakter tf.RaggedTensor:"
      ],
      "metadata": {
        "id": "qhKYnsvSFAFi"
      }
    },
    {
      "cell_type": "code",
      "source": [
        "chars=chars_from_ids(ids)\n",
        "chars"
      ],
      "metadata": {
        "colab": {
          "base_uri": "https://localhost:8080/",
          "height": 0
        },
        "id": "HVjXgJsIFCP-",
        "outputId": "d507a51b-ce91-416e-b45f-04a4da3ccfa7"
      },
      "execution_count": 38,
      "outputs": [
        {
          "output_type": "execute_result",
          "data": {
            "text/plain": [
              "<tf.RaggedTensor [[b'a', b'b', b'c', b'd', b'e', b'f', b'g'], [b'x', b'y', b'z']]>"
            ]
          },
          "metadata": {},
          "execution_count": 38
        }
      ]
    },
    {
      "cell_type": "markdown",
      "source": [
        "Anda dapat menggunakan tf.strings.reduce_join untuk menggabungkan kembali karakter menjadi string."
      ],
      "metadata": {
        "id": "QRIHveFrFECb"
      }
    },
    {
      "cell_type": "code",
      "source": [
        "tf.strings.reduce_join(chars,axis=-1).numpy()"
      ],
      "metadata": {
        "colab": {
          "base_uri": "https://localhost:8080/",
          "height": 0
        },
        "id": "ePKf_FKlFGM3",
        "outputId": "3d2c891f-e478-4da4-a21d-29cb40ed8c25"
      },
      "execution_count": 39,
      "outputs": [
        {
          "output_type": "execute_result",
          "data": {
            "text/plain": [
              "array([b'abcdefg', b'xyz'], dtype=object)"
            ]
          },
          "metadata": {},
          "execution_count": 39
        }
      ]
    },
    {
      "cell_type": "code",
      "source": [
        "def text_from_ids(ids):\n",
        "    return tf.strings.reduce_join(chars_from_ids(ids), axis=-1)"
      ],
      "metadata": {
        "id": "k0r58J-XFIv1"
      },
      "execution_count": 40,
      "outputs": []
    },
    {
      "cell_type": "markdown",
      "source": [
        "**Prediksi**\n",
        "\n",
        "Diberikan sebuah karakter, atau serangkaian karakter, karakter apa yang paling mungkin berikutnya? Ini adalah tugas yang harus Anda latih agar model dapat melakukannya. Masukan ke model akan berupa urutan karakter, dan Anda melatih model untuk memprediksi keluaran berupa karakter berikut pada setiap langkah waktu. Karena RNN mempertahankan keadaan internal yang bergantung pada elemen yang terlihat sebelumnya, mengingat semua karakter dihitung hingga saat ini, karakter apa selanjutnya?\n",
        "\n",
        "Membuat Trianing Set dan Target\n",
        "\n",
        "Selanjutnya bagilah teks menjadi contoh sequence. Setiap masukan sequence akan berisi karakter seq_length dari teks. Untuk setiap masukan sequence, target prediksi berisi teks dengan panjang yang sama, hanya digeser satu karakter ke kanan. Jadi, bagi teks menjadi beberapa bagian seq_length+1. Misalnya, seq_length adalah 4 dan teks kita adalah \"Hello\". Urutan masukannya adalah \"Hell\", dan urutan targetnya adalah \"ello\". Untuk melakukan ini, pertama-tama gunakan fungsi tf.data.Dataset.from_tensor_slices untuk mengonversi vektor teks menjadi aliran indeks karakter."
      ],
      "metadata": {
        "id": "BnErU0T8FLh3"
      }
    },
    {
      "cell_type": "code",
      "source": [
        "all_ids=ids_from_chars(tf.strings.unicode_split(text,'UTF-8'))\n",
        "all_ids"
      ],
      "metadata": {
        "colab": {
          "base_uri": "https://localhost:8080/",
          "height": 0
        },
        "id": "igkuxderFT8x",
        "outputId": "c98fed51-17cc-406a-ebbd-5bdd18b8ccd2"
      },
      "execution_count": 41,
      "outputs": [
        {
          "output_type": "execute_result",
          "data": {
            "text/plain": [
              "<tf.Tensor: shape=(1115394,), dtype=int64, numpy=array([19, 48, 57, ..., 46,  9,  1])>"
            ]
          },
          "metadata": {},
          "execution_count": 41
        }
      ]
    },
    {
      "cell_type": "code",
      "source": [
        "ids_dataset=tf.data.Dataset.from_tensor_slices(all_ids)"
      ],
      "metadata": {
        "id": "hSQi-BCfFViH"
      },
      "execution_count": 42,
      "outputs": []
    },
    {
      "cell_type": "code",
      "source": [
        "for ids in ids_dataset.take(10):\n",
        "    print(chars_from_ids(ids).numpy().decode('utf-8'))"
      ],
      "metadata": {
        "colab": {
          "base_uri": "https://localhost:8080/",
          "height": 0
        },
        "id": "tjC3Y5YoFW7B",
        "outputId": "b87df032-33c2-4cfa-d435-9c1712068c13"
      },
      "execution_count": 43,
      "outputs": [
        {
          "output_type": "stream",
          "name": "stdout",
          "text": [
            "F\n",
            "i\n",
            "r\n",
            "s\n",
            "t\n",
            " \n",
            "C\n",
            "i\n",
            "t\n",
            "i\n"
          ]
        }
      ]
    },
    {
      "cell_type": "code",
      "source": [
        "seq_length=100"
      ],
      "metadata": {
        "id": "027TE7ULFZD6"
      },
      "execution_count": 46,
      "outputs": []
    },
    {
      "cell_type": "markdown",
      "source": [
        "Metode batch memungkinkan Anda dengan mudah mengonversi karakter individual ini menjadi urutan ukuran yang diinginkan."
      ],
      "metadata": {
        "id": "zg-PaPtgFaFF"
      }
    },
    {
      "cell_type": "code",
      "source": [
        "sequences = ids_dataset.batch(seq_length+1, drop_remainder=True)\n",
        "for seq in sequences.take(1):\n",
        "  print(chars_from_ids(seq))"
      ],
      "metadata": {
        "colab": {
          "base_uri": "https://localhost:8080/",
          "height": 0
        },
        "id": "-WnoZTosFcAr",
        "outputId": "b8591e23-bc64-4b5e-af73-100b65a33e76"
      },
      "execution_count": 47,
      "outputs": [
        {
          "output_type": "stream",
          "name": "stdout",
          "text": [
            "tf.Tensor(\n",
            "[b'F' b'i' b'r' b's' b't' b' ' b'C' b'i' b't' b'i' b'z' b'e' b'n' b':'\n",
            " b'\\n' b'B' b'e' b'f' b'o' b'r' b'e' b' ' b'w' b'e' b' ' b'p' b'r' b'o'\n",
            " b'c' b'e' b'e' b'd' b' ' b'a' b'n' b'y' b' ' b'f' b'u' b'r' b't' b'h'\n",
            " b'e' b'r' b',' b' ' b'h' b'e' b'a' b'r' b' ' b'm' b'e' b' ' b's' b'p'\n",
            " b'e' b'a' b'k' b'.' b'\\n' b'\\n' b'A' b'l' b'l' b':' b'\\n' b'S' b'p' b'e'\n",
            " b'a' b'k' b',' b' ' b's' b'p' b'e' b'a' b'k' b'.' b'\\n' b'\\n' b'F' b'i'\n",
            " b'r' b's' b't' b' ' b'C' b'i' b't' b'i' b'z' b'e' b'n' b':' b'\\n' b'Y'\n",
            " b'o' b'u' b' '], shape=(101,), dtype=string)\n"
          ]
        }
      ]
    },
    {
      "cell_type": "markdown",
      "source": [
        "akan lebih mudah untuk melihat apa yang dilakukan jika Anda menggabungkan token kembali menjadi string:"
      ],
      "metadata": {
        "id": "G58gkHccFd5o"
      }
    },
    {
      "cell_type": "code",
      "source": [
        "for seq in sequences.take(5):\n",
        "    print(text_from_ids(seq).numpy())"
      ],
      "metadata": {
        "colab": {
          "base_uri": "https://localhost:8080/",
          "height": 0
        },
        "id": "Fmxe5tXzFfs3",
        "outputId": "345ed4ac-43bd-4d86-cd71-431ba48989b3"
      },
      "execution_count": 48,
      "outputs": [
        {
          "output_type": "stream",
          "name": "stdout",
          "text": [
            "b'First Citizen:\\nBefore we proceed any further, hear me speak.\\n\\nAll:\\nSpeak, speak.\\n\\nFirst Citizen:\\nYou '\n",
            "b'are all resolved rather to die than to famish?\\n\\nAll:\\nResolved. resolved.\\n\\nFirst Citizen:\\nFirst, you k'\n",
            "b\"now Caius Marcius is chief enemy to the people.\\n\\nAll:\\nWe know't, we know't.\\n\\nFirst Citizen:\\nLet us ki\"\n",
            "b\"ll him, and we'll have corn at our own price.\\nIs't a verdict?\\n\\nAll:\\nNo more talking on't; let it be d\"\n",
            "b'one: away, away!\\n\\nSecond Citizen:\\nOne word, good citizens.\\n\\nFirst Citizen:\\nWe are accounted poor citi'\n"
          ]
        }
      ]
    },
    {
      "cell_type": "markdown",
      "source": [
        "Untuk pelatihan, Anda memerlukan kumpulan data pasangan (input, label). Dimana input dan label merupakan urutan. Pada setiap langkah waktu, inputnya adalah karakter saat ini dan labelnya adalah karakter berikutnya. Berikut adalah fungsi yang mengambil urutan sebagai masukan, menduplikasi, dan menggesernya untuk menyelaraskan masukan dan label untuk setiap langkah waktu:"
      ],
      "metadata": {
        "id": "whhHzbPBFiBt"
      }
    },
    {
      "cell_type": "code",
      "source": [
        "def split_input_target(sequence):\n",
        "   input_text = sequence[:-1]\n",
        "   target_text = sequence[1:]\n",
        "   return input_text,target_text"
      ],
      "metadata": {
        "id": "UEtSITuRFi7N"
      },
      "execution_count": 49,
      "outputs": []
    },
    {
      "cell_type": "code",
      "source": [
        "split_input_target(list(\"Tensorflow\"))"
      ],
      "metadata": {
        "colab": {
          "base_uri": "https://localhost:8080/",
          "height": 0
        },
        "id": "fdsPT-6uFlDH",
        "outputId": "e67497a8-c9d9-4cb4-f59f-5738f09a4f90"
      },
      "execution_count": 50,
      "outputs": [
        {
          "output_type": "execute_result",
          "data": {
            "text/plain": [
              "(['T', 'e', 'n', 's', 'o', 'r', 'f', 'l', 'o'],\n",
              " ['e', 'n', 's', 'o', 'r', 'f', 'l', 'o', 'w'])"
            ]
          },
          "metadata": {},
          "execution_count": 50
        }
      ]
    },
    {
      "cell_type": "code",
      "source": [
        "dataset = sequences.map(split_input_target)"
      ],
      "metadata": {
        "id": "3uv92_q9FmQh"
      },
      "execution_count": 51,
      "outputs": []
    },
    {
      "cell_type": "code",
      "source": [
        "for input_example, target_example in dataset.take(1):\n",
        "  print(\"Input :\", text_from_ids(input_example).numpy())\n",
        "  print(\"Target:\", text_from_ids(target_example).numpy())"
      ],
      "metadata": {
        "colab": {
          "base_uri": "https://localhost:8080/",
          "height": 0
        },
        "id": "f038sxztFncn",
        "outputId": "074418f8-4f70-4a4b-f1c2-e50006bb80ec"
      },
      "execution_count": 52,
      "outputs": [
        {
          "output_type": "stream",
          "name": "stdout",
          "text": [
            "Input : b'First Citizen:\\nBefore we proceed any further, hear me speak.\\n\\nAll:\\nSpeak, speak.\\n\\nFirst Citizen:\\nYou'\n",
            "Target: b'irst Citizen:\\nBefore we proceed any further, hear me speak.\\n\\nAll:\\nSpeak, speak.\\n\\nFirst Citizen:\\nYou '\n"
          ]
        }
      ]
    },
    {
      "cell_type": "markdown",
      "source": [
        "Membuat Batch Training\n",
        "\n",
        "Anda menggunakan tf.data untuk membagi teks menjadi sequence yang dapat diatur. Namun sebelum memasukkan data ini ke dalam model, Anda perlu mengacak data dan mengemasnya ke dalam batch."
      ],
      "metadata": {
        "id": "QUfkGGteFon9"
      }
    },
    {
      "cell_type": "code",
      "source": [
        "# Batch size\n",
        "BATCH_SIZE = 64\n",
        "\n",
        "# Buffer size to shuffle the dataset\n",
        "# (TF data is designed to work with possibly infinite sequences,\n",
        "# so it doesn't attempt to shuffle the entire sequence in memory. Instead,\n",
        "# it maintains a buffer in which it shuffles elements).\n",
        "BUFFER_SIZE = 10000\n",
        "\n",
        "dataset = (\n",
        "    dataset\n",
        "    .shuffle(BUFFER_SIZE)\n",
        "    .batch(BATCH_SIZE, drop_remainder=True)\n",
        "    .prefetch(tf.data.experimental.AUTOTUNE))\n",
        "\n",
        "dataset"
      ],
      "metadata": {
        "colab": {
          "base_uri": "https://localhost:8080/",
          "height": 0
        },
        "id": "IzCOiuGIFqxH",
        "outputId": "e69f9516-a484-434f-f17b-a901b59b6e12"
      },
      "execution_count": 53,
      "outputs": [
        {
          "output_type": "execute_result",
          "data": {
            "text/plain": [
              "<_PrefetchDataset element_spec=(TensorSpec(shape=(64, 100), dtype=tf.int64, name=None), TensorSpec(shape=(64, 100), dtype=tf.int64, name=None))>"
            ]
          },
          "metadata": {},
          "execution_count": 53
        }
      ]
    },
    {
      "cell_type": "markdown",
      "source": [
        "##**Buat Model**\n",
        "Bagian ini mendefinisikan model sebagai subkelas keras.Model (untuk lebih detilnya, lihat Making new Layers and Models via subclassing).\n",
        "Model yang kita bangun memiliki 3 lapisan neural network :\n",
        "- tf.keras.layers.Embedding: Lapisan masukan. Tabel pencarian yang dapat dilatih yang akan memetakan setiap karakter-ID ke vektor dengan dimensi embedding_dim;\n",
        "- tf.keras.layers.GRU: lapisan RNN dengan ukuran unit=rnn_units (Anda juga dapat menggunakan lapisan LSTM di sini.)\n",
        "- tf.keras.layers.Dense: Lapisan keluaran, dengan keluaran vocab_size. Ini menghasilkan satu logit untuk setiap karakter dalam kosakata. Ini adalah log kemungkinan setiap karakter menurut model."
      ],
      "metadata": {
        "id": "ThHxpJ-8Ghq4"
      }
    },
    {
      "cell_type": "code",
      "source": [
        "# Length of the vocabulary in StringLookup Layer\n",
        "vocab_size = len(ids_from_chars.get_vocabulary())\n",
        "\n",
        "# The embedding dimension\n",
        "embedding_dim = 256\n",
        "\n",
        "# Number of RNN units\n",
        "rnn_units = 1024"
      ],
      "metadata": {
        "id": "OBItSbtHIjqM"
      },
      "execution_count": 54,
      "outputs": []
    },
    {
      "cell_type": "code",
      "source": [
        "class MyModel(tf.keras.Model):\n",
        "  def __init__(self, vocab_size, embedding_dim, rnn_units):\n",
        "    super().__init__(self)\n",
        "    self.embedding = tf.keras.layers.Embedding(vocab_size, embedding_dim)\n",
        "    self.gru = tf.keras.layers.GRU(rnn_units,\n",
        "                                   return_sequences=True,\n",
        "                                   return_state=True)\n",
        "    self.dense = tf.keras.layers.Dense(vocab_size)\n",
        "\n",
        "  def call(self, inputs, states=None, return_state=False, training=False):\n",
        "    x = inputs\n",
        "    x = self.embedding(x, training=training)\n",
        "    if states is None:\n",
        "      states = self.gru.get_initial_state(x)\n",
        "    x, states = self.gru(x, initial_state=states, training=training)\n",
        "    x = self.dense(x, training=training)\n",
        "\n",
        "    if return_state:\n",
        "      return x, states\n",
        "    else:\n",
        "      return x"
      ],
      "metadata": {
        "id": "uv_ZcLpwIwTz"
      },
      "execution_count": 55,
      "outputs": []
    },
    {
      "cell_type": "code",
      "source": [
        "model = MyModel(\n",
        "    vocab_size=vocab_size,\n",
        "    embedding_dim=embedding_dim,\n",
        "    rnn_units=rnn_units)"
      ],
      "metadata": {
        "id": "3oU_GKJmIxpC"
      },
      "execution_count": 56,
      "outputs": []
    },
    {
      "cell_type": "markdown",
      "source": [
        "Untuk setiap karakter, model mencari penyematan, menjalankan GRU satu langkah waktu dengan penyematan sebagai masukan, dan menerapkan dense layer untuk menghasilkan log yang memprediksi kemungkinan log karakter berikutnya:\n",
        "\n",
        "Note: Untuk pelatihan Anda bisa menggunakan model keras.Sequential di sini. Untuk menghasilkan teks nanti, Anda harus mengelola status internal RNN. Akan lebih mudah untuk memasukkan opsi input dan output status di awal, daripada mengatur ulang arsitektur model nanti. untuk detailnya bisa dilihat Keras RNN guide."
      ],
      "metadata": {
        "id": "Rt-EeCaGFtUU"
      }
    },
    {
      "cell_type": "markdown",
      "source": [
        "##**Uji Model**\n",
        "Coba jalankan model dan cek apakah sidah sesuai dengan output\n",
        "\n",
        "pertama, cek bentuk dari output"
      ],
      "metadata": {
        "id": "Qp3ny0oFI7me"
      }
    },
    {
      "cell_type": "code",
      "source": [
        "for input_example_batch, target_example_batch in dataset.take(1):\n",
        "    example_batch_predictions = model(input_example_batch)\n",
        "    print(example_batch_predictions.shape, \"# (batch_size, sequence_length, vocab_size)\")"
      ],
      "metadata": {
        "colab": {
          "base_uri": "https://localhost:8080/",
          "height": 0
        },
        "id": "SH4XbQsjI63k",
        "outputId": "ecb8f4a9-e1e1-4b5f-9c33-68d15d92ff27"
      },
      "execution_count": 57,
      "outputs": [
        {
          "output_type": "stream",
          "name": "stdout",
          "text": [
            "(64, 100, 66) # (batch_size, sequence_length, vocab_size)\n"
          ]
        }
      ]
    },
    {
      "cell_type": "markdown",
      "source": [
        "Dalam contoh di atas, panjang urutan masukan adalah 100 tetapi model dapat dijalankan pada masukan dengan panjang berapa pun:"
      ],
      "metadata": {
        "id": "HKXRJTwbJC4i"
      }
    },
    {
      "cell_type": "code",
      "source": [
        "model.summary()"
      ],
      "metadata": {
        "colab": {
          "base_uri": "https://localhost:8080/",
          "height": 0
        },
        "id": "D0QCxsNGJEuI",
        "outputId": "5894ab7b-e064-4977-8214-ec7a782e8aa3"
      },
      "execution_count": 58,
      "outputs": [
        {
          "output_type": "stream",
          "name": "stdout",
          "text": [
            "Model: \"my_model\"\n",
            "_________________________________________________________________\n",
            " Layer (type)                Output Shape              Param #   \n",
            "=================================================================\n",
            " embedding_2 (Embedding)     multiple                  16896     \n",
            "                                                                 \n",
            " gru (GRU)                   multiple                  3938304   \n",
            "                                                                 \n",
            " dense_4 (Dense)             multiple                  67650     \n",
            "                                                                 \n",
            "=================================================================\n",
            "Total params: 4022850 (15.35 MB)\n",
            "Trainable params: 4022850 (15.35 MB)\n",
            "Non-trainable params: 0 (0.00 Byte)\n",
            "_________________________________________________________________\n"
          ]
        }
      ]
    },
    {
      "cell_type": "markdown",
      "source": [
        "Untuk mendapatkan prediksi aktual dari model, Anda perlu mengambil sampel dari distribusi keluaran, untuk mendapatkan indeks karakter aktual. Distribusi ini ditentukan oleh logit pada kosakata karakter. Catatan: Penting untuk mengambil sampel dari distribusi ini karena mengambil argmax dari distribusi tersebut dapat dengan mudah membuat model terjebak dalam infinote loop. Cobalah untuk contoh pertama di batch:"
      ],
      "metadata": {
        "id": "XBnmvZ-mJHik"
      }
    },
    {
      "cell_type": "code",
      "source": [
        "sampled_indices = tf.random.categorical(example_batch_predictions[0], num_samples=1)\n",
        "sampled_indices = tf.squeeze(sampled_indices, axis=-1).numpy()"
      ],
      "metadata": {
        "id": "IeKk_xNbJIYA"
      },
      "execution_count": 59,
      "outputs": []
    },
    {
      "cell_type": "markdown",
      "source": [
        "Hal ini memberi kita, pada setiap langkah waktu, prediksi indeks karakter berikutnya:"
      ],
      "metadata": {
        "id": "1w8kigJEJLNN"
      }
    },
    {
      "cell_type": "code",
      "source": [
        "sampled_indices"
      ],
      "metadata": {
        "colab": {
          "base_uri": "https://localhost:8080/",
          "height": 0
        },
        "id": "tOzASKWCJL37",
        "outputId": "c663da93-7b49-4c82-dd2e-56599885fbfa"
      },
      "execution_count": 60,
      "outputs": [
        {
          "output_type": "execute_result",
          "data": {
            "text/plain": [
              "array([23, 21, 20, 36, 25, 59, 18, 53, 57, 49, 31,  6, 37, 52, 13, 57, 44,\n",
              "       49, 49, 52,  9, 49, 45,  3, 36, 52, 54, 24,  2, 18,  7, 65, 23, 44,\n",
              "        8, 33, 18,  2, 58, 51, 62,  5, 28, 46, 39, 29, 24, 34, 14, 12, 56,\n",
              "       22, 17, 46, 45, 48, 60, 10, 43, 52, 35, 44, 13, 55,  2,  4,  2, 26,\n",
              "       42, 12, 55, 15, 26, 24,  6, 15,  4, 16, 28,  4, 38, 19, 54,  0, 39,\n",
              "       39, 49, 32, 20, 59, 43, 57, 38, 58, 43, 29, 54, 65, 23,  3])"
            ]
          },
          "metadata": {},
          "execution_count": 60
        }
      ]
    },
    {
      "cell_type": "markdown",
      "source": [
        "Dekode kode berikut untuk melihat teks yang diprediksi oleh model tidak terlatih ini:"
      ],
      "metadata": {
        "id": "bNebJnA1JOT3"
      }
    },
    {
      "cell_type": "code",
      "source": [
        "print(\"Input:\\n\", text_from_ids(input_example_batch[0]).numpy())\n",
        "print()\n",
        "print(\"Next Char Predictions:\\n\", text_from_ids(sampled_indices).numpy())"
      ],
      "metadata": {
        "id": "60JgUkheJPzR"
      },
      "execution_count": null,
      "outputs": []
    },
    {
      "cell_type": "markdown",
      "source": [
        "##**Train Model**\n",
        "\n",
        "Pada titik ini permasalahan dapat dianggap sebagai permasalahan klasifikasi standar. Permasalahan dapat disimpulkan dengan : Berdasarkan status RNN sebelumnya, dan masukan langkah kali ini, prediksi kelas karakter berikutnya.\n",
        "\n",
        "Tambahan optimizer dan fungsi loss\n",
        "\n",
        "loss function tf.keras.losses.sparse_categorical_crossentropy standar berfungsi dalam kasus ini karena diterapkan di seluruh dimensi terakhir prediksi. Karena model Anda mengembalikan logits, Anda perlu mengatur flag from_logits."
      ],
      "metadata": {
        "id": "QJO1awY9JQ0-"
      }
    },
    {
      "cell_type": "code",
      "source": [
        "loss = tf.losses.SparseCategoricalCrossentropy(from_logits=True)"
      ],
      "metadata": {
        "id": "YY2cBUhOMAWA"
      },
      "execution_count": 21,
      "outputs": []
    },
    {
      "cell_type": "code",
      "source": [
        "example_batch_mean_loss = loss(target_example_batch, example_batch_predictions)\n",
        "print(\"Prediction shape: \", example_batch_predictions.shape, \" # (batch_size, sequence_length, vocab_size)\")\n",
        "print(\"Mean loss:        \", example_batch_mean_loss)"
      ],
      "metadata": {
        "colab": {
          "base_uri": "https://localhost:8080/",
          "height": 0
        },
        "id": "-6PBXNWzMB-O",
        "outputId": "612cc623-8716-4aec-9e31-154ba652add2"
      },
      "execution_count": 61,
      "outputs": [
        {
          "output_type": "stream",
          "name": "stdout",
          "text": [
            "Prediction shape:  (64, 100, 66)  # (batch_size, sequence_length, vocab_size)\n",
            "Mean loss:         tf.Tensor(4.1905665, shape=(), dtype=float32)\n"
          ]
        }
      ]
    },
    {
      "cell_type": "markdown",
      "source": [
        "Model yang baru diinisialisasi tidak boleh terlalu yakin dengan dirinya sendiri, semua log keluaran harus memiliki besaran yang sama. Untuk mengonfirmasi hal ini, Anda dapat memeriksa bahwa eksponensial dari loss rata-rata harus kira-kira sama dengan ukuran kosakata. Loss yang jauh lebih tinggi berarti model tersebut yakin akan jawaban yang salah, dan memiliki inisialisasi yang buruk:"
      ],
      "metadata": {
        "id": "0JRfuTNOMDkr"
      }
    },
    {
      "cell_type": "code",
      "source": [
        "tf.exp(example_batch_mean_loss).numpy()"
      ],
      "metadata": {
        "colab": {
          "base_uri": "https://localhost:8080/",
          "height": 0
        },
        "id": "qA6s8Fv9MEb8",
        "outputId": "a27a82cd-4015-47eb-f34e-37acaa3f82e6"
      },
      "execution_count": 62,
      "outputs": [
        {
          "output_type": "execute_result",
          "data": {
            "text/plain": [
              "66.0602"
            ]
          },
          "metadata": {},
          "execution_count": 62
        }
      ]
    },
    {
      "cell_type": "markdown",
      "source": [
        "Konfigurasikan prosedur pelatihan menggunakan metode tf.keras.Model.compile. Gunakan tf.keras.optimizers.Adam dengan argumen default dan fungsi loss."
      ],
      "metadata": {
        "id": "6V652u1QMG8U"
      }
    },
    {
      "cell_type": "code",
      "source": [
        "model.compile(optimizer='adam', loss=loss)"
      ],
      "metadata": {
        "id": "cemD-a53MIaL"
      },
      "execution_count": 63,
      "outputs": []
    },
    {
      "cell_type": "markdown",
      "source": [
        "Konfigurasi Checkpoints\n",
        "\n",
        "Gunakan tf.keras.callbacks.ModelCheckpoint untuk memastikan bahwa checkpoint disimpan selama pelatihan:"
      ],
      "metadata": {
        "id": "GXWSVOqfMK0g"
      }
    },
    {
      "cell_type": "code",
      "source": [
        "# Directory where the checkpoints will be saved\n",
        "checkpoint_dir = './training_checkpoints'\n",
        "# Name of the checkpoint files\n",
        "checkpoint_prefix = os.path.join(checkpoint_dir, \"ckpt_{epoch}\")\n",
        "\n",
        "checkpoint_callback = tf.keras.callbacks.ModelCheckpoint(\n",
        "    filepath=checkpoint_prefix,\n",
        "    save_weights_only=True)"
      ],
      "metadata": {
        "id": "1xjNOuR4MNIS"
      },
      "execution_count": 64,
      "outputs": []
    },
    {
      "cell_type": "markdown",
      "source": [
        "Lakukan Proses Training\n",
        "\n",
        "Agar waktu pelatihan tidak terlalu lama, gunakan 10 epoch untuk melatih model. Di Colab, setel runtime ke GPU untuk pelatihan yang lebih cepat."
      ],
      "metadata": {
        "id": "p2PFBVzjMQAl"
      }
    },
    {
      "cell_type": "code",
      "source": [
        "EPOCHS=20"
      ],
      "metadata": {
        "id": "td8M6T7mMRoW"
      },
      "execution_count": 65,
      "outputs": []
    },
    {
      "cell_type": "code",
      "source": [
        "history=model.fit(dataset,epochs=EPOCHS,callbacks=[checkpoint_callback])"
      ],
      "metadata": {
        "colab": {
          "base_uri": "https://localhost:8080/",
          "height": 0
        },
        "id": "I2LSd6hxMTbD",
        "outputId": "7923aeaf-663a-497a-9d5f-16537fd61f29"
      },
      "execution_count": 66,
      "outputs": [
        {
          "output_type": "stream",
          "name": "stdout",
          "text": [
            "Epoch 1/20\n",
            "172/172 [==============================] - 18s 62ms/step - loss: 2.7475\n",
            "Epoch 2/20\n",
            "172/172 [==============================] - 13s 61ms/step - loss: 2.0096\n",
            "Epoch 3/20\n",
            "172/172 [==============================] - 13s 59ms/step - loss: 1.7360\n",
            "Epoch 4/20\n",
            "172/172 [==============================] - 11s 57ms/step - loss: 1.5718\n",
            "Epoch 5/20\n",
            "172/172 [==============================] - 12s 60ms/step - loss: 1.4689\n",
            "Epoch 6/20\n",
            "172/172 [==============================] - 12s 61ms/step - loss: 1.3995\n",
            "Epoch 7/20\n",
            "172/172 [==============================] - 11s 57ms/step - loss: 1.3454\n",
            "Epoch 8/20\n",
            "172/172 [==============================] - 12s 58ms/step - loss: 1.2996\n",
            "Epoch 9/20\n",
            "172/172 [==============================] - 12s 61ms/step - loss: 1.2598\n",
            "Epoch 10/20\n",
            "172/172 [==============================] - 11s 57ms/step - loss: 1.2216\n",
            "Epoch 11/20\n",
            "172/172 [==============================] - 12s 57ms/step - loss: 1.1831\n",
            "Epoch 12/20\n",
            "172/172 [==============================] - 12s 59ms/step - loss: 1.1445\n",
            "Epoch 13/20\n",
            "172/172 [==============================] - 12s 58ms/step - loss: 1.1037\n",
            "Epoch 14/20\n",
            "172/172 [==============================] - 12s 58ms/step - loss: 1.0602\n",
            "Epoch 15/20\n",
            "172/172 [==============================] - 12s 57ms/step - loss: 1.0133\n",
            "Epoch 16/20\n",
            "172/172 [==============================] - 12s 59ms/step - loss: 0.9631\n",
            "Epoch 17/20\n",
            "172/172 [==============================] - 12s 61ms/step - loss: 0.9118\n",
            "Epoch 18/20\n",
            "172/172 [==============================] - 12s 60ms/step - loss: 0.8603\n",
            "Epoch 19/20\n",
            "172/172 [==============================] - 12s 58ms/step - loss: 0.8079\n",
            "Epoch 20/20\n",
            "172/172 [==============================] - 12s 58ms/step - loss: 0.7559\n"
          ]
        }
      ]
    },
    {
      "cell_type": "markdown",
      "source": [
        "##**Generate Teks**\n",
        "\n",
        "Cara termudah untuk menghasilkan teks dengan model ini adalah dengan menjalankannya dalam loop, dan menyimpan status internal model saat Anda menjalankannya.\n",
        "\n",
        "Setiap kali Anda memanggil model, Anda memasukkan beberapa teks dan state internal. Model mengembalikan prediksi untuk karakter berikutnya dan state barunya. Masukkan kembali prediksi dan state ke model untuk terus menghasilkan teks.\n",
        "\n",
        "Berikut ini membuat prediksi satu langkah:"
      ],
      "metadata": {
        "id": "2AIAmHguMUwD"
      }
    },
    {
      "cell_type": "code",
      "source": [
        "class OneStep(tf.keras.Model):\n",
        "  def __init__(self, model, chars_from_ids, ids_from_chars, temperature=1.0):\n",
        "    super().__init__()\n",
        "    self.temperature = temperature\n",
        "    self.model = model\n",
        "    self.chars_from_ids = chars_from_ids\n",
        "    self.ids_from_chars = ids_from_chars\n",
        "\n",
        "    # Create a mask to prevent \"[UNK]\" from being generated.\n",
        "    skip_ids = self.ids_from_chars(['[UNK]'])[:, None]\n",
        "    sparse_mask = tf.SparseTensor(\n",
        "        # Put a -inf at each bad index.\n",
        "        values=[-float('inf')]*len(skip_ids),\n",
        "        indices=skip_ids,\n",
        "        # Match the shape to the vocabulary\n",
        "        dense_shape=[len(ids_from_chars.get_vocabulary())])\n",
        "    self.prediction_mask = tf.sparse.to_dense(sparse_mask)\n",
        "\n",
        "  @tf.function\n",
        "  def generate_one_step(self, inputs, states=None):\n",
        "    # Convert strings to token IDs.\n",
        "    input_chars = tf.strings.unicode_split(inputs, 'UTF-8')\n",
        "    input_ids = self.ids_from_chars(input_chars).to_tensor()\n",
        "\n",
        "    # Run the model.\n",
        "    # predicted_logits.shape is [batch, char, next_char_logits]\n",
        "    predicted_logits, states = self.model(inputs=input_ids, states=states,\n",
        "                                          return_state=True)\n",
        "    # Only use the last prediction.\n",
        "    predicted_logits = predicted_logits[:, -1, :]\n",
        "    predicted_logits = predicted_logits/self.temperature\n",
        "    # Apply the prediction mask: prevent \"[UNK]\" from being generated.\n",
        "    predicted_logits = predicted_logits + self.prediction_mask\n",
        "\n",
        "    # Sample the output logits to generate token IDs.\n",
        "    predicted_ids = tf.random.categorical(predicted_logits, num_samples=1)\n",
        "    predicted_ids = tf.squeeze(predicted_ids, axis=-1)\n",
        "\n",
        "    # Convert from token ids to characters\n",
        "    predicted_chars = self.chars_from_ids(predicted_ids)\n",
        "\n",
        "    # Return the characters and model state.\n",
        "    return predicted_chars, states"
      ],
      "metadata": {
        "id": "ROEbIBkJMcok"
      },
      "execution_count": 67,
      "outputs": []
    },
    {
      "cell_type": "code",
      "source": [
        "one_step_model=OneStep(model,chars_from_ids,ids_from_chars)"
      ],
      "metadata": {
        "id": "343ScuJNMh7h"
      },
      "execution_count": 69,
      "outputs": []
    },
    {
      "cell_type": "markdown",
      "source": [
        "Jalankan secara berulang untuk menghasilkan beberapa teks. Melihat teks yang dihasilkan, Anda akan melihat model mengetahui kapan harus menggunakan huruf besar, membuat paragraf, dan meniru kosakata menulis seperti Shakespeare. Karena sedikitnya jumlah epoch pelatihan, model belum belajar membentuk kalimat runtut."
      ],
      "metadata": {
        "id": "O_6yEMJIMoRa"
      }
    },
    {
      "cell_type": "code",
      "source": [
        "start = time.time()\n",
        "states = None\n",
        "next_char = tf.constant(['ROMEO:'])\n",
        "result = [next_char]\n",
        "\n",
        "for n in range(1000):\n",
        "  next_char, states = one_step_model.generate_one_step(next_char, states=states)\n",
        "  result.append(next_char)\n",
        "\n",
        "result = tf.strings.join(result)\n",
        "end = time.time()\n",
        "print(result[0].numpy().decode('utf-8'), '\\n\\n' + '_'*80)\n",
        "print('\\nRun time:', end - start)"
      ],
      "metadata": {
        "colab": {
          "base_uri": "https://localhost:8080/",
          "height": 0
        },
        "id": "gSIJz8uXMped",
        "outputId": "25f462e6-69b9-435c-97bd-ae8c49f7577e"
      },
      "execution_count": 70,
      "outputs": [
        {
          "output_type": "stream",
          "name": "stdout",
          "text": [
            "ROMEO:\n",
            "I stage not so defending her!\n",
            "\n",
            "LUCIO:\n",
            "\n",
            "ISABELLA:\n",
            "Gone from a prison: a postlemal to your cheek,\n",
            "Came more much us aboon to pay a\n",
            "county Paris, Tormoral part of grief.\n",
            "They say, my liege, the wilder villain is.\n",
            "\n",
            "PETRUCHIO:\n",
            "'Hole me?\n",
            "Your ring is not then, our speech,\n",
            "Coriolanus 'gainst your own several turt,\n",
            "Of call it rather case again.\n",
            "\n",
            "Messenger:\n",
            "Such news, go run upon thee.\n",
            "The lands accent: for then I shall into our followers\n",
            "Upon his party-fill to get the lands.\n",
            "Cannot be muster up by fair Bohemia, if any plague i' the seasable,\n",
            "and Grumio such sets and clock: the\n",
            "king's dam, and free his reasons. Troth, I remember\n",
            "We have cut impossible and send the city.\n",
            "\n",
            "DUCHESS OF YORK:\n",
            "He shall come not.\n",
            "\n",
            "GONZALO:\n",
            "'Tis well: she brought them to our own.\n",
            "Where did you do? she young Montague? you must return\n",
            "Licious Bianca,--\n",
            "This same Morbalies, Richard lies in spite,\n",
            "To see a horse; as you have needs,\n",
            "And shall the field in was the city?\n",
            "\n",
            "Provost:\n",
            "Come your words your grace and myself,\n",
            "Since \n",
            "\n",
            "________________________________________________________________________________\n",
            "\n",
            "Run time: 3.264570951461792\n"
          ]
        }
      ]
    },
    {
      "cell_type": "markdown",
      "source": [
        "Hal termudah yang dapat Anda lakukan untuk meningkatkan hasil adalah dengan melatihnya lebih lama (coba EPOCHS = 30). Anda juga dapat bereksperimen dengan string awal yang berbeda, mencoba menambahkan lapisan RNN lain untuk meningkatkan akurasi model, atau menyesuaikan parameter suhu untuk menghasilkan prediksi yang kurang lebih acak.\n",
        "\n",
        "Jika Anda ingin model menghasilkan teks lebih cepat, hal termudah yang dapat Anda lakukan adalah membuat teks secara batch. Pada contoh di bawah, model menghasilkan 5 keluaran dalam waktu yang hampir sama dengan waktu yang dibutuhkan untuk menghasilkan 1 keluaran di atas."
      ],
      "metadata": {
        "id": "9DT_eBTmMrqL"
      }
    },
    {
      "cell_type": "code",
      "source": [
        "start = time.time()\n",
        "states = None\n",
        "next_char = tf.constant(['ROMEO:', 'ROMEO:', 'ROMEO:', 'ROMEO:', 'ROMEO:'])\n",
        "result = [next_char]\n",
        "\n",
        "for n in range(1000):\n",
        "  next_char, states = one_step_model.generate_one_step(next_char, states=states)\n",
        "  result.append(next_char)\n",
        "\n",
        "result = tf.strings.join(result)\n",
        "end = time.time()\n",
        "print(result, '\\n\\n' + '_'*80)\n",
        "print('\\nRun time:', end - start)"
      ],
      "metadata": {
        "colab": {
          "base_uri": "https://localhost:8080/",
          "height": 0
        },
        "id": "RVCNZqltMuon",
        "outputId": "c04a00df-8cc0-4752-b87b-bc8fcaddfc6d"
      },
      "execution_count": 71,
      "outputs": [
        {
          "output_type": "stream",
          "name": "stdout",
          "text": [
            "tf.Tensor(\n",
            "[b\"ROMEO:\\nPatience stay, whence are you sefinied?\\n\\nGLOUCESTER:\\nSay is 'twere not in the body of her!\\nThieves, delay as I love my blood.\\n\\nMANTIUS:\\nNot with you. Let me husband\\nWith the falthy sicker: blesh before him.\\n\\nShearer:\\nSir, my gone fire!\\n\\nCLAUDIO:\\nThe nobilate of the glasses and to confiscore him: let your grace\\nWith this demigence: milder moasted news,\\nAnd three exile; the rain of kings,\\nMust me but last twice him from his treth\\nTo the dead actions bowels of ungractimies,\\nMakes take their tidor with me light on she\\nwith ghide they that can free me with the estate lies\\nThat apheccusion of holy one.\\n\\nLUCIO:\\n\\nKATHARINA:\\nI'er good smiling visage, is too yours.\\n\\nLUCIO:\\nYes, mars have coming hither to the bride.\\n\\nROMEO:\\nMy gracious lord Shill I am weary with her, when I am dagger.\\nMark his kingdom's eyes, once most unsay'd,\\nThat month old Margaret's rug, and Henry in his\\nremedy; and she has mine heating a\\nman! My child, Obbot, being surely I would,\\nThat we with splitters all, and death\\nWill \"\n",
            " b\"ROMEO:\\nI would thy beauty were a bale.\\nPauding the worse is nothing but which now peer'\\n\\nAGOY:\\nTut, truth, I have fond yea\\nIs shine untnis is much enmity;\\nThey are but pleased, thy motion as your gate.\\n\\nKING EDWARD IV:\\nAy, by my master will I told you as you\\nBut the unhoped she houses enemies are hurling\\nYour charity, being possible level of a free\\nOf noble access to make her finther\\nin the nest of man; which is the duke, and\\nthat you may,--\\nSaint Georlad is the Duke of Green Valsare,\\nAnd spit it meeting deaths? why, what thine I can add\\nto her? I long heaven, I thank your grace,\\nPheer here you must see my tradicies and me.\\nMy troth, be it thou after fooling, of whether although I have\\nheard it will better sers be of our womb:\\nAnd now shall the better on the petit affection\\nand cause he was ever man. Plantagenet is lenavy.\\nI am unnayurable: Pothed I am my unto imprisonment.\\nI know not, nor I need not for the like.\\n\\nGLOUCESTER:\\nSo he, as head so foul what they shall guess\\nWhose window should \"\n",
            " b\"ROMEO:\\nO my dear lord, this tree here, holy fair and hoisted\\nUpon his wedding death;\\nOr, if his homicide shuns her nurse\\nThat hunt is their tongueless castles, weak stiring\\nfor the whole table,--and, for nurse, defend thy name\\nIs father, let him ask me, yet his nature,\\nOffer i' the parlit of the Tower.\\n\\nGLOUCESTER:\\nMy mother ones, his father's speak.\\nGive me our bosoms: our persua\\nAt offs and feat, govern tears,\\nI must heep from the contentious way\\nWoe'll grace the lights of banishment,\\nWhether you dost make up full flowers of thee,\\nEdward's state in hair of mine,--I think they shall:\\nLook here, to make her to my shut, his sumpetts leave\\nThe innocenty accuser, and the voice of the\\nduke, respmices. My tongue hath\\nher grace she did; what you have left to him?\\n\\nLADY CAPULET:\\nSaw you not contracted with my life, dismalasy\\nI had my country servant men that reels\\nAre me a favour as he hath now, that great\\nMisgrace's faults. His desperate restrain\\nFor Many ones haughty ministers:\\nYour father's heir\"\n",
            " b\"ROMEO:\\nWhy? the hardless his! O, cat,\\nStands so fall. I give thee reason: base you then:\\nHark you to be bold flamed!' quoth love we see\\nThe widest Richard elder, theirs, to go\\nWhich he not like with heart.\\nIf that he will wish; in hell is rage\\nSith the name of them!--\\nBoth Warwick, tells much potteries and hands?\\nWhat stanley not, he doth so help to him!\\nTell me thy mind; and therefore, in faith.\\n\\nISABELLA:\\nWhere you should know what said our branches yet an\\noccasions have seek true hear my life to make an easy est\\nSepent a fortal obedient and theirs,\\nWere you deep and methought to bed of knees.\\n'Tis nothing lamb! why, no doubt, I serve well:\\nFor now the king that hath in his pomp,\\nCleaving to the speech shall be woundshir,\\nAnd I must repling and flained ask,\\nPray up your greatness: a gentleman; are all along\\nMy prayers with a minute and majesty; but,\\nMost dangerously; which first I'll never pass\\nThe very woe there.\\n\\nCORIOLANUS:\\nThe service the queen of London's child,\\nRevolt to his country,\"\n",
            " b\"ROMEO:\\nThe needful mother will fight shall never\\nBe hised upon it.\\n\\nCAMILLO:\\n\\nThird Citizen:\\nA gentler, for the devil, and stay not.\\nWhat dost thou the mean wal, and stop contents the custom of their estate,\\nShe may the lap of himself?\\n\\nHORTENSIO:\\nMethought the worth after the city's instruments;\\nBut the new-deliver out unnoted fair,\\nNay, nearless of their valiants executed,\\nEven suns, and fittherate haste when 'tis, says:\\nComfort, 'Wilt thou it true sheep in beaving with\\nAgainst the angle our self--looks from fortune\\nWhich rightly falter under him,\\nHath said the giving Yorks as yourself imports\\nThan awhy dishonour. The porterous art that.\\nHerein, for your good correcorancy love.\\n\\nCLIFFORD:\\nUpon my life, you have fought after the dark,\\nBecause his prantitions with their needs,\\nYet entertain is dead; and the vigil news\\nFrom Richard and that sunders his resolve.\\n\\nSecond Keeper:\\nLet not so hot a lift down to my ridg.\\n\\nJULIET:\\nO, she is lawful as they seek so namiated\\nfriends,'? why should this \"], shape=(5,), dtype=string) \n",
            "\n",
            "________________________________________________________________________________\n",
            "\n",
            "Run time: 4.3402814865112305\n"
          ]
        }
      ]
    },
    {
      "cell_type": "markdown",
      "source": [
        "##**Ekspor Model Generator**\n",
        "Model satu langkah ini dapat dengan mudah disimpan dan digunakan kembali, memungkinkan Anda menggunakannya di mana pun tf.saved_model diterima."
      ],
      "metadata": {
        "id": "EjBRfIBYMtrU"
      }
    },
    {
      "cell_type": "code",
      "source": [
        "tf.saved_model.save(one_step_model, 'one_step')\n",
        "one_step_reloaded = tf.saved_model.load('one_step')"
      ],
      "metadata": {
        "colab": {
          "base_uri": "https://localhost:8080/",
          "height": 0
        },
        "id": "2auHxYomM0Kr",
        "outputId": "7fd05686-7330-416f-b3d3-ade116e4cd57"
      },
      "execution_count": 72,
      "outputs": [
        {
          "output_type": "stream",
          "name": "stderr",
          "text": [
            "WARNING:tensorflow:Skipping full serialization of Keras layer <__main__.OneStep object at 0x7d02ae114970>, because it is not built.\n",
            "WARNING:tensorflow:Model's `__init__()` arguments contain non-serializable objects. Please implement a `get_config()` method in the subclassed Model for proper saving and loading. Defaulting to empty config.\n",
            "WARNING:tensorflow:Model's `__init__()` arguments contain non-serializable objects. Please implement a `get_config()` method in the subclassed Model for proper saving and loading. Defaulting to empty config.\n"
          ]
        }
      ]
    },
    {
      "cell_type": "code",
      "source": [
        "states = None\n",
        "next_char = tf.constant(['ROMEO:'])\n",
        "result = [next_char]\n",
        "\n",
        "for n in range(100):\n",
        "  next_char, states = one_step_reloaded.generate_one_step(next_char, states=states)\n",
        "  result.append(next_char)\n",
        "\n",
        "print(tf.strings.join(result)[0].numpy().decode(\"utf-8\"))"
      ],
      "metadata": {
        "colab": {
          "base_uri": "https://localhost:8080/",
          "height": 0
        },
        "id": "LLw-k93AM0zF",
        "outputId": "081c23c6-bc40-46b9-ecbb-4f8c97287051"
      },
      "execution_count": 73,
      "outputs": [
        {
          "output_type": "stream",
          "name": "stdout",
          "text": [
            "ROMEO:\n",
            "Go to; I say it is the slaughter-house:\n",
            "Live, and so great a way to say she-welk.\n",
            "\n",
            "GONZALO:\n",
            "Well, I\n"
          ]
        }
      ]
    }
  ],
  "metadata": {
    "colab": {
      "provenance": [],
      "gpuType": "T4",
      "authorship_tag": "ABX9TyMugK+dqXcro7+KWwHJBg4y",
      "include_colab_link": true
    },
    "kernelspec": {
      "display_name": "Python 3",
      "name": "python3"
    },
    "language_info": {
      "name": "python"
    },
    "accelerator": "GPU"
  },
  "nbformat": 4,
  "nbformat_minor": 0
}